{
  "metadata": {
    "kernelspec": {
      "language": "python",
      "display_name": "Python 3",
      "name": "python3"
    },
    "language_info": {
      "name": "python",
      "version": "3.10.10",
      "mimetype": "text/x-python",
      "codemirror_mode": {
        "name": "ipython",
        "version": 3
      },
      "pygments_lexer": "ipython3",
      "nbconvert_exporter": "python",
      "file_extension": ".py"
    },
    "colab": {
      "provenance": []
    }
  },
  "nbformat_minor": 0,
  "nbformat": 4,
  "cells": [
    {
      "cell_type": "markdown",
      "source": [
        "# **Movie Recommendation System**"
      ],
      "metadata": {
        "id": "SL3EEogw1cyZ"
      }
    },
    {
      "cell_type": "markdown",
      "source": [
        "**Recommender System** is a system that seeks to predict or filter preferences according to the user's choices. Recommender systems are utilized in a variety of areas including movies, music, news, books, research articles, search queries, social tags, and products in general. Recommender systems produce a list of recommendations in any of the two ways -\n",
        "\n",
        "**Collaborative filtering:** Collaborative filtering approaches build a model from the user's past behavior (i.e. items purchased or searched by the user) as well as similar decisions made by other users. This model is then used to predict items(or ratings for items) that users may have an interest in.\n",
        "\n",
        "**Content-based filtering:** Content-base filtering approaches uses a series of discrete characteristics of an item in order to recommend additional items with similar properties. Content-based filtering methods are totally based on a description of the item and a profile of the user's preferences. It recommends items based on the user's past preferences. Let's develop a basic recommendation system using Python and Pandas.\n",
        "\n",
        "Let's develop a basic recommendation system by suggesting items that are most similar to a particular item, in this case, movies. It just tells what movies/items are most similar to the user's movie choice."
      ],
      "metadata": {
        "id": "r805Ctn71cyb"
      }
    },
    {
      "cell_type": "markdown",
      "source": [
        "# **Import Library**"
      ],
      "metadata": {
        "id": "CzwYevZB1cyc"
      }
    },
    {
      "cell_type": "code",
      "source": [
        "import pandas as pd"
      ],
      "metadata": {
        "execution": {
          "iopub.status.busy": "2023-05-17T19:24:36.084784Z",
          "iopub.execute_input": "2023-05-17T19:24:36.085212Z",
          "iopub.status.idle": "2023-05-17T19:24:36.091535Z",
          "shell.execute_reply.started": "2023-05-17T19:24:36.085165Z",
          "shell.execute_reply": "2023-05-17T19:24:36.090333Z"
        },
        "trusted": true,
        "id": "XX2YDdll1cyd"
      },
      "execution_count": 212,
      "outputs": []
    },
    {
      "cell_type": "code",
      "source": [
        "import numpy as np"
      ],
      "metadata": {
        "execution": {
          "iopub.status.busy": "2023-05-17T19:24:36.094216Z",
          "iopub.execute_input": "2023-05-17T19:24:36.094713Z",
          "iopub.status.idle": "2023-05-17T19:24:36.112196Z",
          "shell.execute_reply.started": "2023-05-17T19:24:36.094667Z",
          "shell.execute_reply": "2023-05-17T19:24:36.111024Z"
        },
        "trusted": true,
        "id": "RABV1ajM1cyd"
      },
      "execution_count": 213,
      "outputs": []
    },
    {
      "cell_type": "markdown",
      "source": [
        "# **Import Dataset**"
      ],
      "metadata": {
        "id": "_Y3_hme91cye"
      }
    },
    {
      "cell_type": "code",
      "source": [
        "ms=pd.read_csv('/content/IMDB-Movie-Dataset(2024-1951).csv')"
      ],
      "metadata": {
        "execution": {
          "iopub.status.busy": "2023-05-17T19:24:36.113578Z",
          "iopub.execute_input": "2023-05-17T19:24:36.114517Z",
          "iopub.status.idle": "2023-05-17T19:24:36.741845Z",
          "shell.execute_reply.started": "2023-05-17T19:24:36.114477Z",
          "shell.execute_reply": "2023-05-17T19:24:36.740496Z"
        },
        "trusted": true,
        "id": "_ID-SeTY1cye"
      },
      "execution_count": 214,
      "outputs": []
    },
    {
      "cell_type": "code",
      "source": [
        "ms.head()"
      ],
      "metadata": {
        "execution": {
          "iopub.status.busy": "2023-05-17T19:24:36.743494Z",
          "iopub.execute_input": "2023-05-17T19:24:36.743930Z",
          "iopub.status.idle": "2023-05-17T19:24:36.776485Z",
          "shell.execute_reply.started": "2023-05-17T19:24:36.743879Z",
          "shell.execute_reply": "2023-05-17T19:24:36.775085Z"
        },
        "trusted": true,
        "colab": {
          "base_uri": "https://localhost:8080/",
          "height": 293
        },
        "id": "VHnWAKce1cye",
        "outputId": "53179ef5-1014-40d0-a0c7-0071fc634233"
      },
      "execution_count": 215,
      "outputs": [
        {
          "output_type": "execute_result",
          "data": {
            "text/plain": [
              "   id  movie_id                       movie_name  year                  genre  \\\n",
              "0   0  15354916                            Jawan  2023       Action, Thriller   \n",
              "1   1  15748830                       Jaane Jaan  2023  Crime, Drama, Mystery   \n",
              "2   2  11663228                           Jailer  2023  Action, Comedy, Crime   \n",
              "3   3  14993250  Rocky Aur Rani Kii Prem Kahaani  2023  Comedy, Drama, Family   \n",
              "4   4  15732324                            OMG 2  2023          Comedy, Drama   \n",
              "\n",
              "                                            overview           director  \\\n",
              "0  A high-octane action thriller which outlines t...              Atlee   \n",
              "1  A single mother and her daughter who commit a ...        Sujoy Ghosh   \n",
              "2  A retired jailer goes on a manhunt to find his...  Nelson Dilipkumar   \n",
              "3  Flamboyant Punjabi Rocky and intellectual Beng...        Karan Johar   \n",
              "4  An unhappy civilian asks the court to mandate ...           Amit Rai   \n",
              "\n",
              "                                                cast  \n",
              "0  Shah Rukh Khan, Nayanthara, Vijay Sethupathi, ...  \n",
              "1  Kareena Kapoor, Jaideep Ahlawat, Vijay Varma, ...  \n",
              "2  Rajinikanth, Mohanlal, Shivarajkumar, Jackie S...  \n",
              "3  Ranveer Singh, Alia Bha0, Dharmendra, Shabana ...  \n",
              "4  Pankaj Tripathi, Akshay Kumar, Yami Gautam, Pa...  "
            ],
            "text/html": [
              "\n",
              "  <div id=\"df-61db7eb4-2fb4-4cad-ba7f-fcf0b80390f9\" class=\"colab-df-container\">\n",
              "    <div>\n",
              "<style scoped>\n",
              "    .dataframe tbody tr th:only-of-type {\n",
              "        vertical-align: middle;\n",
              "    }\n",
              "\n",
              "    .dataframe tbody tr th {\n",
              "        vertical-align: top;\n",
              "    }\n",
              "\n",
              "    .dataframe thead th {\n",
              "        text-align: right;\n",
              "    }\n",
              "</style>\n",
              "<table border=\"1\" class=\"dataframe\">\n",
              "  <thead>\n",
              "    <tr style=\"text-align: right;\">\n",
              "      <th></th>\n",
              "      <th>id</th>\n",
              "      <th>movie_id</th>\n",
              "      <th>movie_name</th>\n",
              "      <th>year</th>\n",
              "      <th>genre</th>\n",
              "      <th>overview</th>\n",
              "      <th>director</th>\n",
              "      <th>cast</th>\n",
              "    </tr>\n",
              "  </thead>\n",
              "  <tbody>\n",
              "    <tr>\n",
              "      <th>0</th>\n",
              "      <td>0</td>\n",
              "      <td>15354916</td>\n",
              "      <td>Jawan</td>\n",
              "      <td>2023</td>\n",
              "      <td>Action, Thriller</td>\n",
              "      <td>A high-octane action thriller which outlines t...</td>\n",
              "      <td>Atlee</td>\n",
              "      <td>Shah Rukh Khan, Nayanthara, Vijay Sethupathi, ...</td>\n",
              "    </tr>\n",
              "    <tr>\n",
              "      <th>1</th>\n",
              "      <td>1</td>\n",
              "      <td>15748830</td>\n",
              "      <td>Jaane Jaan</td>\n",
              "      <td>2023</td>\n",
              "      <td>Crime, Drama, Mystery</td>\n",
              "      <td>A single mother and her daughter who commit a ...</td>\n",
              "      <td>Sujoy Ghosh</td>\n",
              "      <td>Kareena Kapoor, Jaideep Ahlawat, Vijay Varma, ...</td>\n",
              "    </tr>\n",
              "    <tr>\n",
              "      <th>2</th>\n",
              "      <td>2</td>\n",
              "      <td>11663228</td>\n",
              "      <td>Jailer</td>\n",
              "      <td>2023</td>\n",
              "      <td>Action, Comedy, Crime</td>\n",
              "      <td>A retired jailer goes on a manhunt to find his...</td>\n",
              "      <td>Nelson Dilipkumar</td>\n",
              "      <td>Rajinikanth, Mohanlal, Shivarajkumar, Jackie S...</td>\n",
              "    </tr>\n",
              "    <tr>\n",
              "      <th>3</th>\n",
              "      <td>3</td>\n",
              "      <td>14993250</td>\n",
              "      <td>Rocky Aur Rani Kii Prem Kahaani</td>\n",
              "      <td>2023</td>\n",
              "      <td>Comedy, Drama, Family</td>\n",
              "      <td>Flamboyant Punjabi Rocky and intellectual Beng...</td>\n",
              "      <td>Karan Johar</td>\n",
              "      <td>Ranveer Singh, Alia Bha0, Dharmendra, Shabana ...</td>\n",
              "    </tr>\n",
              "    <tr>\n",
              "      <th>4</th>\n",
              "      <td>4</td>\n",
              "      <td>15732324</td>\n",
              "      <td>OMG 2</td>\n",
              "      <td>2023</td>\n",
              "      <td>Comedy, Drama</td>\n",
              "      <td>An unhappy civilian asks the court to mandate ...</td>\n",
              "      <td>Amit Rai</td>\n",
              "      <td>Pankaj Tripathi, Akshay Kumar, Yami Gautam, Pa...</td>\n",
              "    </tr>\n",
              "  </tbody>\n",
              "</table>\n",
              "</div>\n",
              "    <div class=\"colab-df-buttons\">\n",
              "\n",
              "  <div class=\"colab-df-container\">\n",
              "    <button class=\"colab-df-convert\" onclick=\"convertToInteractive('df-61db7eb4-2fb4-4cad-ba7f-fcf0b80390f9')\"\n",
              "            title=\"Convert this dataframe to an interactive table.\"\n",
              "            style=\"display:none;\">\n",
              "\n",
              "  <svg xmlns=\"http://www.w3.org/2000/svg\" height=\"24px\" viewBox=\"0 -960 960 960\">\n",
              "    <path d=\"M120-120v-720h720v720H120Zm60-500h600v-160H180v160Zm220 220h160v-160H400v160Zm0 220h160v-160H400v160ZM180-400h160v-160H180v160Zm440 0h160v-160H620v160ZM180-180h160v-160H180v160Zm440 0h160v-160H620v160Z\"/>\n",
              "  </svg>\n",
              "    </button>\n",
              "\n",
              "  <style>\n",
              "    .colab-df-container {\n",
              "      display:flex;\n",
              "      gap: 12px;\n",
              "    }\n",
              "\n",
              "    .colab-df-convert {\n",
              "      background-color: #E8F0FE;\n",
              "      border: none;\n",
              "      border-radius: 50%;\n",
              "      cursor: pointer;\n",
              "      display: none;\n",
              "      fill: #1967D2;\n",
              "      height: 32px;\n",
              "      padding: 0 0 0 0;\n",
              "      width: 32px;\n",
              "    }\n",
              "\n",
              "    .colab-df-convert:hover {\n",
              "      background-color: #E2EBFA;\n",
              "      box-shadow: 0px 1px 2px rgba(60, 64, 67, 0.3), 0px 1px 3px 1px rgba(60, 64, 67, 0.15);\n",
              "      fill: #174EA6;\n",
              "    }\n",
              "\n",
              "    .colab-df-buttons div {\n",
              "      margin-bottom: 4px;\n",
              "    }\n",
              "\n",
              "    [theme=dark] .colab-df-convert {\n",
              "      background-color: #3B4455;\n",
              "      fill: #D2E3FC;\n",
              "    }\n",
              "\n",
              "    [theme=dark] .colab-df-convert:hover {\n",
              "      background-color: #434B5C;\n",
              "      box-shadow: 0px 1px 3px 1px rgba(0, 0, 0, 0.15);\n",
              "      filter: drop-shadow(0px 1px 2px rgba(0, 0, 0, 0.3));\n",
              "      fill: #FFFFFF;\n",
              "    }\n",
              "  </style>\n",
              "\n",
              "    <script>\n",
              "      const buttonEl =\n",
              "        document.querySelector('#df-61db7eb4-2fb4-4cad-ba7f-fcf0b80390f9 button.colab-df-convert');\n",
              "      buttonEl.style.display =\n",
              "        google.colab.kernel.accessAllowed ? 'block' : 'none';\n",
              "\n",
              "      async function convertToInteractive(key) {\n",
              "        const element = document.querySelector('#df-61db7eb4-2fb4-4cad-ba7f-fcf0b80390f9');\n",
              "        const dataTable =\n",
              "          await google.colab.kernel.invokeFunction('convertToInteractive',\n",
              "                                                    [key], {});\n",
              "        if (!dataTable) return;\n",
              "\n",
              "        const docLinkHtml = 'Like what you see? Visit the ' +\n",
              "          '<a target=\"_blank\" href=https://colab.research.google.com/notebooks/data_table.ipynb>data table notebook</a>'\n",
              "          + ' to learn more about interactive tables.';\n",
              "        element.innerHTML = '';\n",
              "        dataTable['output_type'] = 'display_data';\n",
              "        await google.colab.output.renderOutput(dataTable, element);\n",
              "        const docLink = document.createElement('div');\n",
              "        docLink.innerHTML = docLinkHtml;\n",
              "        element.appendChild(docLink);\n",
              "      }\n",
              "    </script>\n",
              "  </div>\n",
              "\n",
              "\n",
              "<div id=\"df-3e24a628-a38d-4696-8e03-7c2f863da405\">\n",
              "  <button class=\"colab-df-quickchart\" onclick=\"quickchart('df-3e24a628-a38d-4696-8e03-7c2f863da405')\"\n",
              "            title=\"Suggest charts\"\n",
              "            style=\"display:none;\">\n",
              "\n",
              "<svg xmlns=\"http://www.w3.org/2000/svg\" height=\"24px\"viewBox=\"0 0 24 24\"\n",
              "     width=\"24px\">\n",
              "    <g>\n",
              "        <path d=\"M19 3H5c-1.1 0-2 .9-2 2v14c0 1.1.9 2 2 2h14c1.1 0 2-.9 2-2V5c0-1.1-.9-2-2-2zM9 17H7v-7h2v7zm4 0h-2V7h2v10zm4 0h-2v-4h2v4z\"/>\n",
              "    </g>\n",
              "</svg>\n",
              "  </button>\n",
              "\n",
              "<style>\n",
              "  .colab-df-quickchart {\n",
              "      --bg-color: #E8F0FE;\n",
              "      --fill-color: #1967D2;\n",
              "      --hover-bg-color: #E2EBFA;\n",
              "      --hover-fill-color: #174EA6;\n",
              "      --disabled-fill-color: #AAA;\n",
              "      --disabled-bg-color: #DDD;\n",
              "  }\n",
              "\n",
              "  [theme=dark] .colab-df-quickchart {\n",
              "      --bg-color: #3B4455;\n",
              "      --fill-color: #D2E3FC;\n",
              "      --hover-bg-color: #434B5C;\n",
              "      --hover-fill-color: #FFFFFF;\n",
              "      --disabled-bg-color: #3B4455;\n",
              "      --disabled-fill-color: #666;\n",
              "  }\n",
              "\n",
              "  .colab-df-quickchart {\n",
              "    background-color: var(--bg-color);\n",
              "    border: none;\n",
              "    border-radius: 50%;\n",
              "    cursor: pointer;\n",
              "    display: none;\n",
              "    fill: var(--fill-color);\n",
              "    height: 32px;\n",
              "    padding: 0;\n",
              "    width: 32px;\n",
              "  }\n",
              "\n",
              "  .colab-df-quickchart:hover {\n",
              "    background-color: var(--hover-bg-color);\n",
              "    box-shadow: 0 1px 2px rgba(60, 64, 67, 0.3), 0 1px 3px 1px rgba(60, 64, 67, 0.15);\n",
              "    fill: var(--button-hover-fill-color);\n",
              "  }\n",
              "\n",
              "  .colab-df-quickchart-complete:disabled,\n",
              "  .colab-df-quickchart-complete:disabled:hover {\n",
              "    background-color: var(--disabled-bg-color);\n",
              "    fill: var(--disabled-fill-color);\n",
              "    box-shadow: none;\n",
              "  }\n",
              "\n",
              "  .colab-df-spinner {\n",
              "    border: 2px solid var(--fill-color);\n",
              "    border-color: transparent;\n",
              "    border-bottom-color: var(--fill-color);\n",
              "    animation:\n",
              "      spin 1s steps(1) infinite;\n",
              "  }\n",
              "\n",
              "  @keyframes spin {\n",
              "    0% {\n",
              "      border-color: transparent;\n",
              "      border-bottom-color: var(--fill-color);\n",
              "      border-left-color: var(--fill-color);\n",
              "    }\n",
              "    20% {\n",
              "      border-color: transparent;\n",
              "      border-left-color: var(--fill-color);\n",
              "      border-top-color: var(--fill-color);\n",
              "    }\n",
              "    30% {\n",
              "      border-color: transparent;\n",
              "      border-left-color: var(--fill-color);\n",
              "      border-top-color: var(--fill-color);\n",
              "      border-right-color: var(--fill-color);\n",
              "    }\n",
              "    40% {\n",
              "      border-color: transparent;\n",
              "      border-right-color: var(--fill-color);\n",
              "      border-top-color: var(--fill-color);\n",
              "    }\n",
              "    60% {\n",
              "      border-color: transparent;\n",
              "      border-right-color: var(--fill-color);\n",
              "    }\n",
              "    80% {\n",
              "      border-color: transparent;\n",
              "      border-right-color: var(--fill-color);\n",
              "      border-bottom-color: var(--fill-color);\n",
              "    }\n",
              "    90% {\n",
              "      border-color: transparent;\n",
              "      border-bottom-color: var(--fill-color);\n",
              "    }\n",
              "  }\n",
              "</style>\n",
              "\n",
              "  <script>\n",
              "    async function quickchart(key) {\n",
              "      const quickchartButtonEl =\n",
              "        document.querySelector('#' + key + ' button');\n",
              "      quickchartButtonEl.disabled = true;  // To prevent multiple clicks.\n",
              "      quickchartButtonEl.classList.add('colab-df-spinner');\n",
              "      try {\n",
              "        const charts = await google.colab.kernel.invokeFunction(\n",
              "            'suggestCharts', [key], {});\n",
              "      } catch (error) {\n",
              "        console.error('Error during call to suggestCharts:', error);\n",
              "      }\n",
              "      quickchartButtonEl.classList.remove('colab-df-spinner');\n",
              "      quickchartButtonEl.classList.add('colab-df-quickchart-complete');\n",
              "    }\n",
              "    (() => {\n",
              "      let quickchartButtonEl =\n",
              "        document.querySelector('#df-3e24a628-a38d-4696-8e03-7c2f863da405 button');\n",
              "      quickchartButtonEl.style.display =\n",
              "        google.colab.kernel.accessAllowed ? 'block' : 'none';\n",
              "    })();\n",
              "  </script>\n",
              "</div>\n",
              "\n",
              "    </div>\n",
              "  </div>\n"
            ],
            "application/vnd.google.colaboratory.intrinsic+json": {
              "type": "dataframe",
              "variable_name": "ms",
              "summary": "{\n  \"name\": \"ms\",\n  \"rows\": 2199,\n  \"fields\": [\n    {\n      \"column\": \"id\",\n      \"properties\": {\n        \"dtype\": \"number\",\n        \"std\": 635,\n        \"min\": 0,\n        \"max\": 2199,\n        \"num_unique_values\": 2199,\n        \"samples\": [\n          427,\n          1128,\n          367\n        ],\n        \"semantic_type\": \"\",\n        \"description\": \"\"\n      }\n    },\n    {\n      \"column\": \"movie_id\",\n      \"properties\": {\n        \"dtype\": \"number\",\n        \"std\": 7313062,\n        \"min\": 43306,\n        \"max\": 29169633,\n        \"num_unique_values\": 2199,\n        \"samples\": [\n          15163652,\n          27613132,\n          920464\n        ],\n        \"semantic_type\": \"\",\n        \"description\": \"\"\n      }\n    },\n    {\n      \"column\": \"movie_name\",\n      \"properties\": {\n        \"dtype\": \"string\",\n        \"num_unique_values\": 2161,\n        \"samples\": [\n          \"The Xpose\",\n          \"Suraj Pe Mangal Bhari\",\n          \"Refugee\"\n        ],\n        \"semantic_type\": \"\",\n        \"description\": \"\"\n      }\n    },\n    {\n      \"column\": \"year\",\n      \"properties\": {\n        \"dtype\": \"category\",\n        \"num_unique_values\": 84,\n        \"samples\": [\n          \"1932\",\n          \"2023\",\n          \"1966\"\n        ],\n        \"semantic_type\": \"\",\n        \"description\": \"\"\n      }\n    },\n    {\n      \"column\": \"genre\",\n      \"properties\": {\n        \"dtype\": \"category\",\n        \"num_unique_values\": 225,\n        \"samples\": [\n          \"Action, Drama, History\",\n          \"Adventure, Drama, Musical\",\n          \"Comedy, Crime, Mystery\"\n        ],\n        \"semantic_type\": \"\",\n        \"description\": \"\"\n      }\n    },\n    {\n      \"column\": \"overview\",\n      \"properties\": {\n        \"dtype\": \"string\",\n        \"num_unique_values\": 2120,\n        \"samples\": [\n          \"When a young man from a small town decides to make it big in a city, he faces several challenges.\",\n          \"The film which is based on the life on an Indian scientist Shivkar Bapuji Talpade, who is credited to have constructed India's first unmanned plane is the tale of the hardships that he went...                See full summary\\u00a0\\u00bb\",\n          \"An NRI and his wife decide to stay in his ancestral home, paying no heed to the warnings about ghosts. Soon, inexplicable occurrences cause him to call a psychiatrist to help solve the mystery.\"\n        ],\n        \"semantic_type\": \"\",\n        \"description\": \"\"\n      }\n    },\n    {\n      \"column\": \"director\",\n      \"properties\": {\n        \"dtype\": \"category\",\n        \"num_unique_values\": 1064,\n        \"samples\": [\n          \"Maneesh Sharma\",\n          \"Latif Faiziyev, Umesh Mehra\",\n          \"Robert Lieberman\"\n        ],\n        \"semantic_type\": \"\",\n        \"description\": \"\"\n      }\n    },\n    {\n      \"column\": \"cast\",\n      \"properties\": {\n        \"dtype\": \"string\",\n        \"num_unique_values\": 2178,\n        \"samples\": [\n          \"Rajinikanth, Akshay Kumar, Amy Jackson, Adil Hussain\",\n          \"Aamir Khan, Urmila Matondkar, Jackie Shroff, Gulshan Grover\",\n          \"Shammi Kapoor, Nanda Karnataki, Tanuja Samarth, Vijayendra Ghatge\"\n        ],\n        \"semantic_type\": \"\",\n        \"description\": \"\"\n      }\n    }\n  ]\n}"
            }
          },
          "metadata": {},
          "execution_count": 215
        }
      ]
    },
    {
      "cell_type": "code",
      "source": [
        "ms.info()"
      ],
      "metadata": {
        "execution": {
          "iopub.status.busy": "2023-05-17T19:24:36.779355Z",
          "iopub.execute_input": "2023-05-17T19:24:36.779739Z",
          "iopub.status.idle": "2023-05-17T19:24:36.821637Z",
          "shell.execute_reply.started": "2023-05-17T19:24:36.779704Z",
          "shell.execute_reply": "2023-05-17T19:24:36.819649Z"
        },
        "trusted": true,
        "colab": {
          "base_uri": "https://localhost:8080/"
        },
        "id": "ZPHtyg3k1cyf",
        "outputId": "9c70efce-54bf-468f-eb0f-459e32e3b45c"
      },
      "execution_count": 216,
      "outputs": [
        {
          "output_type": "stream",
          "name": "stdout",
          "text": [
            "<class 'pandas.core.frame.DataFrame'>\n",
            "RangeIndex: 2199 entries, 0 to 2198\n",
            "Data columns (total 8 columns):\n",
            " #   Column      Non-Null Count  Dtype \n",
            "---  ------      --------------  ----- \n",
            " 0   id          2199 non-null   int64 \n",
            " 1   movie_id    2199 non-null   int64 \n",
            " 2   movie_name  2199 non-null   object\n",
            " 3   year        2134 non-null   object\n",
            " 4   genre       2199 non-null   object\n",
            " 5   overview    2199 non-null   object\n",
            " 6   director    2199 non-null   object\n",
            " 7   cast        2199 non-null   object\n",
            "dtypes: int64(2), object(6)\n",
            "memory usage: 137.6+ KB\n"
          ]
        }
      ]
    },
    {
      "cell_type": "code",
      "source": [
        "ms.shape"
      ],
      "metadata": {
        "execution": {
          "iopub.status.busy": "2023-05-17T19:24:36.824257Z",
          "iopub.execute_input": "2023-05-17T19:24:36.826370Z",
          "iopub.status.idle": "2023-05-17T19:24:36.833676Z",
          "shell.execute_reply.started": "2023-05-17T19:24:36.826318Z",
          "shell.execute_reply": "2023-05-17T19:24:36.832486Z"
        },
        "trusted": true,
        "colab": {
          "base_uri": "https://localhost:8080/"
        },
        "id": "7A6yX1It1cyf",
        "outputId": "57b9168a-9b89-4c9f-97ab-aff13c85281b"
      },
      "execution_count": 217,
      "outputs": [
        {
          "output_type": "execute_result",
          "data": {
            "text/plain": [
              "(2199, 8)"
            ]
          },
          "metadata": {},
          "execution_count": 217
        }
      ]
    },
    {
      "cell_type": "code",
      "source": [
        "ms.columns"
      ],
      "metadata": {
        "execution": {
          "iopub.status.busy": "2023-05-17T19:24:36.835185Z",
          "iopub.execute_input": "2023-05-17T19:24:36.835537Z",
          "iopub.status.idle": "2023-05-17T19:24:36.887997Z",
          "shell.execute_reply.started": "2023-05-17T19:24:36.835505Z",
          "shell.execute_reply": "2023-05-17T19:24:36.886785Z"
        },
        "trusted": true,
        "colab": {
          "base_uri": "https://localhost:8080/"
        },
        "id": "mMY5P8Ua1cyf",
        "outputId": "86fa1938-4e1b-4ee2-846a-7f9ff8982aa1"
      },
      "execution_count": 218,
      "outputs": [
        {
          "output_type": "execute_result",
          "data": {
            "text/plain": [
              "Index(['id', 'movie_id', 'movie_name', 'year', 'genre', 'overview', 'director',\n",
              "       'cast'],\n",
              "      dtype='object')"
            ]
          },
          "metadata": {},
          "execution_count": 218
        }
      ]
    },
    {
      "cell_type": "markdown",
      "source": [
        "# **Get Feature Selection**"
      ],
      "metadata": {
        "id": "JjHjSgTx1cyf"
      }
    },
    {
      "cell_type": "code",
      "source": [
        "movie_features = ms[[ 'genre', 'overview','director', 'cast']].fillna('')"
      ],
      "metadata": {
        "execution": {
          "iopub.status.busy": "2023-05-17T19:24:36.889832Z",
          "iopub.execute_input": "2023-05-17T19:24:36.890208Z",
          "iopub.status.idle": "2023-05-17T19:24:36.913877Z",
          "shell.execute_reply.started": "2023-05-17T19:24:36.890158Z",
          "shell.execute_reply": "2023-05-17T19:24:36.912891Z"
        },
        "trusted": true,
        "id": "D1z1Uwo61cyg"
      },
      "execution_count": null,
      "outputs": []
    },
    {
      "cell_type": "markdown",
      "source": [
        "Selected five existing features to recommend movies. It may vary from one project to another. Like one can add vote counts, budget, language, etc."
      ],
      "metadata": {
        "id": "SJbg7-zp1cyg"
      }
    },
    {
      "cell_type": "code",
      "source": [
        "movie_features.shape"
      ],
      "metadata": {
        "execution": {
          "iopub.status.busy": "2023-05-17T19:24:36.915366Z",
          "iopub.execute_input": "2023-05-17T19:24:36.915756Z",
          "iopub.status.idle": "2023-05-17T19:24:36.928685Z",
          "shell.execute_reply.started": "2023-05-17T19:24:36.915721Z",
          "shell.execute_reply": "2023-05-17T19:24:36.926687Z"
        },
        "trusted": true,
        "colab": {
          "base_uri": "https://localhost:8080/"
        },
        "id": "VRkWXwDX1cyg",
        "outputId": "269d0196-e31d-4a68-9324-42262595c571"
      },
      "execution_count": 219,
      "outputs": [
        {
          "output_type": "execute_result",
          "data": {
            "text/plain": [
              "(2199, 4)"
            ]
          },
          "metadata": {},
          "execution_count": 219
        }
      ]
    },
    {
      "cell_type": "code",
      "source": [
        "movie_features"
      ],
      "metadata": {
        "execution": {
          "iopub.status.busy": "2023-05-17T19:24:36.931198Z",
          "iopub.execute_input": "2023-05-17T19:24:36.932303Z",
          "iopub.status.idle": "2023-05-17T19:24:36.960993Z",
          "shell.execute_reply.started": "2023-05-17T19:24:36.932188Z",
          "shell.execute_reply": "2023-05-17T19:24:36.959208Z"
        },
        "trusted": true,
        "colab": {
          "base_uri": "https://localhost:8080/",
          "height": 423
        },
        "id": "X6c_mJ811cyh",
        "outputId": "3f5a0fb1-5c1e-49fa-d9cc-6928598fe13e"
      },
      "execution_count": 220,
      "outputs": [
        {
          "output_type": "execute_result",
          "data": {
            "text/plain": [
              "                        genre  \\\n",
              "0            Action, Thriller   \n",
              "1       Crime, Drama, Mystery   \n",
              "2       Action, Comedy, Crime   \n",
              "3       Comedy, Drama, Family   \n",
              "4               Comedy, Drama   \n",
              "...                       ...   \n",
              "2194                 Thriller   \n",
              "2195  Drama, Musical, Romance   \n",
              "2196         Musical, Romance   \n",
              "2197   Drama, Family, Fantasy   \n",
              "2198    Action, Comedy, Drama   \n",
              "\n",
              "                                               overview           director  \\\n",
              "0     A high-octane action thriller which outlines t...              Atlee   \n",
              "1     A single mother and her daughter who commit a ...        Sujoy Ghosh   \n",
              "2     A retired jailer goes on a manhunt to find his...  Nelson Dilipkumar   \n",
              "3     Flamboyant Punjabi Rocky and intellectual Beng...        Karan Johar   \n",
              "4     An unhappy civilian asks the court to mandate ...           Amit Rai   \n",
              "...                                                 ...                ...   \n",
              "2194                                         Add a Plot       Subhash Ghai   \n",
              "2195  A renowned music teacher mentors a promising y...     Tanuja Chandra   \n",
              "2196  When a ballroom dancer's shot at a crucial tou...    Stanley D'Costa   \n",
              "2197  After the tragic deaths of his son Ajit and da...   Harmesh Malhotra   \n",
              "2198  Raj is a successful lawyer due to constant che...       David Dhawan   \n",
              "\n",
              "                                                   cast  \n",
              "0     Shah Rukh Khan, Nayanthara, Vijay Sethupathi, ...  \n",
              "1     Kareena Kapoor, Jaideep Ahlawat, Vijay Varma, ...  \n",
              "2     Rajinikanth, Mohanlal, Shivarajkumar, Jackie S...  \n",
              "3     Ranveer Singh, Alia Bhatt, Dharmendra, Shabana...  \n",
              "4     Pankaj Tripathi, Akshay Kumar, Yami Gautam, Pa...  \n",
              "...                                                 ...  \n",
              "2194  Shatrughan Sinha, Reena Roy, Ajit Khan, Premna...  \n",
              "2195   Lucky Ali, Simone Singh, Achint Kaur, Ehsan Khan  \n",
              "2196  Sooraj Pancholi, Isabelle Kaif, Waluscha D'Sou...  \n",
              "2197   Sunny Deol, Sridevi, Anupam Kher, Gulshan Grover  \n",
              "2198         Govinda, Sushmita Sen, Rambha, Anupam Kher  \n",
              "\n",
              "[2199 rows x 4 columns]"
            ],
            "text/html": [
              "\n",
              "  <div id=\"df-43b4f705-5a8e-43ae-acf1-68dbe4ae4a3f\" class=\"colab-df-container\">\n",
              "    <div>\n",
              "<style scoped>\n",
              "    .dataframe tbody tr th:only-of-type {\n",
              "        vertical-align: middle;\n",
              "    }\n",
              "\n",
              "    .dataframe tbody tr th {\n",
              "        vertical-align: top;\n",
              "    }\n",
              "\n",
              "    .dataframe thead th {\n",
              "        text-align: right;\n",
              "    }\n",
              "</style>\n",
              "<table border=\"1\" class=\"dataframe\">\n",
              "  <thead>\n",
              "    <tr style=\"text-align: right;\">\n",
              "      <th></th>\n",
              "      <th>genre</th>\n",
              "      <th>overview</th>\n",
              "      <th>director</th>\n",
              "      <th>cast</th>\n",
              "    </tr>\n",
              "  </thead>\n",
              "  <tbody>\n",
              "    <tr>\n",
              "      <th>0</th>\n",
              "      <td>Action, Thriller</td>\n",
              "      <td>A high-octane action thriller which outlines t...</td>\n",
              "      <td>Atlee</td>\n",
              "      <td>Shah Rukh Khan, Nayanthara, Vijay Sethupathi, ...</td>\n",
              "    </tr>\n",
              "    <tr>\n",
              "      <th>1</th>\n",
              "      <td>Crime, Drama, Mystery</td>\n",
              "      <td>A single mother and her daughter who commit a ...</td>\n",
              "      <td>Sujoy Ghosh</td>\n",
              "      <td>Kareena Kapoor, Jaideep Ahlawat, Vijay Varma, ...</td>\n",
              "    </tr>\n",
              "    <tr>\n",
              "      <th>2</th>\n",
              "      <td>Action, Comedy, Crime</td>\n",
              "      <td>A retired jailer goes on a manhunt to find his...</td>\n",
              "      <td>Nelson Dilipkumar</td>\n",
              "      <td>Rajinikanth, Mohanlal, Shivarajkumar, Jackie S...</td>\n",
              "    </tr>\n",
              "    <tr>\n",
              "      <th>3</th>\n",
              "      <td>Comedy, Drama, Family</td>\n",
              "      <td>Flamboyant Punjabi Rocky and intellectual Beng...</td>\n",
              "      <td>Karan Johar</td>\n",
              "      <td>Ranveer Singh, Alia Bhatt, Dharmendra, Shabana...</td>\n",
              "    </tr>\n",
              "    <tr>\n",
              "      <th>4</th>\n",
              "      <td>Comedy, Drama</td>\n",
              "      <td>An unhappy civilian asks the court to mandate ...</td>\n",
              "      <td>Amit Rai</td>\n",
              "      <td>Pankaj Tripathi, Akshay Kumar, Yami Gautam, Pa...</td>\n",
              "    </tr>\n",
              "    <tr>\n",
              "      <th>...</th>\n",
              "      <td>...</td>\n",
              "      <td>...</td>\n",
              "      <td>...</td>\n",
              "      <td>...</td>\n",
              "    </tr>\n",
              "    <tr>\n",
              "      <th>2194</th>\n",
              "      <td>Thriller</td>\n",
              "      <td>Add a Plot</td>\n",
              "      <td>Subhash Ghai</td>\n",
              "      <td>Shatrughan Sinha, Reena Roy, Ajit Khan, Premna...</td>\n",
              "    </tr>\n",
              "    <tr>\n",
              "      <th>2195</th>\n",
              "      <td>Drama, Musical, Romance</td>\n",
              "      <td>A renowned music teacher mentors a promising y...</td>\n",
              "      <td>Tanuja Chandra</td>\n",
              "      <td>Lucky Ali, Simone Singh, Achint Kaur, Ehsan Khan</td>\n",
              "    </tr>\n",
              "    <tr>\n",
              "      <th>2196</th>\n",
              "      <td>Musical, Romance</td>\n",
              "      <td>When a ballroom dancer's shot at a crucial tou...</td>\n",
              "      <td>Stanley D'Costa</td>\n",
              "      <td>Sooraj Pancholi, Isabelle Kaif, Waluscha D'Sou...</td>\n",
              "    </tr>\n",
              "    <tr>\n",
              "      <th>2197</th>\n",
              "      <td>Drama, Family, Fantasy</td>\n",
              "      <td>After the tragic deaths of his son Ajit and da...</td>\n",
              "      <td>Harmesh Malhotra</td>\n",
              "      <td>Sunny Deol, Sridevi, Anupam Kher, Gulshan Grover</td>\n",
              "    </tr>\n",
              "    <tr>\n",
              "      <th>2198</th>\n",
              "      <td>Action, Comedy, Drama</td>\n",
              "      <td>Raj is a successful lawyer due to constant che...</td>\n",
              "      <td>David Dhawan</td>\n",
              "      <td>Govinda, Sushmita Sen, Rambha, Anupam Kher</td>\n",
              "    </tr>\n",
              "  </tbody>\n",
              "</table>\n",
              "<p>2199 rows × 4 columns</p>\n",
              "</div>\n",
              "    <div class=\"colab-df-buttons\">\n",
              "\n",
              "  <div class=\"colab-df-container\">\n",
              "    <button class=\"colab-df-convert\" onclick=\"convertToInteractive('df-43b4f705-5a8e-43ae-acf1-68dbe4ae4a3f')\"\n",
              "            title=\"Convert this dataframe to an interactive table.\"\n",
              "            style=\"display:none;\">\n",
              "\n",
              "  <svg xmlns=\"http://www.w3.org/2000/svg\" height=\"24px\" viewBox=\"0 -960 960 960\">\n",
              "    <path d=\"M120-120v-720h720v720H120Zm60-500h600v-160H180v160Zm220 220h160v-160H400v160Zm0 220h160v-160H400v160ZM180-400h160v-160H180v160Zm440 0h160v-160H620v160ZM180-180h160v-160H180v160Zm440 0h160v-160H620v160Z\"/>\n",
              "  </svg>\n",
              "    </button>\n",
              "\n",
              "  <style>\n",
              "    .colab-df-container {\n",
              "      display:flex;\n",
              "      gap: 12px;\n",
              "    }\n",
              "\n",
              "    .colab-df-convert {\n",
              "      background-color: #E8F0FE;\n",
              "      border: none;\n",
              "      border-radius: 50%;\n",
              "      cursor: pointer;\n",
              "      display: none;\n",
              "      fill: #1967D2;\n",
              "      height: 32px;\n",
              "      padding: 0 0 0 0;\n",
              "      width: 32px;\n",
              "    }\n",
              "\n",
              "    .colab-df-convert:hover {\n",
              "      background-color: #E2EBFA;\n",
              "      box-shadow: 0px 1px 2px rgba(60, 64, 67, 0.3), 0px 1px 3px 1px rgba(60, 64, 67, 0.15);\n",
              "      fill: #174EA6;\n",
              "    }\n",
              "\n",
              "    .colab-df-buttons div {\n",
              "      margin-bottom: 4px;\n",
              "    }\n",
              "\n",
              "    [theme=dark] .colab-df-convert {\n",
              "      background-color: #3B4455;\n",
              "      fill: #D2E3FC;\n",
              "    }\n",
              "\n",
              "    [theme=dark] .colab-df-convert:hover {\n",
              "      background-color: #434B5C;\n",
              "      box-shadow: 0px 1px 3px 1px rgba(0, 0, 0, 0.15);\n",
              "      filter: drop-shadow(0px 1px 2px rgba(0, 0, 0, 0.3));\n",
              "      fill: #FFFFFF;\n",
              "    }\n",
              "  </style>\n",
              "\n",
              "    <script>\n",
              "      const buttonEl =\n",
              "        document.querySelector('#df-43b4f705-5a8e-43ae-acf1-68dbe4ae4a3f button.colab-df-convert');\n",
              "      buttonEl.style.display =\n",
              "        google.colab.kernel.accessAllowed ? 'block' : 'none';\n",
              "\n",
              "      async function convertToInteractive(key) {\n",
              "        const element = document.querySelector('#df-43b4f705-5a8e-43ae-acf1-68dbe4ae4a3f');\n",
              "        const dataTable =\n",
              "          await google.colab.kernel.invokeFunction('convertToInteractive',\n",
              "                                                    [key], {});\n",
              "        if (!dataTable) return;\n",
              "\n",
              "        const docLinkHtml = 'Like what you see? Visit the ' +\n",
              "          '<a target=\"_blank\" href=https://colab.research.google.com/notebooks/data_table.ipynb>data table notebook</a>'\n",
              "          + ' to learn more about interactive tables.';\n",
              "        element.innerHTML = '';\n",
              "        dataTable['output_type'] = 'display_data';\n",
              "        await google.colab.output.renderOutput(dataTable, element);\n",
              "        const docLink = document.createElement('div');\n",
              "        docLink.innerHTML = docLinkHtml;\n",
              "        element.appendChild(docLink);\n",
              "      }\n",
              "    </script>\n",
              "  </div>\n",
              "\n",
              "\n",
              "<div id=\"df-d9f73472-8e98-4d70-9a2d-e35e89ca78fe\">\n",
              "  <button class=\"colab-df-quickchart\" onclick=\"quickchart('df-d9f73472-8e98-4d70-9a2d-e35e89ca78fe')\"\n",
              "            title=\"Suggest charts\"\n",
              "            style=\"display:none;\">\n",
              "\n",
              "<svg xmlns=\"http://www.w3.org/2000/svg\" height=\"24px\"viewBox=\"0 0 24 24\"\n",
              "     width=\"24px\">\n",
              "    <g>\n",
              "        <path d=\"M19 3H5c-1.1 0-2 .9-2 2v14c0 1.1.9 2 2 2h14c1.1 0 2-.9 2-2V5c0-1.1-.9-2-2-2zM9 17H7v-7h2v7zm4 0h-2V7h2v10zm4 0h-2v-4h2v4z\"/>\n",
              "    </g>\n",
              "</svg>\n",
              "  </button>\n",
              "\n",
              "<style>\n",
              "  .colab-df-quickchart {\n",
              "      --bg-color: #E8F0FE;\n",
              "      --fill-color: #1967D2;\n",
              "      --hover-bg-color: #E2EBFA;\n",
              "      --hover-fill-color: #174EA6;\n",
              "      --disabled-fill-color: #AAA;\n",
              "      --disabled-bg-color: #DDD;\n",
              "  }\n",
              "\n",
              "  [theme=dark] .colab-df-quickchart {\n",
              "      --bg-color: #3B4455;\n",
              "      --fill-color: #D2E3FC;\n",
              "      --hover-bg-color: #434B5C;\n",
              "      --hover-fill-color: #FFFFFF;\n",
              "      --disabled-bg-color: #3B4455;\n",
              "      --disabled-fill-color: #666;\n",
              "  }\n",
              "\n",
              "  .colab-df-quickchart {\n",
              "    background-color: var(--bg-color);\n",
              "    border: none;\n",
              "    border-radius: 50%;\n",
              "    cursor: pointer;\n",
              "    display: none;\n",
              "    fill: var(--fill-color);\n",
              "    height: 32px;\n",
              "    padding: 0;\n",
              "    width: 32px;\n",
              "  }\n",
              "\n",
              "  .colab-df-quickchart:hover {\n",
              "    background-color: var(--hover-bg-color);\n",
              "    box-shadow: 0 1px 2px rgba(60, 64, 67, 0.3), 0 1px 3px 1px rgba(60, 64, 67, 0.15);\n",
              "    fill: var(--button-hover-fill-color);\n",
              "  }\n",
              "\n",
              "  .colab-df-quickchart-complete:disabled,\n",
              "  .colab-df-quickchart-complete:disabled:hover {\n",
              "    background-color: var(--disabled-bg-color);\n",
              "    fill: var(--disabled-fill-color);\n",
              "    box-shadow: none;\n",
              "  }\n",
              "\n",
              "  .colab-df-spinner {\n",
              "    border: 2px solid var(--fill-color);\n",
              "    border-color: transparent;\n",
              "    border-bottom-color: var(--fill-color);\n",
              "    animation:\n",
              "      spin 1s steps(1) infinite;\n",
              "  }\n",
              "\n",
              "  @keyframes spin {\n",
              "    0% {\n",
              "      border-color: transparent;\n",
              "      border-bottom-color: var(--fill-color);\n",
              "      border-left-color: var(--fill-color);\n",
              "    }\n",
              "    20% {\n",
              "      border-color: transparent;\n",
              "      border-left-color: var(--fill-color);\n",
              "      border-top-color: var(--fill-color);\n",
              "    }\n",
              "    30% {\n",
              "      border-color: transparent;\n",
              "      border-left-color: var(--fill-color);\n",
              "      border-top-color: var(--fill-color);\n",
              "      border-right-color: var(--fill-color);\n",
              "    }\n",
              "    40% {\n",
              "      border-color: transparent;\n",
              "      border-right-color: var(--fill-color);\n",
              "      border-top-color: var(--fill-color);\n",
              "    }\n",
              "    60% {\n",
              "      border-color: transparent;\n",
              "      border-right-color: var(--fill-color);\n",
              "    }\n",
              "    80% {\n",
              "      border-color: transparent;\n",
              "      border-right-color: var(--fill-color);\n",
              "      border-bottom-color: var(--fill-color);\n",
              "    }\n",
              "    90% {\n",
              "      border-color: transparent;\n",
              "      border-bottom-color: var(--fill-color);\n",
              "    }\n",
              "  }\n",
              "</style>\n",
              "\n",
              "  <script>\n",
              "    async function quickchart(key) {\n",
              "      const quickchartButtonEl =\n",
              "        document.querySelector('#' + key + ' button');\n",
              "      quickchartButtonEl.disabled = true;  // To prevent multiple clicks.\n",
              "      quickchartButtonEl.classList.add('colab-df-spinner');\n",
              "      try {\n",
              "        const charts = await google.colab.kernel.invokeFunction(\n",
              "            'suggestCharts', [key], {});\n",
              "      } catch (error) {\n",
              "        console.error('Error during call to suggestCharts:', error);\n",
              "      }\n",
              "      quickchartButtonEl.classList.remove('colab-df-spinner');\n",
              "      quickchartButtonEl.classList.add('colab-df-quickchart-complete');\n",
              "    }\n",
              "    (() => {\n",
              "      let quickchartButtonEl =\n",
              "        document.querySelector('#df-d9f73472-8e98-4d70-9a2d-e35e89ca78fe button');\n",
              "      quickchartButtonEl.style.display =\n",
              "        google.colab.kernel.accessAllowed ? 'block' : 'none';\n",
              "    })();\n",
              "  </script>\n",
              "</div>\n",
              "\n",
              "  <div id=\"id_580c3c5a-4711-40e9-923d-68c56d3bd2b0\">\n",
              "    <style>\n",
              "      .colab-df-generate {\n",
              "        background-color: #E8F0FE;\n",
              "        border: none;\n",
              "        border-radius: 50%;\n",
              "        cursor: pointer;\n",
              "        display: none;\n",
              "        fill: #1967D2;\n",
              "        height: 32px;\n",
              "        padding: 0 0 0 0;\n",
              "        width: 32px;\n",
              "      }\n",
              "\n",
              "      .colab-df-generate:hover {\n",
              "        background-color: #E2EBFA;\n",
              "        box-shadow: 0px 1px 2px rgba(60, 64, 67, 0.3), 0px 1px 3px 1px rgba(60, 64, 67, 0.15);\n",
              "        fill: #174EA6;\n",
              "      }\n",
              "\n",
              "      [theme=dark] .colab-df-generate {\n",
              "        background-color: #3B4455;\n",
              "        fill: #D2E3FC;\n",
              "      }\n",
              "\n",
              "      [theme=dark] .colab-df-generate:hover {\n",
              "        background-color: #434B5C;\n",
              "        box-shadow: 0px 1px 3px 1px rgba(0, 0, 0, 0.15);\n",
              "        filter: drop-shadow(0px 1px 2px rgba(0, 0, 0, 0.3));\n",
              "        fill: #FFFFFF;\n",
              "      }\n",
              "    </style>\n",
              "    <button class=\"colab-df-generate\" onclick=\"generateWithVariable('movie_features')\"\n",
              "            title=\"Generate code using this dataframe.\"\n",
              "            style=\"display:none;\">\n",
              "\n",
              "  <svg xmlns=\"http://www.w3.org/2000/svg\" height=\"24px\"viewBox=\"0 0 24 24\"\n",
              "       width=\"24px\">\n",
              "    <path d=\"M7,19H8.4L18.45,9,17,7.55,7,17.6ZM5,21V16.75L18.45,3.32a2,2,0,0,1,2.83,0l1.4,1.43a1.91,1.91,0,0,1,.58,1.4,1.91,1.91,0,0,1-.58,1.4L9.25,21ZM18.45,9,17,7.55Zm-12,3A5.31,5.31,0,0,0,4.9,8.1,5.31,5.31,0,0,0,1,6.5,5.31,5.31,0,0,0,4.9,4.9,5.31,5.31,0,0,0,6.5,1,5.31,5.31,0,0,0,8.1,4.9,5.31,5.31,0,0,0,12,6.5,5.46,5.46,0,0,0,6.5,12Z\"/>\n",
              "  </svg>\n",
              "    </button>\n",
              "    <script>\n",
              "      (() => {\n",
              "      const buttonEl =\n",
              "        document.querySelector('#id_580c3c5a-4711-40e9-923d-68c56d3bd2b0 button.colab-df-generate');\n",
              "      buttonEl.style.display =\n",
              "        google.colab.kernel.accessAllowed ? 'block' : 'none';\n",
              "\n",
              "      buttonEl.onclick = () => {\n",
              "        google.colab.notebook.generateWithVariable('movie_features');\n",
              "      }\n",
              "      })();\n",
              "    </script>\n",
              "  </div>\n",
              "\n",
              "    </div>\n",
              "  </div>\n"
            ],
            "application/vnd.google.colaboratory.intrinsic+json": {
              "type": "dataframe",
              "variable_name": "movie_features",
              "summary": "{\n  \"name\": \"movie_features\",\n  \"rows\": 2199,\n  \"fields\": [\n    {\n      \"column\": \"genre\",\n      \"properties\": {\n        \"dtype\": \"category\",\n        \"num_unique_values\": 225,\n        \"samples\": [\n          \"Action, Drama, History\",\n          \"Adventure, Drama, Musical\",\n          \"Comedy, Crime, Mystery\"\n        ],\n        \"semantic_type\": \"\",\n        \"description\": \"\"\n      }\n    },\n    {\n      \"column\": \"overview\",\n      \"properties\": {\n        \"dtype\": \"string\",\n        \"num_unique_values\": 2120,\n        \"samples\": [\n          \"When a young man from a small town decides to make it big in a city, he faces several challenges.\",\n          \"The film which is based on the life on an Indian scientist Shivkar Bapuji Talpade, who is credited to have constructed India's first unmanned plane is the tale of the hardships that he went...                See full summary\\u00a0\\u00bb\",\n          \"An NRI and his wife decide to stay in his ancestral home, paying no heed to the warnings about ghosts. Soon, inexplicable occurrences cause him to call a psychiatrist to help solve the mystery.\"\n        ],\n        \"semantic_type\": \"\",\n        \"description\": \"\"\n      }\n    },\n    {\n      \"column\": \"director\",\n      \"properties\": {\n        \"dtype\": \"category\",\n        \"num_unique_values\": 1064,\n        \"samples\": [\n          \"Maneesh Sharma\",\n          \"Latif Faiziyev, Umesh Mehra\",\n          \"Robert Lieberman\"\n        ],\n        \"semantic_type\": \"\",\n        \"description\": \"\"\n      }\n    },\n    {\n      \"column\": \"cast\",\n      \"properties\": {\n        \"dtype\": \"string\",\n        \"num_unique_values\": 2178,\n        \"samples\": [\n          \"Rajinikanth, Akshay Kumar, Amy Jackson, Adil Hussain\",\n          \"Aamir Khan, Urmila Matondkar, Jackie Shroff, Gulshan Grover\",\n          \"Shammi Kapoor, Nanda Karnataki, Tanuja Samarth, Vijayendra Ghatge\"\n        ],\n        \"semantic_type\": \"\",\n        \"description\": \"\"\n      }\n    }\n  ]\n}"
            }
          },
          "metadata": {},
          "execution_count": 220
        }
      ]
    },
    {
      "cell_type": "code",
      "source": [
        "x=movie_features['genre'] + ' ' + movie_features['overview'] + ' ' + movie_features['director'] + ' ' + movie_features['cast']"
      ],
      "metadata": {
        "execution": {
          "iopub.status.busy": "2023-05-17T19:24:36.962935Z",
          "iopub.execute_input": "2023-05-17T19:24:36.963802Z",
          "iopub.status.idle": "2023-05-17T19:24:36.992504Z",
          "shell.execute_reply.started": "2023-05-17T19:24:36.963427Z",
          "shell.execute_reply": "2023-05-17T19:24:36.991052Z"
        },
        "trusted": true,
        "id": "74WOVhoy1cyh"
      },
      "execution_count": 221,
      "outputs": []
    },
    {
      "cell_type": "code",
      "source": [
        "x"
      ],
      "metadata": {
        "execution": {
          "iopub.status.busy": "2023-05-17T19:24:36.994863Z",
          "iopub.execute_input": "2023-05-17T19:24:36.995351Z",
          "iopub.status.idle": "2023-05-17T19:24:37.008460Z",
          "shell.execute_reply.started": "2023-05-17T19:24:36.995306Z",
          "shell.execute_reply": "2023-05-17T19:24:37.006081Z"
        },
        "trusted": true,
        "colab": {
          "base_uri": "https://localhost:8080/"
        },
        "id": "D-Cf8QGS1cyh",
        "outputId": "5e85498f-1b4d-4b2d-b1d9-ec3eea03cf49"
      },
      "execution_count": null,
      "outputs": [
        {
          "output_type": "execute_result",
          "data": {
            "text/plain": [
              "0       Action, Thriller A high-octane action thriller...\n",
              "1       Crime, Drama, Mystery A single mother and her ...\n",
              "2       Action, Comedy, Crime A retired jailer goes on...\n",
              "3       Comedy, Drama, Family Flamboyant Punjabi Rocky...\n",
              "4       Comedy, Drama An unhappy civilian asks the cou...\n",
              "                              ...                        \n",
              "2194    Thriller Add a Plot Subhash Ghai Shatrughan Si...\n",
              "2195    Drama, Musical, Romance A renowned music teach...\n",
              "2196    Musical, Romance When a ballroom dancer's shot...\n",
              "2197    Drama, Family, Fantasy After the tragic deaths...\n",
              "2198    Action, Comedy, Drama Raj is a successful lawy...\n",
              "Length: 2199, dtype: object"
            ]
          },
          "metadata": {},
          "execution_count": 147
        }
      ]
    },
    {
      "cell_type": "code",
      "source": [
        "x.shape"
      ],
      "metadata": {
        "execution": {
          "iopub.status.busy": "2023-05-17T19:24:37.014882Z",
          "iopub.execute_input": "2023-05-17T19:24:37.015399Z",
          "iopub.status.idle": "2023-05-17T19:24:37.024397Z",
          "shell.execute_reply.started": "2023-05-17T19:24:37.015347Z",
          "shell.execute_reply": "2023-05-17T19:24:37.022971Z"
        },
        "trusted": true,
        "colab": {
          "base_uri": "https://localhost:8080/"
        },
        "id": "2GFltpc91cyh",
        "outputId": "0a1997cb-c05c-4467-ada7-3f99d73863c7"
      },
      "execution_count": 222,
      "outputs": [
        {
          "output_type": "execute_result",
          "data": {
            "text/plain": [
              "(2199,)"
            ]
          },
          "metadata": {},
          "execution_count": 222
        }
      ]
    },
    {
      "cell_type": "markdown",
      "source": [
        "# **Get Feature Text Conversions to Tokens**"
      ],
      "metadata": {
        "id": "jeB1a3Tu1cyi"
      }
    },
    {
      "cell_type": "code",
      "source": [
        "!pip install numpy==1.21.2"
      ],
      "metadata": {
        "execution": {
          "iopub.status.busy": "2023-05-17T19:24:37.025503Z",
          "iopub.execute_input": "2023-05-17T19:24:37.025888Z",
          "iopub.status.idle": "2023-05-17T19:24:51.046383Z",
          "shell.execute_reply.started": "2023-05-17T19:24:37.025848Z",
          "shell.execute_reply": "2023-05-17T19:24:51.044533Z"
        },
        "trusted": true,
        "colab": {
          "base_uri": "https://localhost:8080/"
        },
        "id": "6w7Nm6as1cyi",
        "outputId": "a4f107cc-262a-4982-92b3-80008d67fb4e"
      },
      "execution_count": 223,
      "outputs": [
        {
          "output_type": "stream",
          "name": "stdout",
          "text": [
            "Requirement already satisfied: numpy==1.21.2 in /usr/local/lib/python3.10/dist-packages (1.21.2)\n"
          ]
        }
      ]
    },
    {
      "cell_type": "code",
      "source": [
        "from sklearn.feature_extraction.text import TfidfVectorizer"
      ],
      "metadata": {
        "execution": {
          "iopub.status.busy": "2023-05-17T19:24:51.048556Z",
          "iopub.execute_input": "2023-05-17T19:24:51.049000Z",
          "iopub.status.idle": "2023-05-17T19:24:51.056258Z",
          "shell.execute_reply.started": "2023-05-17T19:24:51.048959Z",
          "shell.execute_reply": "2023-05-17T19:24:51.054488Z"
        },
        "trusted": true,
        "id": "anzXEo391cyi"
      },
      "execution_count": 224,
      "outputs": []
    },
    {
      "cell_type": "code",
      "source": [
        "tfidf = TfidfVectorizer()"
      ],
      "metadata": {
        "execution": {
          "iopub.status.busy": "2023-05-17T19:24:51.058255Z",
          "iopub.execute_input": "2023-05-17T19:24:51.058763Z",
          "iopub.status.idle": "2023-05-17T19:24:51.080842Z",
          "shell.execute_reply.started": "2023-05-17T19:24:51.058716Z",
          "shell.execute_reply": "2023-05-17T19:24:51.079201Z"
        },
        "trusted": true,
        "id": "yXoRCrnO1cyi"
      },
      "execution_count": 225,
      "outputs": []
    },
    {
      "cell_type": "code",
      "source": [
        "X = tfidf.fit_transform(x)"
      ],
      "metadata": {
        "execution": {
          "iopub.status.busy": "2023-05-17T19:24:51.082806Z",
          "iopub.execute_input": "2023-05-17T19:24:51.083273Z",
          "iopub.status.idle": "2023-05-17T19:24:51.368054Z",
          "shell.execute_reply.started": "2023-05-17T19:24:51.083236Z",
          "shell.execute_reply": "2023-05-17T19:24:51.366470Z"
        },
        "trusted": true,
        "id": "YYsAOuv61cyj"
      },
      "execution_count": 226,
      "outputs": []
    },
    {
      "cell_type": "code",
      "source": [
        "X.shape"
      ],
      "metadata": {
        "execution": {
          "iopub.status.busy": "2023-05-17T19:24:51.369665Z",
          "iopub.execute_input": "2023-05-17T19:24:51.370142Z",
          "iopub.status.idle": "2023-05-17T19:24:51.382676Z",
          "shell.execute_reply.started": "2023-05-17T19:24:51.370087Z",
          "shell.execute_reply": "2023-05-17T19:24:51.381627Z"
        },
        "trusted": true,
        "colab": {
          "base_uri": "https://localhost:8080/"
        },
        "id": "YZbGH_PD1cyj",
        "outputId": "14267244-1f5e-47a3-b9eb-022287e9dad0"
      },
      "execution_count": 227,
      "outputs": [
        {
          "output_type": "execute_result",
          "data": {
            "text/plain": [
              "(2199, 11441)"
            ]
          },
          "metadata": {},
          "execution_count": 227
        }
      ]
    },
    {
      "cell_type": "code",
      "source": [
        "print(X)"
      ],
      "metadata": {
        "execution": {
          "iopub.status.busy": "2023-05-17T19:24:51.385158Z",
          "iopub.execute_input": "2023-05-17T19:24:51.385533Z",
          "iopub.status.idle": "2023-05-17T19:24:51.393589Z",
          "shell.execute_reply.started": "2023-05-17T19:24:51.385483Z",
          "shell.execute_reply": "2023-05-17T19:24:51.392528Z"
        },
        "trusted": true,
        "colab": {
          "base_uri": "https://localhost:8080/"
        },
        "id": "ZJQTbcsa1cyj",
        "outputId": "15577a41-d607-449b-d6fb-bb51ac0bd788"
      },
      "execution_count": 228,
      "outputs": [
        {
          "output_type": "stream",
          "name": "stdout",
          "text": [
            "  (0, 7220)\t0.18732057124632678\n",
            "  (0, 2670)\t0.18524953584832649\n",
            "  (0, 9103)\t0.244585433104368\n",
            "  (0, 11002)\t0.14681069131570232\n",
            "  (0, 6842)\t0.23547949327798678\n",
            "  (0, 5451)\t0.09405767855896913\n",
            "  (0, 8640)\t0.16167663050581524\n",
            "  (0, 9140)\t0.12673362239821723\n",
            "  (0, 926)\t0.2899771135019883\n",
            "  (0, 9564)\t0.19994085660291214\n",
            "  (0, 4719)\t0.06557063346769715\n",
            "  (0, 11340)\t0.2752857927474026\n",
            "  (0, 8247)\t0.2752857927474026\n",
            "  (0, 10449)\t0.05703667866328602\n",
            "  (0, 9098)\t0.16274239131621018\n",
            "  (0, 4933)\t0.07772512631378324\n",
            "  (0, 11232)\t0.09357348531476826\n",
            "  (0, 6118)\t0.1153226211878715\n",
            "  (0, 7057)\t0.06059844123803038\n",
            "  (0, 5191)\t0.15817552570488105\n",
            "  (0, 3278)\t0.22820854074933225\n",
            "  (0, 10329)\t0.16251068864342313\n",
            "  (0, 7169)\t0.2899771135019883\n",
            "  (0, 11224)\t0.1520493398826944\n",
            "  (0, 7051)\t0.2899771135019883\n",
            "  :\t:\n",
            "  (2198, 9054)\t0.13024414506375684\n",
            "  (2198, 1227)\t0.14243780146433394\n",
            "  (2198, 5816)\t0.20550079070454394\n",
            "  (2198, 5543)\t0.16124853363237318\n",
            "  (2198, 5741)\t0.16253753641693003\n",
            "  (2198, 5467)\t0.1273625631411186\n",
            "  (2198, 2856)\t0.13544463528175407\n",
            "  (2198, 10678)\t0.18263727136952612\n",
            "  (2198, 3126)\t0.16124853363237318\n",
            "  (2198, 213)\t0.11534490032915796\n",
            "  (2198, 3596)\t0.11457839434615077\n",
            "  (2198, 9242)\t0.10706755615135151\n",
            "  (2198, 10328)\t0.08961507044266466\n",
            "  (2198, 11218)\t0.08164848148110164\n",
            "  (2198, 10365)\t0.11457839434615077\n",
            "  (2198, 4467)\t0.10126624764425088\n",
            "  (2198, 9605)\t0.11777404163398952\n",
            "  (2198, 4494)\t0.1809590242792375\n",
            "  (2198, 2187)\t0.0634310228110466\n",
            "  (2198, 621)\t0.04534427851020208\n",
            "  (2198, 3084)\t0.03909681321726306\n",
            "  (2198, 10449)\t0.18258779140935388\n",
            "  (2198, 4933)\t0.06220409166190535\n",
            "  (2198, 7057)\t0.04849745728455091\n",
            "  (2198, 269)\t0.0585502797285616\n"
          ]
        }
      ]
    },
    {
      "cell_type": "markdown",
      "source": [
        "# **Get Similarity Score using Cosine Similarity**"
      ],
      "metadata": {
        "id": "gPUWzjMB1cyj"
      }
    },
    {
      "cell_type": "markdown",
      "source": [
        "cosine_similarity computes the L2-normalized dot product of vectors. Euclidean(L2) normalization projects the vectors onto the unit sphere, and their dot product is then the cosine the angle between the points denoted by the vectors."
      ],
      "metadata": {
        "id": "S7-kJzRM1cyj"
      }
    },
    {
      "cell_type": "code",
      "source": [
        "from sklearn.metrics.pairwise import cosine_similarity"
      ],
      "metadata": {
        "execution": {
          "iopub.status.busy": "2023-05-17T19:24:51.395398Z",
          "iopub.execute_input": "2023-05-17T19:24:51.395786Z",
          "iopub.status.idle": "2023-05-17T19:24:51.405142Z",
          "shell.execute_reply.started": "2023-05-17T19:24:51.395753Z",
          "shell.execute_reply": "2023-05-17T19:24:51.403746Z"
        },
        "trusted": true,
        "id": "dLC_cXdB1cyk"
      },
      "execution_count": 229,
      "outputs": []
    },
    {
      "cell_type": "code",
      "source": [
        "Similarity_Score = cosine_similarity(X)"
      ],
      "metadata": {
        "execution": {
          "iopub.status.busy": "2023-05-17T19:24:51.407286Z",
          "iopub.execute_input": "2023-05-17T19:24:51.407753Z",
          "iopub.status.idle": "2023-05-17T19:24:52.377729Z",
          "shell.execute_reply.started": "2023-05-17T19:24:51.407693Z",
          "shell.execute_reply": "2023-05-17T19:24:52.376350Z"
        },
        "trusted": true,
        "id": "jBRTxi-T1cyk"
      },
      "execution_count": null,
      "outputs": []
    },
    {
      "cell_type": "code",
      "source": [
        "Similarity_Score"
      ],
      "metadata": {
        "execution": {
          "iopub.status.busy": "2023-05-17T19:24:52.379108Z",
          "iopub.execute_input": "2023-05-17T19:24:52.379510Z",
          "iopub.status.idle": "2023-05-17T19:24:52.388497Z",
          "shell.execute_reply.started": "2023-05-17T19:24:52.379467Z",
          "shell.execute_reply": "2023-05-17T19:24:52.387170Z"
        },
        "trusted": true,
        "colab": {
          "base_uri": "https://localhost:8080/"
        },
        "id": "NC8r-Dae1cyk",
        "outputId": "cb39e81d-531e-4c86-e5db-4f80180d7006"
      },
      "execution_count": 230,
      "outputs": [
        {
          "output_type": "execute_result",
          "data": {
            "text/plain": [
              "array([[1.        , 0.03873457, 0.02088166, ..., 0.00456613, 0.02713392,\n",
              "        0.02675493],\n",
              "       [0.03873457, 1.        , 0.01286975, ..., 0.02609631, 0.04579643,\n",
              "        0.00698856],\n",
              "       [0.02088166, 0.01286975, 1.        , ..., 0.00344653, 0.02984156,\n",
              "        0.072506  ],\n",
              "       ...,\n",
              "       [0.00456613, 0.02609631, 0.00344653, ..., 1.        , 0.02268653,\n",
              "        0.02220094],\n",
              "       [0.02713392, 0.04579643, 0.02984156, ..., 0.02268653, 1.        ,\n",
              "        0.08833593],\n",
              "       [0.02675493, 0.00698856, 0.072506  , ..., 0.02220094, 0.08833593,\n",
              "        1.        ]])"
            ]
          },
          "metadata": {},
          "execution_count": 230
        }
      ]
    },
    {
      "cell_type": "code",
      "source": [
        "Similarity_Score.shape"
      ],
      "metadata": {
        "execution": {
          "iopub.status.busy": "2023-05-17T19:24:52.390301Z",
          "iopub.execute_input": "2023-05-17T19:24:52.390761Z",
          "iopub.status.idle": "2023-05-17T19:24:52.401792Z",
          "shell.execute_reply.started": "2023-05-17T19:24:52.390726Z",
          "shell.execute_reply": "2023-05-17T19:24:52.400453Z"
        },
        "trusted": true,
        "colab": {
          "base_uri": "https://localhost:8080/"
        },
        "id": "IjLoXZPG1cyk",
        "outputId": "84acf797-162b-4270-de1d-c6efdcd696af"
      },
      "execution_count": 231,
      "outputs": [
        {
          "output_type": "execute_result",
          "data": {
            "text/plain": [
              "(2199, 2199)"
            ]
          },
          "metadata": {},
          "execution_count": 231
        }
      ]
    },
    {
      "cell_type": "markdown",
      "source": [
        "# **Get Movie Name as Input from User and Validate for Closest Spelling**"
      ],
      "metadata": {
        "id": "D5P8DUAC1cyk"
      }
    },
    {
      "cell_type": "code",
      "source": [
        "Favorite_Movie_Name = input(' Enter your favorite movie name : ')"
      ],
      "metadata": {
        "execution": {
          "iopub.status.busy": "2023-05-17T19:24:52.403528Z",
          "iopub.execute_input": "2023-05-17T19:24:52.403972Z",
          "iopub.status.idle": "2023-05-17T19:25:01.980425Z",
          "shell.execute_reply.started": "2023-05-17T19:24:52.403938Z",
          "shell.execute_reply": "2023-05-17T19:25:01.978698Z"
        },
        "trusted": true,
        "colab": {
          "base_uri": "https://localhost:8080/"
        },
        "id": "rjfS6-IL1cyl",
        "outputId": "77b37c38-531b-4ffe-e7eb-739e702bbe7c"
      },
      "execution_count": 232,
      "outputs": [
        {
          "name": "stdout",
          "output_type": "stream",
          "text": [
            " Enter your favorite movie name : jailer\n"
          ]
        }
      ]
    },
    {
      "cell_type": "code",
      "source": [
        "All_Movies_Title_List = ms['movie_name'].tolist()"
      ],
      "metadata": {
        "execution": {
          "iopub.status.busy": "2023-05-17T19:25:01.982483Z",
          "iopub.execute_input": "2023-05-17T19:25:01.983152Z",
          "iopub.status.idle": "2023-05-17T19:25:01.992027Z",
          "shell.execute_reply.started": "2023-05-17T19:25:01.983084Z",
          "shell.execute_reply": "2023-05-17T19:25:01.989703Z"
        },
        "trusted": true,
        "id": "pMaPWIkx1cyl"
      },
      "execution_count": 233,
      "outputs": []
    },
    {
      "cell_type": "code",
      "source": [
        "import difflib"
      ],
      "metadata": {
        "execution": {
          "iopub.status.busy": "2023-05-17T19:25:01.993910Z",
          "iopub.execute_input": "2023-05-17T19:25:01.995346Z",
          "iopub.status.idle": "2023-05-17T19:25:02.010941Z",
          "shell.execute_reply.started": "2023-05-17T19:25:01.995253Z",
          "shell.execute_reply": "2023-05-17T19:25:02.009299Z"
        },
        "trusted": true,
        "id": "Gkvky9MU1cyl"
      },
      "execution_count": 234,
      "outputs": []
    },
    {
      "cell_type": "code",
      "source": [
        "Movie_Recommendation = difflib.get_close_matches(Favorite_Movie_Name, All_Movies_Title_List)\n",
        "print(Movie_Recommendation)"
      ],
      "metadata": {
        "execution": {
          "iopub.status.busy": "2023-05-17T19:25:02.012916Z",
          "iopub.execute_input": "2023-05-17T19:25:02.013451Z",
          "iopub.status.idle": "2023-05-17T19:25:02.052492Z",
          "shell.execute_reply.started": "2023-05-17T19:25:02.013403Z",
          "shell.execute_reply": "2023-05-17T19:25:02.051233Z"
        },
        "trusted": true,
        "colab": {
          "base_uri": "https://localhost:8080/"
        },
        "id": "Y6banE7w1cyl",
        "outputId": "0721de1c-4ec9-4412-b429-c012800fefb5"
      },
      "execution_count": 235,
      "outputs": [
        {
          "output_type": "stream",
          "name": "stdout",
          "text": [
            "['Jailer', 'Haider', 'Gambler']\n"
          ]
        }
      ]
    },
    {
      "cell_type": "code",
      "source": [
        "Close_Match = Movie_Recommendation[0]\n",
        "print(Close_Match)"
      ],
      "metadata": {
        "execution": {
          "iopub.status.busy": "2023-05-17T19:25:02.054147Z",
          "iopub.execute_input": "2023-05-17T19:25:02.054512Z",
          "iopub.status.idle": "2023-05-17T19:25:02.061724Z",
          "shell.execute_reply.started": "2023-05-17T19:25:02.054479Z",
          "shell.execute_reply": "2023-05-17T19:25:02.060518Z"
        },
        "trusted": true,
        "colab": {
          "base_uri": "https://localhost:8080/"
        },
        "id": "qEiPwFhM1cyl",
        "outputId": "2c1200f8-6428-4841-fd4b-f8d691085ab0"
      },
      "execution_count": 236,
      "outputs": [
        {
          "output_type": "stream",
          "name": "stdout",
          "text": [
            "Jailer\n"
          ]
        }
      ]
    },
    {
      "cell_type": "code",
      "source": [
        "Index_of_Close_Match_Movie = ms[ms.movie_name == Close_Match]['id'].values[0]\n",
        "print(Index_of_Close_Match_Movie)"
      ],
      "metadata": {
        "execution": {
          "iopub.status.busy": "2023-05-17T19:25:02.063169Z",
          "iopub.execute_input": "2023-05-17T19:25:02.064261Z",
          "iopub.status.idle": "2023-05-17T19:25:02.081106Z",
          "shell.execute_reply.started": "2023-05-17T19:25:02.064200Z",
          "shell.execute_reply": "2023-05-17T19:25:02.079550Z"
        },
        "trusted": true,
        "colab": {
          "base_uri": "https://localhost:8080/"
        },
        "id": "WLrolFQp1cym",
        "outputId": "159d8f1d-1909-4e7e-f151-366ec3f5e972"
      },
      "execution_count": 239,
      "outputs": [
        {
          "output_type": "stream",
          "name": "stdout",
          "text": [
            "2\n"
          ]
        }
      ]
    },
    {
      "cell_type": "markdown",
      "source": [],
      "metadata": {
        "id": "pGdh2QeX1cys"
      }
    },
    {
      "cell_type": "code",
      "source": [
        "# getting a list of similar movies\n",
        "Recommendation_Score = list(enumerate(Similarity_Score[Index_of_Close_Match_Movie]))\n",
        "print(Recommendation_Score)"
      ],
      "metadata": {
        "execution": {
          "iopub.status.busy": "2023-05-17T19:25:02.083677Z",
          "iopub.execute_input": "2023-05-17T19:25:02.084217Z"
        },
        "trusted": true,
        "colab": {
          "base_uri": "https://localhost:8080/"
        },
        "id": "dK9Gw-2U1cys",
        "outputId": "28794fae-3ea9-4e87-effa-103951cd43de"
      },
      "execution_count": 240,
      "outputs": [
        {
          "output_type": "stream",
          "name": "stdout",
          "text": [
            "[(0, 0.020881663857501676), (1, 0.012869750887731604), (2, 1.0), (3, 0.008354737764541983), (4, 0.011319168822695623), (5, 0.010204021159835298), (6, 0.012032427774956412), (7, 0.010628068629240121), (8, 0.005877113046254301), (9, 0.02130545713053794), (10, 0.013342214639618051), (11, 0.005370479734104473), (12, 0.035363759650300836), (13, 0.0144193461966596), (14, 0.04043772170935936), (15, 0.019331164889961394), (16, 0.03473823776046585), (17, 0.06690590353806466), (18, 0.04966095726507856), (19, 0.0059638130804059945), (20, 0.007524150570227021), (21, 0.00900960255171368), (22, 0.010549839968745476), (23, 0.005245821980606272), (24, 0.015329324762657606), (25, 0.05543010192008672), (26, 0.05338013211798028), (27, 0.01279436272104166), (28, 0.0686995958186293), (29, 0.030192586738812408), (30, 0.04149256617194023), (31, 0.036523797662597834), (32, 0.0036383125463817713), (33, 0.0075353096191112705), (34, 0.006593229596655084), (35, 0.03246858235999097), (36, 0.013138225995719248), (37, 0.058006316902979214), (38, 0.019477584633454545), (39, 0.03168715835617938), (40, 0.009448468581251559), (41, 0.02140980615686917), (42, 0.007771873424403035), (43, 0.031837588514030804), (44, 0.011141670872197909), (45, 0.016212487114849315), (46, 0.036946658650882515), (47, 0.07108538749353822), (48, 0.015719331582909977), (49, 0.04980255766198207), (50, 0.0035041958010401456), (51, 0.016435631015955715), (52, 0.021248707354409632), (53, 0.06035843703020788), (54, 0.029351135658849413), (55, 0.017255661196209846), (56, 0.016147447833477716), (57, 0.03592878347035711), (58, 0.018812920135128204), (59, 0.04007541166504801), (60, 0.04118770572887019), (61, 0.043829993497199314), (62, 0.0), (63, 0.01653208068267611), (64, 0.02632813724671631), (65, 0.006520581845610937), (66, 0.005046822805179814), (67, 0.010352381788034864), (68, 0.018569207628374378), (69, 0.02269839498365548), (70, 0.029299495468439192), (71, 0.0406814453472713), (72, 0.0065871526823022), (73, 0.03600876172693787), (74, 0.025605828398979718), (75, 0.023398051783727853), (76, 0.024984769714450246), (77, 0.07484058820721802), (78, 0.014912269906297586), (79, 0.016866171732707665), (80, 0.010240797752847829), (81, 0.022747387314374045), (82, 0.022183241297012834), (83, 0.04836717495682741), (84, 0.028756649287433284), (85, 0.031114048287307378), (86, 0.006297234846638924), (87, 0.035799497856167185), (88, 0.016826351908796125), (89, 0.008881516529079519), (90, 0.014920048487564997), (91, 0.005932016490918294), (92, 0.015931241078550696), (93, 0.0171800642995869), (94, 0.04387366670918507), (95, 0.006470553391051114), (96, 0.008066793124671852), (97, 0.018109724036778276), (98, 0.01207111607317259), (99, 0.007689089484469648), (100, 0.04920900654386093), (101, 0.009558041049701982), (102, 0.027779642182963894), (103, 0.03400422010073317), (104, 0.012134076989206391), (105, 0.05603873135045835), (106, 0.03500164647154039), (107, 0.020633329147883878), (108, 0.02421010915924195), (109, 0.0), (110, 0.007790434796428056), (111, 0.013814899365444468), (112, 0.016283677766277514), (113, 0.021579943580967584), (114, 0.02432076042946454), (115, 0.018442288948638336), (116, 0.018338145221922786), (117, 0.038123472578889754), (118, 0.014305304273373863), (119, 0.0), (120, 0.02280583748178312), (121, 0.010036561412269045), (122, 0.042304694368677995), (123, 0.012630954306326214), (124, 0.024808077177950128), (125, 0.019590351663016592), (126, 0.028038068108230965), (127, 0.039459394713159304), (128, 0.019133243505138356), (129, 0.01603071601934221), (130, 0.023262351816150568), (131, 0.04229653303417592), (132, 0.008552082071806653), (133, 0.02329322470483912), (134, 0.009192288675415647), (135, 0.011267323745178724), (136, 0.027162158951781736), (137, 0.007362441717145989), (138, 0.0), (139, 0.012615963976636013), (140, 0.034577460629981654), (141, 0.01162947924474635), (142, 0.014787744104498648), (143, 0.01570131438377377), (144, 0.016341165858749368), (145, 0.0), (146, 0.0462719352816954), (147, 0.03221743042083304), (148, 0.006028782855316905), (149, 0.038782799294234054), (150, 0.029151236599714594), (151, 0.014969631957607737), (152, 0.018529533649960125), (153, 0.012038761504540184), (154, 0.021398796461681302), (155, 0.0581692600687457), (156, 0.00780328258470122), (157, 0.03545906169726824), (158, 0.003876687087572851), (159, 0.008331577122860478), (160, 0.026563112771774554), (161, 0.0326698898211431), (162, 0.010331023695346782), (163, 0.009706949653179728), (164, 0.03159760356290533), (165, 0.010845324697034434), (166, 0.020300092589181026), (167, 0.0), (168, 0.012723255960389437), (169, 0.019117693295346475), (170, 0.013892688707293991), (171, 0.008002424180372274), (172, 0.023743692763676376), (173, 0.0), (174, 0.005292445094204977), (175, 0.03288392793654215), (176, 0.04967401131814386), (177, 0.018207599595661893), (178, 0.020944059644557436), (179, 0.014499556085907176), (180, 0.0), (181, 0.07102673187402497), (182, 0.011742960096855302), (183, 0.0035462914417684764), (184, 0.07243539079532713), (185, 0.05359105674386658), (186, 0.006465232461795576), (187, 0.024071190490113376), (188, 0.019687224803830533), (189, 0.02041623513499309), (190, 0.03151969743828422), (191, 0.022379533565535566), (192, 0.01767052106890807), (193, 0.004207274826598077), (194, 0.014600879202518553), (195, 0.02544528736252896), (196, 0.033475984960985326), (197, 0.010101067830817906), (198, 0.021606883669328614), (199, 0.026124825794786536), (200, 0.006082950488563705), (201, 0.010820212169190312), (202, 0.026131715772295293), (203, 0.016315512053156716), (204, 0.054404644698624285), (205, 0.01701555023968299), (206, 0.008159214279665102), (207, 0.011980668308748731), (208, 0.008636701621733035), (209, 0.011316480492510135), (210, 0.03531261082123535), (211, 0.025512838400450176), (212, 0.02625084631816551), (213, 0.012194426584942148), (214, 0.022997078699757114), (215, 0.008940053489390608), (216, 0.013442861552611287), (217, 0.007124424184206533), (218, 0.018096877136367727), (219, 0.01403858213128778), (220, 0.012983663047331045), (221, 0.011674960122569356), (222, 0.01081651861553222), (223, 0.05013158112942896), (224, 0.03454047455205723), (225, 0.011329944384875695), (226, 0.012762221631816114), (227, 0.008619285704473172), (228, 0.0058387719566990156), (229, 0.027119448533674196), (230, 0.011728096030449725), (231, 0.010842985088985188), (232, 0.020399199447743478), (233, 0.025768765801913434), (234, 0.017592464466589408), (235, 0.017237583163003712), (236, 0.011906835335905655), (237, 0.01832854445229438), (238, 0.01785949323421099), (239, 0.017213069099839894), (240, 0.012207407893832397), (241, 0.03066050350065093), (242, 0.03194298626627377), (243, 0.015547056033518119), (244, 0.01131599928452885), (245, 0.0363574297717471), (246, 0.011643387499100833), (247, 0.022319064717062315), (248, 0.009144702551498289), (249, 0.028083867445369427), (250, 0.007681997887547953), (251, 0.010205538747176378), (252, 0.019575274271343562), (253, 0.016353463146578245), (254, 0.05747291139820408), (255, 0.002458156510996268), (256, 0.007029067229681579), (257, 0.01564898042405921), (258, 0.01929869805461469), (259, 0.01615072876311672), (260, 0.010393185040831915), (261, 0.006846661283011897), (262, 0.007912417214503609), (263, 0.01915222185088898), (264, 0.010752641558833764), (265, 0.02262919770994404), (266, 0.03877785592234365), (267, 0.004894001796685097), (268, 0.042037686889166356), (269, 0.01322027253630784), (270, 0.016750325332878166), (271, 0.01007998766040434), (272, 0.041122487805136484), (273, 0.033676834107441295), (274, 0.02198111109730698), (275, 0.01307621593870842), (276, 0.017311881661946766), (277, 0.013235856266133057), (278, 0.023577544880343044), (279, 0.026644661170139822), (280, 0.01791222414892789), (281, 0.023280207153782182), (282, 0.04089454806392777), (283, 0.016422530242189377), (284, 0.008134604741237759), (285, 0.011881683375973598), (286, 0.008368422249092542), (287, 0.025699279931261074), (288, 0.005266583602699711), (289, 0.01368893707770551), (290, 0.038108224538349444), (291, 0.04103692625695805), (292, 0.030600627913068966), (293, 0.02566793052935979), (294, 0.00846870063856843), (295, 0.018748030818364656), (296, 0.0034804181174160533), (297, 0.02817926473848465), (298, 0.03066297751057375), (299, 0.03730395018786318), (300, 0.02707545461261635), (301, 0.028970438631742316), (302, 0.020606592051529402), (303, 0.018380254466062628), (304, 0.027684901795849003), (305, 0.024380979559055868), (306, 0.015940112424777813), (307, 0.022302107050049872), (308, 0.04824839176975702), (309, 0.021147448304691), (310, 0.001922815150218104), (311, 0.01686532227299621), (312, 0.0033383712219589683), (313, 0.01754098420594348), (314, 0.010138290601204861), (315, 0.05534552246742095), (316, 0.0162829999673618), (317, 0.02109251270389427), (318, 0.04490066180914827), (319, 0.012806338861643977), (320, 0.017203182271925608), (321, 0.07010563799711879), (322, 0.006507723135320316), (323, 0.017473959728625962), (324, 0.027931881310162738), (325, 0.005266859250387384), (326, 0.01824825240018537), (327, 0.027862698901594766), (328, 0.018794926434389084), (329, 0.003696808594252723), (330, 0.006890766840102968), (331, 0.020464835165352246), (332, 0.13996979030245893), (333, 0.01836549941550801), (334, 0.008061613966456023), (335, 0.0021928451486500173), (336, 0.018568377076590453), (337, 0.02713396431057129), (338, 0.054768591236782245), (339, 0.02397459561928345), (340, 0.020755939156803665), (341, 0.013092617035665229), (342, 0.015896209373983634), (343, 0.030361842775451075), (344, 0.02975782913041293), (345, 0.05097564152312201), (346, 0.011213648439346215), (347, 0.013775673169166941), (348, 0.008541382010566822), (349, 0.011688863024962512), (350, 0.022513954056453706), (351, 0.048912600069331104), (352, 0.07620643077749138), (353, 0.03252156656020211), (354, 0.016492551107412542), (355, 0.0021139922955522405), (356, 0.001415585709323245), (357, 0.011551287859127946), (358, 0.02423254021081389), (359, 0.01753037805350301), (360, 0.02371745918442984), (361, 0.03974909118789354), (362, 0.0), (363, 0.03537349066997098), (364, 0.012930359843063753), (365, 0.03483215212124687), (366, 0.008181892817207166), (367, 0.02951393540496328), (368, 0.018686441081935918), (369, 0.052079649185267377), (370, 0.020840814873391372), (371, 0.0200996030864997), (372, 0.07964432455940845), (373, 0.014786216519492015), (374, 0.013970773221096593), (375, 0.011030391094619622), (376, 0.03483550647385864), (377, 0.0073740917226135), (378, 0.056192237593952254), (379, 0.011345975279344379), (380, 0.01956899694478847), (381, 0.035497943991808396), (382, 0.020346279445736103), (383, 0.0218908601910943), (384, 0.023411419722378937), (385, 0.01083746735171116), (386, 0.029121394405800968), (387, 0.01591169038833809), (388, 0.006427323888660381), (389, 0.016807310661121885), (390, 0.018386377492214112), (391, 0.03540272069002978), (392, 0.01434562974539176), (393, 0.0), (394, 0.051576563405096955), (395, 0.007904737629974732), (396, 0.04903850257940236), (397, 0.014310887735745185), (398, 0.042528660549335524), (399, 0.043348692160914734), (400, 0.027796007107260642), (401, 0.022520889749299375), (402, 0.044673170207600955), (403, 0.03137980547456073), (404, 0.041305160829245575), (405, 0.012390621874016523), (406, 0.0022998819705909797), (407, 0.023147112156440525), (408, 0.016807600168519225), (409, 0.037110536253900095), (410, 0.033404769222008156), (411, 0.012580825422476363), (412, 0.010295015457166531), (413, 0.027884420873123816), (414, 0.01809329407804204), (415, 0.005234657226151766), (416, 0.004299775594621151), (417, 0.04060978878799396), (418, 0.07068374855007062), (419, 0.03872721718176327), (420, 0.027830885395834525), (421, 0.03477140976682962), (422, 0.027733569603373514), (423, 0.039728347089220496), (424, 0.01636007241446844), (425, 0.03694168423077501), (426, 0.006308858125061147), (427, 0.035954301160247414), (428, 0.01635553307153666), (429, 0.030549679582253637), (430, 0.008639198644412947), (431, 0.027233307258918777), (432, 0.005374366796691893), (433, 0.054321904072456906), (434, 0.01102844368370201), (435, 0.017691111681600542), (436, 0.028345178376202887), (437, 0.01359552987221649), (438, 0.033532162783667434), (439, 0.05324639623925825), (440, 0.01988454167507192), (441, 0.0491908078369787), (442, 0.02418472772633053), (443, 0.04612716917717673), (444, 0.04604498902073605), (445, 0.025448321322769734), (446, 0.04119050220224583), (447, 0.033275475515564396), (448, 0.024350705663084882), (449, 0.006742144254659761), (450, 0.0036233163894714366), (451, 0.04511566754000148), (452, 0.05112056341895632), (453, 0.009656682979686554), (454, 0.008808413909868211), (455, 0.02227286712658463), (456, 0.05445239379349907), (457, 0.026576813825869648), (458, 0.018048672051866374), (459, 0.014334320226178608), (460, 0.03061143651929425), (461, 0.027431669408217077), (462, 0.03499098156452793), (463, 0.05002369947358546), (464, 0.01496067221902267), (465, 0.005543055597577655), (466, 0.018807023128072975), (467, 0.013995064004114524), (468, 0.029972627376875602), (469, 0.0368924035043891), (470, 0.04128480510271365), (471, 0.055817524283608644), (472, 0.020604962414486942), (473, 0.022102310745660374), (474, 0.02425360665816159), (475, 0.022164291351847124), (476, 0.029945922888498493), (477, 0.016560680895015324), (478, 0.024694769053206674), (479, 0.05414643208326782), (480, 0.04988872512036492), (481, 0.004335313543243839), (482, 0.029283554784200104), (483, 0.005539838180483364), (484, 0.07507822902355737), (485, 0.007610648604835988), (486, 0.016013627115200334), (487, 0.040925747974351855), (488, 0.022472151863406883), (489, 0.055685806715555494), (490, 0.04409250787106482), (491, 0.007540954089257103), (492, 0.0281523975733535), (493, 0.04159523023146735), (494, 0.029470267881909266), (495, 0.029515961697781416), (496, 0.02514969644800749), (497, 0.01924056476018485), (498, 0.010786524040027577), (499, 0.00536470360960879), (500, 0.015132890073805857), (501, 0.012552752111505288), (502, 0.016006727105932886), (503, 0.03590983446740438), (504, 0.03380729449449664), (505, 0.0158852340170682), (506, 0.005465829012964361), (507, 0.024291185339804275), (508, 0.024603280330147595), (509, 0.017518890718827604), (510, 0.0021035441438098617), (511, 0.030931594979314404), (512, 0.009763635199567957), (513, 0.006711550508534211), (514, 0.02040578927424079), (515, 0.02425832799819635), (516, 0.007667191631015334), (517, 0.048557445461523574), (518, 0.015304956007158223), (519, 0.0327073340252228), (520, 0.04464094805922661), (521, 0.05995592256542982), (522, 0.00975994700259619), (523, 0.018883997955094465), (524, 0.028289647972874053), (525, 0.013398729364104932), (526, 0.03417003639434771), (527, 0.011372602187255047), (528, 0.027727263230343295), (529, 0.012085537437660505), (530, 0.01446882619286809), (531, 0.03495970947005675), (532, 0.022276967486829384), (533, 0.02673371957480711), (534, 0.019137290333101374), (535, 0.012331059374304888), (536, 0.006681397186728612), (537, 0.020366163925487343), (538, 0.05828534857358004), (539, 0.018268614516768922), (540, 0.009257485712901602), (541, 0.055757348879954836), (542, 0.0029153415994481843), (543, 0.022534633948001703), (544, 0.015086300312120753), (545, 0.0), (546, 0.02946416512051716), (547, 0.006122553990732339), (548, 0.021336574191315235), (549, 0.009681341230887215), (550, 0.007317136432461405), (551, 0.00907207300343518), (552, 0.03949325380976199), (553, 0.016218150003331135), (554, 0.01683507129654858), (555, 0.036080775404111365), (556, 0.006911759233356053), (557, 0.019103864858958215), (558, 0.04004401791841252), (559, 0.01460420342426666), (560, 0.02207985886756088), (561, 0.03844738249570075), (562, 0.005855241161116069), (563, 0.0), (564, 0.03407893675952018), (565, 0.01606360951678539), (566, 0.009348554853457753), (567, 0.020449053833649394), (568, 0.04225815713324053), (569, 0.005523951972437406), (570, 0.025178137606057888), (571, 0.0), (572, 0.010985894357308897), (573, 0.03953681582632749), (574, 0.023793643453980995), (575, 0.009882064148347088), (576, 0.032291650803874854), (577, 0.02761964766220454), (578, 0.048624019735285885), (579, 0.043015166863325544), (580, 0.04497712147206914), (581, 0.009852860953708267), (582, 0.0059423365204764106), (583, 0.03492706138822882), (584, 0.032794879169493744), (585, 0.023110726584517488), (586, 0.02209705412714355), (587, 0.10252159563122049), (588, 0.03048879953477224), (589, 0.027149209358824884), (590, 0.016991722450062346), (591, 0.018703679650220514), (592, 0.04401176577297988), (593, 0.0), (594, 0.03286718693085856), (595, 0.043327124650296645), (596, 0.0), (597, 0.05469366487661406), (598, 0.04212389369275548), (599, 0.01917468230010853), (600, 0.009865662107624792), (601, 0.01954205687051136), (602, 0.04046861411033092), (603, 0.024403377869426295), (604, 0.022308084221970358), (605, 0.021393388255906885), (606, 0.00915716744869519), (607, 0.008658884082615607), (608, 0.035102440392390744), (609, 0.02645913540818319), (610, 0.009173127306420734), (611, 0.0025987737014570075), (612, 0.04666717722656635), (613, 0.03074041104938102), (614, 0.02823123182858796), (615, 0.03635528042111896), (616, 0.0157238880679823), (617, 0.005568575627769986), (618, 0.008626848428820218), (619, 0.013763813379480645), (620, 0.017909798528573453), (621, 0.015255225931764234), (622, 0.0128741999934083), (623, 0.02389588591300468), (624, 0.0), (625, 0.01932138734660245), (626, 0.06481595656441436), (627, 0.0343094972031872), (628, 0.05545373552283636), (629, 0.04489109050116502), (630, 0.019360851594597894), (631, 0.006386340490217525), (632, 0.013402323968566054), (633, 0.005025399702584691), (634, 0.018028179197535667), (635, 0.020116472797902726), (636, 0.009777268771455436), (637, 0.02520388748585431), (638, 0.06866946499375044), (639, 0.026471385012992912), (640, 0.030635912636598005), (641, 0.04264322903146665), (642, 0.05046785691012507), (643, 0.021559170887144055), (644, 0.008554504883017398), (645, 0.010825346390486818), (646, 0.031785162641013956), (647, 0.019554230393333958), (648, 0.02906758024682255), (649, 0.0504941652352125), (650, 0.006047722175248076), (651, 0.0034350438347522396), (652, 0.017332818361716264), (653, 0.07950565516083882), (654, 0.03428473536331376), (655, 0.04645810290522663), (656, 0.024371723326603503), (657, 0.028594198755471482), (658, 0.017986651165011438), (659, 0.028917526736922418), (660, 0.03946691429804215), (661, 0.019903056765095687), (662, 0.06508960721725163), (663, 0.019092234449875716), (664, 0.0032093662939113488), (665, 0.07345732045452212), (666, 0.01777842530462321), (667, 0.014934184194542155), (668, 0.02207156411917533), (669, 0.046906285958787375), (670, 0.020983089953613393), (671, 0.0020811605845608466), (672, 0.007276221931766754), (673, 0.008704668459059572), (674, 0.017329849256316317), (675, 0.012265578110939122), (676, 0.011725673547089147), (677, 0.005872292128559434), (678, 0.036588224723340015), (679, 0.046933132656194115), (680, 0.008559549343757071), (681, 0.016308371998884193), (682, 0.019150672861556934), (683, 0.02002914612463713), (684, 0.0), (685, 0.024317184876774145), (686, 0.01816375944474226), (687, 0.022556588837937628), (688, 0.05322496698835482), (689, 0.048229718812908946), (690, 0.018709764255357537), (691, 0.011712291435603294), (692, 0.03235100251725055), (693, 0.0682366171950721), (694, 0.012690213622118363), (695, 0.02355246339471652), (696, 0.028138585692430468), (697, 0.026037306215349002), (698, 0.023959939188211998), (699, 0.017547322490927695), (700, 0.0752817792537951), (701, 0.03280855827190799), (702, 0.05321277153175074), (703, 0.02474681418405394), (704, 0.03307940136821544), (705, 0.026537506061090402), (706, 0.005189599928492737), (707, 0.0340379011920615), (708, 0.01358997492945244), (709, 0.00534119117520745), (710, 0.011767411681205353), (711, 0.04581036301517858), (712, 0.03621943337039951), (713, 0.011512763756767283), (714, 0.014002695488553471), (715, 0.025869891340859236), (716, 0.07026952149359378), (717, 0.05638839530720814), (718, 0.026797121166625477), (719, 0.046110445897194076), (720, 0.015795916908083824), (721, 0.013133728126193952), (722, 0.019766132028102824), (723, 0.06938684892583226), (724, 0.04522262471464413), (725, 0.030899212868453114), (726, 0.018172665313678886), (727, 0.0038009862846032612), (728, 0.019006741104797543), (729, 0.009582294471670576), (730, 0.03154545825913448), (731, 0.016573639689052955), (732, 0.021226299702581372), (733, 0.015341361936947016), (734, 0.01249339561599536), (735, 0.004411179637790859), (736, 0.042334602705020145), (737, 0.011562231435374482), (738, 0.018882071661002923), (739, 0.030595871526557752), (740, 0.01137508968837105), (741, 0.0046816919309349055), (742, 0.020608323642545043), (743, 0.005372340348654829), (744, 0.005637452599495161), (745, 0.010674641587212208), (746, 0.015488942248801445), (747, 0.019943632457873825), (748, 0.05072507943842151), (749, 0.045227620501504015), (750, 0.01308860632101619), (751, 0.026173161190192532), (752, 0.015851055628710108), (753, 0.011851215565432071), (754, 0.0), (755, 0.009047732831499384), (756, 0.0809961460183998), (757, 0.07637468580475859), (758, 0.015226077405784114), (759, 0.026842213530111916), (760, 0.015178847061499412), (761, 0.004114414198624663), (762, 0.026511967079124954), (763, 0.009308733547483393), (764, 0.018174019063821927), (765, 0.043562326192659206), (766, 0.01907771534214707), (767, 0.01790338450410922), (768, 0.013587746734969743), (769, 0.03021389738746296), (770, 0.08338069811617405), (771, 0.03912321932551814), (772, 0.0075248249784298366), (773, 0.020902430187121727), (774, 0.07362710498767014), (775, 0.002296093183757565), (776, 0.003991014559164634), (777, 0.02100401837397615), (778, 0.007526329592683772), (779, 0.05847861064681029), (780, 0.026768894017881663), (781, 0.021266018889388602), (782, 0.028628969501795738), (783, 0.04840665042969225), (784, 0.041912092672828735), (785, 0.02534560877434075), (786, 0.020846462431575164), (787, 0.01425196543365169), (788, 0.018136382268791676), (789, 0.021772924735219516), (790, 0.04539721933257427), (791, 0.037679810995121486), (792, 0.027034558775102885), (793, 0.045296386921567344), (794, 0.016536870243579718), (795, 0.019332992838997264), (796, 0.0037775054616206844), (797, 0.014846382278416288), (798, 0.02265887726533448), (799, 0.020021626034424), (800, 0.0), (801, 0.035679828735468155), (802, 0.03575604554955548), (803, 0.006905066978344844), (804, 0.03276910022041779), (805, 0.027809850572943818), (806, 0.012149685239309064), (807, 0.06492285692642841), (808, 0.021443420587733554), (809, 0.009409147340037869), (810, 0.034901069508647214), (811, 0.04518303549235851), (812, 0.03613121550897541), (813, 0.007540271585464084), (814, 0.01025241008696826), (815, 0.007604414972299318), (816, 0.06735236048618895), (817, 0.04432248063605777), (818, 0.05574830220750211), (819, 0.006525689040547318), (820, 0.012503134731826257), (821, 0.026464149439766944), (822, 0.0), (823, 0.009535603003756558), (824, 0.007918827178074725), (825, 0.04058391126329205), (826, 0.026610873413449344), (827, 0.0), (828, 0.028964593821731263), (829, 0.07248748470498392), (830, 0.06310214910062598), (831, 0.025958304573328983), (832, 0.03028844725716692), (833, 0.08038240497601153), (834, 0.038489433910241344), (835, 0.026910633288163472), (836, 0.020867413539795137), (837, 0.015343521381231339), (838, 0.016724679901268948), (839, 0.014970918410659662), (840, 0.029774805649703702), (841, 0.01698634831440471), (842, 0.02985609346456583), (843, 0.0667822003765812), (844, 0.011508496678525533), (845, 0.031040077601538076), (846, 0.022389284417470904), (847, 0.0051130895032718135), (848, 0.010918217376579227), (849, 0.017815820857346946), (850, 0.014261299404758558), (851, 0.009909116172872202), (852, 0.013117629304287583), (853, 0.006019876060485505), (854, 0.0734410445383807), (855, 0.026898997193395547), (856, 0.018961637620699103), (857, 0.0), (858, 0.03520962877119018), (859, 0.005680557010007089), (860, 0.01045699104237862), (861, 0.054366203872518455), (862, 0.004226226079877288), (863, 0.020488922755349265), (864, 0.034177407806568603), (865, 0.005613890826064354), (866, 0.047546200656751816), (867, 0.012641843551984798), (868, 0.07560824247160591), (869, 0.015263623762388202), (870, 0.004942792327661825), (871, 0.0), (872, 0.01849895900423213), (873, 0.045338323120216954), (874, 0.030027605240640742), (875, 0.04046963796496033), (876, 0.007866555714839789), (877, 0.03551559911124741), (878, 0.022883974844137265), (879, 0.02061772642517211), (880, 0.026019532497133735), (881, 0.015873289497680253), (882, 0.0), (883, 0.011443337937637844), (884, 0.03065379670975926), (885, 0.022142892954197045), (886, 0.0739269546444996), (887, 0.02807744147160231), (888, 0.04987689608698392), (889, 0.012245158849738874), (890, 0.074378336028208), (891, 0.009133014465777441), (892, 0.004052623802587954), (893, 0.010677939322034253), (894, 0.037533890193137645), (895, 0.0), (896, 0.027543803179370406), (897, 0.02414534761305014), (898, 0.021150292046310394), (899, 0.026243949140253874), (900, 0.02009186018271371), (901, 0.0), (902, 0.020564628624976426), (903, 0.015787230825545878), (904, 0.01852550617405417), (905, 0.02229447283938432), (906, 0.015790054658208135), (907, 0.03607864836560695), (908, 0.0), (909, 0.018688795378954803), (910, 0.029002377692339938), (911, 0.04466030973147718), (912, 0.01428571069373673), (913, 0.02550607506946602), (914, 0.010097328310087837), (915, 0.004130932607362268), (916, 0.028695067671117954), (917, 0.01446079309934045), (918, 0.04588916588448416), (919, 0.011970498480013518), (920, 0.052900488473934144), (921, 0.009923222216674094), (922, 0.010558883370310069), (923, 0.017179755714585087), (924, 0.014169213493671642), (925, 0.014427931824053988), (926, 0.013450612803715404), (927, 0.00823637935712814), (928, 0.01860971213586636), (929, 0.002018790278771548), (930, 0.020793903832014446), (931, 0.020660957052695595), (932, 0.012303324533123041), (933, 0.004524970629420393), (934, 0.001923113501261441), (935, 0.04299575959347824), (936, 0.008403759700449195), (937, 0.0063068648482247705), (938, 0.03177657485040492), (939, 0.02372856552071297), (940, 0.017394411259963192), (941, 0.012948868215812322), (942, 0.02113061044724371), (943, 0.023567281097889137), (944, 0.011291938937570446), (945, 0.016445120892974726), (946, 0.040666287412008596), (947, 0.022400478478152814), (948, 0.07455972946752715), (949, 0.0), (950, 0.013035996366233168), (951, 0.06066526231974861), (952, 0.03779249143389788), (953, 0.01559663315675449), (954, 0.044125755900910356), (955, 0.03424716205316102), (956, 0.022864893172602624), (957, 0.030960220795794413), (958, 0.021308807091329263), (959, 0.010142978230040903), (960, 0.01713954075984236), (961, 0.03500599842646772), (962, 0.03764873711803472), (963, 0.009664421567775824), (964, 0.007761668897478685), (965, 0.0284839209840293), (966, 0.015333820916434482), (967, 0.023017398224378774), (968, 0.03590729416517154), (969, 0.01960866142663172), (970, 0.07021177706904287), (971, 0.05127674319447385), (972, 0.0), (973, 0.003936864097348078), (974, 0.0), (975, 0.004978136552946701), (976, 0.03655506755589602), (977, 0.013761593944993262), (978, 0.007834552079379288), (979, 0.029104844723912487), (980, 0.04402445886298964), (981, 0.02638820308850312), (982, 0.008594569534215623), (983, 0.041448893719644664), (984, 0.019725293194099672), (985, 0.04208933545576861), (986, 0.01778541354558831), (987, 0.016624641500910746), (988, 0.013987899999280597), (989, 0.03426308529000821), (990, 0.010730608150979298), (991, 0.021471702258315455), (992, 0.010993464963825429), (993, 0.010108686854200575), (994, 0.016751272694088926), (995, 0.00822539059427316), (996, 0.049844865765000586), (997, 0.01372114814730633), (998, 0.007191537153721556), (999, 0.0066438989766971525), (1000, 0.0), (1001, 0.010430442966779748), (1002, 0.024092371690056593), (1003, 0.012378155898563139), (1004, 0.012363011853076703), (1005, 0.0052196542672917155), (1006, 0.052162897958934605), (1007, 0.047635664948357026), (1008, 0.013368102914333966), (1009, 0.002146619182370064), (1010, 0.03875794395236397), (1011, 0.020535764116852723), (1012, 0.023167524404648414), (1013, 0.0019064971379194272), (1014, 0.01026429262385601), (1015, 0.02074753527421741), (1016, 0.023967264308821786), (1017, 0.06929136103714535), (1018, 0.0), (1019, 0.010285455212836088), (1020, 0.009364485954878057), (1021, 0.006958806567732106), (1022, 0.028648044564023548), (1023, 0.05730767371218722), (1024, 0.023969675809206975), (1025, 0.015437199256782023), (1026, 0.00485839027711016), (1027, 0.01774545610666337), (1028, 0.014449334321938007), (1029, 0.05035199010371222), (1030, 0.010214882150912027), (1031, 0.023247959698516667), (1032, 0.005119098289315003), (1033, 0.01912962964261395), (1034, 0.01629092713255767), (1035, 0.011100416483086725), (1036, 0.027050909389896925), (1037, 0.035028435040639024), (1038, 0.0), (1039, 0.02583196444613083), (1040, 0.022761984610145548), (1041, 0.023225018132730958), (1042, 0.032342011157834666), (1043, 0.006760528612602895), (1044, 0.032877777484395465), (1045, 0.01714264919898298), (1046, 0.01327114476906506), (1047, 0.0317373408653793), (1048, 0.018973436425713502), (1049, 0.04827477476779397), (1050, 0.045111798130713025), (1051, 0.012294390075240209), (1052, 0.02123125682983562), (1053, 0.02526454167660599), (1054, 0.0023723940075203002), (1055, 0.026239380376323406), (1056, 0.02319162419570226), (1057, 0.01290547496481808), (1058, 0.029746541996350313), (1059, 0.017456097789662856), (1060, 0.021206921145722254), (1061, 0.041213102828224574), (1062, 0.05549160623129283), (1063, 0.02983990971440882), (1064, 0.0055800099661537), (1065, 0.010752821622595192), (1066, 0.029833093190129237), (1067, 0.03120271443931217), (1068, 0.01757914019920416), (1069, 0.03042538874835167), (1070, 0.012261860670929221), (1071, 0.04654914466543145), (1072, 0.0017412959307444337), (1073, 0.03396017171378621), (1074, 0.018914592517486888), (1075, 0.005317552637756855), (1076, 0.021759503307163183), (1077, 0.0), (1078, 0.006895553516981684), (1079, 0.024037056548051213), (1080, 0.015128869783814515), (1081, 0.011805298065865761), (1082, 0.040260297816338234), (1083, 0.0254142003909742), (1084, 0.008946492960010974), (1085, 0.025124044023023862), (1086, 0.009347335610102014), (1087, 0.029034033466615948), (1088, 0.015699069293419757), (1089, 0.017110433319675704), (1090, 0.07111291754645815), (1091, 0.0), (1092, 0.005171466061796285), (1093, 0.016463711123584475), (1094, 0.018768691514714227), (1095, 0.038889230767957486), (1096, 0.047998558713076386), (1097, 0.0613101669696696), (1098, 0.01696424954591286), (1099, 0.013850843624307036), (1100, 0.01990513345693736), (1101, 0.0163322267550063), (1102, 0.01524480214145628), (1103, 0.03264783488003276), (1104, 0.008628387643647525), (1105, 0.010762943240898193), (1106, 0.028617751973243136), (1107, 0.007516764972602183), (1108, 0.040945071897509705), (1109, 0.02507177667742068), (1110, 0.0073654020359529065), (1111, 0.001921826209611433), (1112, 0.10200980280162138), (1113, 0.03052031811617483), (1114, 0.02194822525493908), (1115, 0.0643066844053817), (1116, 0.027907176565916587), (1117, 0.035917706758255945), (1118, 0.0), (1119, 0.01824179018731066), (1120, 0.03000208736954865), (1121, 0.05937611189602487), (1122, 0.02080332697146764), (1123, 0.0), (1124, 0.01924436388767375), (1125, 0.04969616446538564), (1126, 0.011897846465301912), (1127, 0.007659735940619096), (1128, 0.015305012062378474), (1129, 0.006488251807803283), (1130, 0.06641543971072775), (1131, 0.0031436265628577175), (1132, 0.006365648727480402), (1133, 0.012517996475160591), (1134, 0.0070354647879156814), (1135, 0.01787774725098924), (1136, 0.010710168936774851), (1137, 0.02450801736227065), (1138, 0.0025313851591025095), (1139, 0.005679052722384735), (1140, 0.00935287707100969), (1141, 0.014104175516673555), (1142, 0.016537591642598312), (1143, 0.02780916867793786), (1144, 0.0071140956057991565), (1145, 0.05112863087270515), (1146, 0.0047358469163543), (1147, 0.004883197101837776), (1148, 0.005349880733426936), (1149, 0.02225155828135765), (1150, 0.026363563818867036), (1151, 0.005390570275027283), (1152, 0.02268396088430409), (1153, 0.01377309487475876), (1154, 0.016507278168503), (1155, 0.04344262341113509), (1156, 0.010749691760285437), (1157, 0.009080514672021846), (1158, 0.011051320415102036), (1159, 0.024580645320676168), (1160, 0.04629385036876285), (1161, 0.01092334520049151), (1162, 0.02661246445962497), (1163, 0.050643352741896165), (1164, 0.003930659094035443), (1165, 0.016911906636063737), (1166, 0.02066388684736216), (1167, 0.033915409381002785), (1168, 0.012667059038102748), (1169, 0.0), (1170, 0.019310641033648754), (1171, 0.06644683556804426), (1172, 0.007226154424437459), (1173, 0.028744590023938303), (1174, 0.017845991185086615), (1175, 0.049887523476682814), (1176, 0.015151688420389223), (1177, 0.025987711042146387), (1178, 0.05731077624998339), (1179, 0.013136796059351856), (1180, 0.03289827946132885), (1181, 0.01883084586929508), (1182, 0.014817002011368478), (1183, 0.018827721788157052), (1184, 0.028313047337858256), (1185, 0.05405839954504148), (1186, 0.015971189364161937), (1187, 0.032909962766776595), (1188, 0.041214300136671184), (1189, 0.003429477629429548), (1190, 0.013420795405458744), (1191, 0.024301395334498356), (1192, 0.03563951758258846), (1193, 0.040667778894499795), (1194, 0.0), (1195, 0.01968251945429495), (1196, 0.0), (1197, 0.029454903123396246), (1198, 0.011108310020196063), (1199, 0.04468432151747385), (1200, 0.010974399370121048), (1201, 0.026477652716039815), (1202, 0.010408535842105313), (1203, 0.006600810088088946), (1204, 0.05724018367729742), (1205, 0.015585776004481763), (1206, 0.013056289345075304), (1207, 0.02458306906253245), (1208, 0.037136561172990204), (1209, 0.014829407022903916), (1210, 0.06577010060484402), (1211, 0.00791183683687292), (1212, 0.013395349908539269), (1213, 0.03063797429698932), (1214, 0.02077299666039868), (1215, 0.03577809678418568), (1216, 0.018807638260344477), (1217, 0.038022462295097245), (1218, 0.013140751564569942), (1219, 0.009683750977100952), (1220, 0.045534368464916375), (1221, 0.07797547190385141), (1222, 0.034527382204361586), (1223, 0.009347524976056846), (1224, 0.013317298337324967), (1225, 0.04519943684982667), (1226, 0.022360059518102812), (1227, 0.02190092861002072), (1228, 0.022230726333639893), (1229, 0.06117636009709211), (1230, 0.047709404881673606), (1231, 0.04385975241038859), (1232, 0.0075131404061347384), (1233, 0.01581769692063798), (1234, 0.02327488379811093), (1235, 0.01631975782749727), (1236, 0.01349815411606382), (1237, 0.021644250715925496), (1238, 0.046938276609979714), (1239, 0.019809003119294524), (1240, 0.05330849573929058), (1241, 0.039495716033697614), (1242, 0.030472334718964104), (1243, 0.04096288394099242), (1244, 0.008892035973681343), (1245, 0.0429269736457755), (1246, 0.002128594424340638), (1247, 0.011701814294786426), (1248, 0.025252433288992925), (1249, 0.0018532670669932302), (1250, 0.017520486124741854), (1251, 0.029384271551934182), (1252, 0.05124113662517396), (1253, 0.028070493516735042), (1254, 0.0571012235158082), (1255, 0.004844437873327799), (1256, 0.011605785892499408), (1257, 0.015279705241579974), (1258, 0.034250177365791605), (1259, 0.024057453516302042), (1260, 0.015385313692165295), (1261, 0.01993869878260937), (1262, 0.010125657461243553), (1263, 0.025694477347956025), (1264, 0.020694926255296335), (1265, 0.0017782388563098025), (1266, 0.030162383615917613), (1267, 0.0793804626643408), (1268, 0.005044046542815489), (1269, 0.019584302386546938), (1270, 0.0), (1271, 0.009230519512835787), (1272, 0.06311575176233067), (1273, 0.014637266191150767), (1274, 0.02023032832626114), (1275, 0.020947449683740363), (1276, 0.05039114430767776), (1277, 0.0063417227494380725), (1278, 0.014803243236330667), (1279, 0.03713418802410998), (1280, 0.024488999442128734), (1281, 0.005210671862596925), (1282, 0.020743200807932856), (1283, 0.009588512562228294), (1284, 0.00774463378445725), (1285, 0.024513137987902202), (1286, 0.03939116450289658), (1287, 0.015262532010958018), (1288, 0.008035206963292046), (1289, 0.024584960437827968), (1290, 0.012456870490856429), (1291, 0.031740260557359394), (1292, 0.0025796903467486033), (1293, 0.003098323026587833), (1294, 0.006914560235323402), (1295, 0.032393963243370266), (1296, 0.01085631285803512), (1297, 0.014442515130941486), (1298, 0.0024046106286638746), (1299, 0.005524536767862624), (1300, 0.023555020254601152), (1301, 0.024025664067157785), (1302, 0.038541895735859553), (1303, 0.06808713287208604), (1304, 0.005013910400127439), (1305, 0.011287749648299624), (1306, 0.057443290105525034), (1307, 0.015792861803943632), (1308, 0.03583524008740337), (1309, 0.027627461945356906), (1310, 0.012966722591432032), (1311, 0.008062312598997298), (1312, 0.004898431832847811), (1313, 0.038206392313491155), (1314, 0.008883998606578392), (1315, 0.019504646405066734), (1316, 0.031156175765507204), (1317, 0.02951235494257766), (1318, 0.03145039393291703), (1319, 0.016747539077161755), (1320, 0.004785543483157107), (1321, 0.009980716524358248), (1322, 0.002405721125476999), (1323, 0.005944641340485135), (1324, 0.002146207718559173), (1325, 0.014647567225077467), (1326, 0.01932781593143171), (1327, 0.010209959489109941), (1328, 0.025821493455605728), (1329, 0.026153967632456372), (1330, 0.025866212962079586), (1331, 0.037585099211083994), (1332, 0.032750323277332724), (1333, 0.011598841513208457), (1334, 0.021316252090048234), (1335, 0.015924849693028577), (1336, 0.009674310420394948), (1337, 0.06041099681544107), (1338, 0.012212926861370937), (1339, 0.07255038949857076), (1340, 0.016458157124930917), (1341, 0.030164101201132658), (1342, 0.0703203299794066), (1343, 0.031326048185541196), (1344, 0.03299512317040221), (1345, 0.012302487979773468), (1346, 0.0760463607585411), (1347, 0.018357503304950378), (1348, 0.023436882998502363), (1349, 0.023369126159964546), (1350, 0.028332202240450705), (1351, 0.005360260533500968), (1352, 0.013168086020445308), (1353, 0.05833816088669924), (1354, 0.0), (1355, 0.022684463120178605), (1356, 0.009477264520964453), (1357, 0.04626353396554998), (1358, 0.024481872568890905), (1359, 0.06448871270978837), (1360, 0.037009140267734095), (1361, 0.022589764385602798), (1362, 0.03379651002144324), (1363, 0.01353958655767704), (1364, 0.05427006967331906), (1365, 0.06361028754426813), (1366, 0.0), (1367, 0.009813121387279152), (1368, 0.04169189292023385), (1369, 0.016885862625260702), (1370, 0.08894597872211749), (1371, 0.02740131240955653), (1372, 0.02657900899270785), (1373, 0.02302586775277226), (1374, 0.04806017057093327), (1375, 0.02991397663949115), (1376, 0.024119251837352754), (1377, 0.012265010085596668), (1378, 0.011668533075920598), (1379, 0.0), (1380, 0.02071590350288614), (1381, 0.045935597248365455), (1382, 0.010777484275570745), (1383, 0.03812781680957985), (1384, 0.02763708141878432), (1385, 0.008519707746766325), (1386, 0.0023161721793978417), (1387, 0.03350286796056533), (1388, 0.04289241226111624), (1389, 0.04086528586846132), (1390, 0.02277328435944297), (1391, 0.028191787065943177), (1392, 0.009740536030742817), (1393, 0.0), (1394, 0.014261949100952742), (1395, 0.0225524821465755), (1396, 0.03150737729235956), (1397, 0.027950194260696417), (1398, 0.04125438891362253), (1399, 0.041702173796978236), (1400, 0.020015663397383), (1401, 0.0040598885342103125), (1402, 0.06445205601044007), (1403, 0.018793452749541074), (1404, 0.004217716570332509), (1405, 0.03460924724232833), (1406, 0.025662916563927197), (1407, 0.010552230655337306), (1408, 0.012902081699037895), (1409, 0.02143241437571551), (1410, 0.0), (1411, 0.018111536717944396), (1412, 0.013815962535502456), (1413, 0.031233296658205567), (1414, 0.01687665806320621), (1415, 0.01330970608316638), (1416, 0.011750072468692781), (1417, 0.026083245729816722), (1418, 0.04782951427566347), (1419, 0.03731867894898286), (1420, 0.00569016611303064), (1421, 0.036375228580917025), (1422, 0.040820294209180374), (1423, 0.03769346236728576), (1424, 0.01804437798501226), (1425, 0.0), (1426, 0.022839134348020575), (1427, 0.015130164209268788), (1428, 0.005241211312280945), (1429, 0.009780138229948178), (1430, 0.04318293720683725), (1431, 0.027989248155289023), (1432, 0.05314821670819958), (1433, 0.007257217319792043), (1434, 0.10117958941673899), (1435, 0.008058731602323548), (1436, 0.009688495646727894), (1437, 0.01911638132570347), (1438, 0.06362213435385058), (1439, 0.04394039441926609), (1440, 0.0443752926881612), (1441, 0.009111287228260531), (1442, 0.024282877186515662), (1443, 0.014991888669084316), (1444, 0.029438051032536154), (1445, 0.0039519107902753585), (1446, 0.01662225254354793), (1447, 0.03666973482135227), (1448, 0.007384942859543044), (1449, 0.016572552586720933), (1450, 0.05233987963363789), (1451, 0.029589899851978615), (1452, 0.006962191069498095), (1453, 0.0655178816384596), (1454, 0.0), (1455, 0.02459265387157278), (1456, 0.028215694723946368), (1457, 0.005729274382087677), (1458, 0.009923462019045145), (1459, 0.05276090037099542), (1460, 0.01914437030825409), (1461, 0.039611969895706964), (1462, 0.041375862447772215), (1463, 0.060932285679142176), (1464, 0.01676261530962537), (1465, 0.03766879980021677), (1466, 0.05409097887791797), (1467, 0.0241270812176682), (1468, 0.009321131731175727), (1469, 0.05874196379386665), (1470, 0.015632128048857295), (1471, 0.017033899308144636), (1472, 0.010119930192682904), (1473, 0.014794260298636815), (1474, 0.013375472938816671), (1475, 0.060919291939422054), (1476, 0.015857881698742436), (1477, 0.0096820854476933), (1478, 0.03475614278386095), (1479, 0.009188797104544769), (1480, 0.024144014389189165), (1481, 0.0), (1482, 0.009008999525681682), (1483, 0.007864113616303035), (1484, 0.04868993483448647), (1485, 0.0036426743567589317), (1486, 0.0074460283436789485), (1487, 0.028865490775823448), (1488, 0.028136712676071006), (1489, 0.01709635556449002), (1490, 0.01820030214267443), (1491, 0.03206394806936836), (1492, 0.03530432282162607), (1493, 0.04015308914272807), (1494, 0.009708779493124608), (1495, 0.03667601377258116), (1496, 0.01993897871491167), (1497, 0.005670163506925908), (1498, 0.03198670181772477), (1499, 0.00919113228768853), (1500, 0.04145889235828078), (1501, 0.0), (1502, 0.011439175013857251), (1503, 0.0), (1504, 0.014403746112942217), (1505, 0.006787957043968894), (1506, 0.00559445504893722), (1507, 0.04440274505308248), (1508, 0.0), (1509, 0.02019568891609729), (1510, 0.018595598103268947), (1511, 0.0149023558146813), (1512, 0.07439158432403543), (1513, 0.029937698874803152), (1514, 0.05754535270455549), (1515, 0.01639503733369783), (1516, 0.03235976241603949), (1517, 0.012565208550791254), (1518, 0.00532790013312803), (1519, 0.014103340864941747), (1520, 0.06775424645508878), (1521, 0.006537963239914766), (1522, 0.06867132196223813), (1523, 0.0), (1524, 0.03967357095350333), (1525, 0.01098802381103604), (1526, 0.016091790749460103), (1527, 0.03820257034381145), (1528, 0.005089267806101499), (1529, 0.023636210324762583), (1530, 0.007332133773639192), (1531, 0.0), (1532, 0.004985985874237568), (1533, 0.004428387378838163), (1534, 0.03462790598757481), (1535, 0.021958523238376267), (1536, 0.010722151932381081), (1537, 0.03287764348910305), (1538, 0.02506355352434305), (1539, 0.0), (1540, 0.023798602031881798), (1541, 0.047954134250400175), (1542, 0.030858045279398318), (1543, 0.028771801997850923), (1544, 0.05623497913833303), (1545, 0.02795468017195747), (1546, 0.0), (1547, 0.0413857039793409), (1548, 0.010031908395418707), (1549, 0.0128316650946878), (1550, 0.042855318424314774), (1551, 0.004911264433894456), (1552, 0.004386347391271823), (1553, 0.019105295389149003), (1554, 0.003575236323120813), (1555, 0.023658824897931998), (1556, 0.01402755089533006), (1557, 0.01755299337772919), (1558, 0.04212541316660694), (1559, 0.022308489974366755), (1560, 0.019020243534807895), (1561, 0.0), (1562, 0.03296653553252754), (1563, 0.05427122144534802), (1564, 0.004938023503056145), (1565, 0.06155678066742027), (1566, 0.019011088526031054), (1567, 0.007437569549416405), (1568, 0.06531590681146737), (1569, 0.0), (1570, 0.03433449846290044), (1571, 0.007479297785397085), (1572, 0.026880322322966048), (1573, 0.058155148559051094), (1574, 0.028592397318915982), (1575, 0.03932438050046794), (1576, 0.025407517235904502), (1577, 0.012907468362418652), (1578, 0.011999417469277032), (1579, 0.04021458306631266), (1580, 0.039815723189082004), (1581, 0.01471993946809887), (1582, 0.011064690104440025), (1583, 0.003281025144654519), (1584, 0.007931894917017825), (1585, 0.06700793736323149), (1586, 0.05087127150138177), (1587, 0.023950722298983866), (1588, 0.04109215839288504), (1589, 0.007653755842962387), (1590, 0.03290986497880883), (1591, 0.009653573303015566), (1592, 0.027343394376086287), (1593, 0.10229675737353869), (1594, 0.018522916430822177), (1595, 0.0), (1596, 0.025600730699394184), (1597, 0.0039224484130571165), (1598, 0.005671111395020194), (1599, 0.05460138452960189), (1600, 0.02279119890467092), (1601, 0.022647929434809953), (1602, 0.015157224017120777), (1603, 0.011476415568402523), (1604, 0.002455441107204042), (1605, 0.007203837550402492), (1606, 0.01633759447177462), (1607, 0.01841599945339895), (1608, 0.010662511577955853), (1609, 0.054189415786375345), (1610, 0.010252599038082061), (1611, 0.010751218962728154), (1612, 0.03857454961596545), (1613, 0.012607567427908957), (1614, 0.018878353551408544), (1615, 0.011467139243864865), (1616, 0.0), (1617, 0.08109328145152014), (1618, 0.01303623426106902), (1619, 0.014781021082001956), (1620, 0.08664008132443551), (1621, 0.00735765339991768), (1622, 0.01911436259884909), (1623, 0.013380774129244394), (1624, 0.029318549108613146), (1625, 0.050952509874054884), (1626, 0.06079534818790801), (1627, 0.011630145597456983), (1628, 0.01455453922564872), (1629, 0.009299827094221943), (1630, 0.009108863766419666), (1631, 0.0333024023874511), (1632, 0.06935099119757951), (1633, 0.011286364163192751), (1634, 0.030984263912802124), (1635, 0.07504802286362283), (1636, 0.017648101571989323), (1637, 0.006462079861551515), (1638, 0.02676289425043861), (1639, 0.0), (1640, 0.024703068638848066), (1641, 0.04796964070978243), (1642, 0.021984196491126252), (1643, 0.01363192469709407), (1644, 0.013954181586612737), (1645, 0.005610448778989111), (1646, 0.026962296085195868), (1647, 0.007913639637067236), (1648, 0.006172272537158356), (1649, 0.020504684777635448), (1650, 0.05582809007770166), (1651, 0.023759383047047694), (1652, 0.01742196178321744), (1653, 0.06758756234802407), (1654, 0.037191873737365315), (1655, 0.005076477671554553), (1656, 0.06948305097467053), (1657, 0.03138729238224702), (1658, 0.0), (1659, 0.02641530324780351), (1660, 0.01935267321396512), (1661, 0.05361934945964977), (1662, 0.02030009815659678), (1663, 0.02827069590897052), (1664, 0.004950019386550182), (1665, 0.021486073239394426), (1666, 0.03917839829486815), (1667, 0.007912717133062684), (1668, 0.01773735011114294), (1669, 0.045714726580589636), (1670, 0.020595606349281773), (1671, 0.009650096514569838), (1672, 0.007968431154295496), (1673, 0.02634236342034398), (1674, 0.018854914101765208), (1675, 0.01486813939598424), (1676, 0.01807993980801697), (1677, 0.0030342735356375535), (1678, 0.02209962961511925), (1679, 0.04876061694199029), (1680, 0.038428748185215425), (1681, 0.02217493196268414), (1682, 0.00454270518688733), (1683, 0.014103959387763022), (1684, 0.012759083486809111), (1685, 0.003926389663527898), (1686, 0.05517087994742387), (1687, 0.0), (1688, 0.01840632022489754), (1689, 0.021533815304293786), (1690, 0.0), (1691, 0.010205020996507492), (1692, 0.04386166497610252), (1693, 0.0), (1694, 0.061047821895692675), (1695, 0.031219345309117442), (1696, 0.0035122954005400234), (1697, 0.01237448290707587), (1698, 0.0056758647329366715), (1699, 0.046867432753680584), (1700, 0.03261382490482124), (1701, 0.00255671697198813), (1702, 0.03033496014753509), (1703, 0.019125839221426237), (1704, 0.01370226475477318), (1705, 0.06364882864269138), (1706, 0.05749585798087527), (1707, 0.04519402051448145), (1708, 0.010005715316680236), (1709, 0.009864637397668227), (1710, 0.04327572784526837), (1711, 0.09551057394028403), (1712, 0.02970517434682732), (1713, 0.012110915409767227), (1714, 0.05832835539886426), (1715, 0.0335436189363986), (1716, 0.04798130516365216), (1717, 0.0183070387135867), (1718, 0.03197883296172189), (1719, 0.020197373770657855), (1720, 0.0071458044628060205), (1721, 0.01601779968436739), (1722, 0.03909603576849957), (1723, 0.02501875840128555), (1724, 0.015548347648262557), (1725, 0.05501020252501044), (1726, 0.051428200915051986), (1727, 0.005355754216742873), (1728, 0.016169877608980303), (1729, 0.03342613030824848), (1730, 0.04293455990585765), (1731, 0.009484837007491104), (1732, 0.0352310646765793), (1733, 0.03682116332064371), (1734, 0.04020726025792575), (1735, 0.02541147916901616), (1736, 0.052326025468848895), (1737, 0.014795465976530373), (1738, 0.0), (1739, 0.013404109311682259), (1740, 0.031098381332687206), (1741, 0.03400567384815892), (1742, 0.010347973078377386), (1743, 0.0), (1744, 0.02480976960137373), (1745, 0.005658191895415127), (1746, 0.033859934031265394), (1747, 0.031873591881174196), (1748, 0.0170957917559337), (1749, 0.03641423406257404), (1750, 0.043571235100552407), (1751, 0.005221807806230604), (1752, 0.04885232656236385), (1753, 0.03796316033449031), (1754, 0.018510611611199854), (1755, 0.03293526764304867), (1756, 0.011698068431548352), (1757, 0.0), (1758, 0.005575939805256236), (1759, 0.029716963687883437), (1760, 0.04682462035744421), (1761, 0.012815571758391391), (1762, 0.0), (1763, 0.0), (1764, 0.013469521709113905), (1765, 0.009120680161171837), (1766, 0.01402634914204548), (1767, 0.04223556012424467), (1768, 0.0), (1769, 0.01568821432277575), (1770, 0.031848843650936765), (1771, 0.024142348849710747), (1772, 0.010168711736364917), (1773, 0.012602800776351859), (1774, 0.00947250194444483), (1775, 0.013639788161968857), (1776, 0.03679110126891974), (1777, 0.036588639130107035), (1778, 0.0), (1779, 0.04104232211463981), (1780, 0.0), (1781, 0.03421757469287026), (1782, 0.0), (1783, 0.025497169177414944), (1784, 0.041795463730901), (1785, 0.023476193020349676), (1786, 0.028684542137081905), (1787, 0.01272217661923105), (1788, 0.05607179301239655), (1789, 0.01678370032261161), (1790, 0.014272711643124443), (1791, 0.019451412697976563), (1792, 0.044349271198631836), (1793, 0.004908816416935918), (1794, 0.020445293000860832), (1795, 0.002171176378260774), (1796, 0.010134875112620113), (1797, 0.026901748525819377), (1798, 0.01363092270156892), (1799, 0.05384763191052214), (1800, 0.0330549911945646), (1801, 0.008667586822799087), (1802, 0.0035153319121161144), (1803, 0.0), (1804, 0.03662569042697117), (1805, 0.004992841347363953), (1806, 0.024972124351253955), (1807, 0.03987254555902643), (1808, 0.016342896042677357), (1809, 0.04386886396434021), (1810, 0.027566574922977115), (1811, 0.03860813829455724), (1812, 0.02002269894386283), (1813, 0.051117573856114), (1814, 0.015568236432194881), (1815, 0.018386441693339764), (1816, 0.0228057245363414), (1817, 0.06135145037653124), (1818, 0.06756296807820295), (1819, 0.005073494848437843), (1820, 0.0751330379549397), (1821, 0.08393593452603627), (1822, 0.00382314951461262), (1823, 0.050263765874819795), (1824, 0.06517998237728273), (1825, 0.02047200952231942), (1826, 0.011420220978616977), (1827, 0.02951708736125889), (1828, 0.009957212636559536), (1829, 0.05847030688541924), (1830, 0.002014991898409828), (1831, 0.047139515811558536), (1832, 0.02808389611713548), (1833, 0.04090303499091327), (1834, 0.018216135431740502), (1835, 0.019579070829127184), (1836, 0.0692657880548373), (1837, 0.00738368330598667), (1838, 0.010788237516587187), (1839, 0.007807908760437425), (1840, 0.010704273498170314), (1841, 0.02453216220628286), (1842, 0.033483774380836696), (1843, 0.019126146445374734), (1844, 0.029357438462102536), (1845, 0.02724635431970253), (1846, 0.036308373083131784), (1847, 0.003793794523990396), (1848, 0.009809716972228221), (1849, 0.04606019996421862), (1850, 0.014675668251723761), (1851, 0.02786488381271422), (1852, 0.0), (1853, 0.006975580854770258), (1854, 0.0268080820480576), (1855, 0.046771269457696316), (1856, 0.038518699152795786), (1857, 0.031336568556768724), (1858, 0.011061390481169149), (1859, 0.017560384254360725), (1860, 0.010098740003173758), (1861, 0.04487905650785589), (1862, 0.01151997813229683), (1863, 0.0), (1864, 0.03604583105146942), (1865, 0.021464047045638274), (1866, 0.044382485008708), (1867, 0.006044232444012023), (1868, 0.011265507103731833), (1869, 0.0019289184480393523), (1870, 0.011207095318532034), (1871, 0.05862822299568002), (1872, 0.002398660028730922), (1873, 0.007503533189909142), (1874, 0.02262051703689951), (1875, 0.04811994729838311), (1876, 0.01182871286713573), (1877, 0.015986216764789323), (1878, 0.015676138778402116), (1879, 0.007124366974381282), (1880, 0.012733044476115611), (1881, 0.009418360521547804), (1882, 0.011173234527753144), (1883, 0.0), (1884, 0.005644487003030371), (1885, 0.011395536386878338), (1886, 0.04579749570639121), (1887, 0.020983701819274236), (1888, 0.007972886355305797), (1889, 0.04743427336431235), (1890, 0.0048591942457815885), (1891, 0.02696228761918852), (1892, 0.005979959476106301), (1893, 0.008542872256960486), (1894, 0.019539798813103797), (1895, 0.015705338910426164), (1896, 0.02481136231536951), (1897, 0.01087136698372434), (1898, 0.018419064267699573), (1899, 0.023844538125450215), (1900, 0.017760639248744697), (1901, 0.05177932892974157), (1902, 0.036098250666576154), (1903, 0.02422075978112236), (1904, 0.029653408786540957), (1905, 0.029854338568415243), (1906, 0.014098499987634827), (1907, 0.018399507074235193), (1908, 0.0032595221755258837), (1909, 0.015552970327324032), (1910, 0.01431285813594031), (1911, 0.010092733389615654), (1912, 0.004381026709543139), (1913, 0.0040727512896852475), (1914, 0.020525704623637002), (1915, 0.009094491474375153), (1916, 0.012896991946013743), (1917, 0.010050866246890009), (1918, 0.022515558115401662), (1919, 0.02259812809773864), (1920, 0.0), (1921, 0.02635364387573184), (1922, 0.006447294176169768), (1923, 0.020267887297864773), (1924, 0.006716165294031129), (1925, 0.014478529627768853), (1926, 0.01298170108390891), (1927, 0.0024227324938244418), (1928, 0.0), (1929, 0.018115698805490812), (1930, 0.008132002998812315), (1931, 0.026506790733715004), (1932, 0.01301540931125602), (1933, 0.025219071539735696), (1934, 0.029978811155802167), (1935, 0.009627636810086571), (1936, 0.014450924719342192), (1937, 0.0672679589951805), (1938, 0.0), (1939, 0.015322060092997414), (1940, 0.015201822919504983), (1941, 0.046358975463889396), (1942, 0.03706458713116397), (1943, 0.02252283994255304), (1944, 0.07605502986776923), (1945, 0.010434990325446775), (1946, 0.018143938648753265), (1947, 0.00480650851558322), (1948, 0.03982595208701331), (1949, 0.05793361821429018), (1950, 0.0), (1951, 0.0146557738404525), (1952, 0.015094938289889398), (1953, 0.009428147450291581), (1954, 0.048747341718203226), (1955, 0.019632505566616876), (1956, 0.014963206413919773), (1957, 0.08299066976461764), (1958, 0.05269492143111801), (1959, 0.03162552875071104), (1960, 0.056385119002840094), (1961, 0.03700354093404286), (1962, 0.0038007496451933007), (1963, 0.015692796023757588), (1964, 0.005099328214732762), (1965, 0.03265256725747403), (1966, 0.0), (1967, 0.01088344975677414), (1968, 0.004734957225001902), (1969, 0.011547543556073982), (1970, 0.0), (1971, 0.029194299858063044), (1972, 0.023822604114262402), (1973, 0.04140752777177306), (1974, 0.013296342428330905), (1975, 0.02022796781597299), (1976, 0.03759436516125835), (1977, 0.013632789594777995), (1978, 0.034847447664987374), (1979, 0.0), (1980, 0.02554128982293174), (1981, 0.016253269867934822), (1982, 0.05371180310996806), (1983, 0.03472990302624813), (1984, 0.0325048049656761), (1985, 0.023112008141681246), (1986, 0.05115320194856073), (1987, 0.03388113320135547), (1988, 0.013475663075734712), (1989, 0.0038518972061279662), (1990, 0.0), (1991, 0.020762720714986374), (1992, 0.01422183738824052), (1993, 0.07289544136186346), (1994, 0.02684979569610966), (1995, 0.0036633837614087955), (1996, 0.00616033497750908), (1997, 0.029286513932850734), (1998, 0.03608965425019955), (1999, 0.024158409860065247), (2000, 0.01736192851043149), (2001, 0.054234715951256285), (2002, 0.00684469419385528), (2003, 0.03250542021292574), (2004, 0.038406977664621936), (2005, 0.052249047352752674), (2006, 0.02106067305136846), (2007, 0.015184802310578631), (2008, 0.0331613853113768), (2009, 0.04171063805638856), (2010, 0.008092262562762456), (2011, 0.020350352054302003), (2012, 0.02438475997650772), (2013, 0.0176545468421686), (2014, 0.023846879992575003), (2015, 0.028117947249221235), (2016, 0.005632425167418737), (2017, 0.016365003880690412), (2018, 0.016123182656518492), (2019, 0.026888427831913336), (2020, 0.014521923648811115), (2021, 0.0), (2022, 0.01224894154004374), (2023, 0.06177734078044728), (2024, 0.0579907155429353), (2025, 0.012067284130492356), (2026, 0.04354959655689605), (2027, 0.019538486738677845), (2028, 0.023748539517102266), (2029, 0.0), (2030, 0.03903914707731684), (2031, 0.022485326930755667), (2032, 0.034845142975365895), (2033, 0.03249504102091252), (2034, 0.005346762326989807), (2035, 0.007007845141066445), (2036, 0.030377425554284992), (2037, 0.02788970942106714), (2038, 0.00780811149087911), (2039, 0.00685960189917109), (2040, 0.014308507248740797), (2041, 0.024676942359402397), (2042, 0.01854611401897051), (2043, 0.021952171750674734), (2044, 0.04824912489199598), (2045, 0.011056164164501416), (2046, 0.010007799843556077), (2047, 0.02005625449819428), (2048, 0.012501591255153174), (2049, 0.029267538072196342), (2050, 0.022289171037331055), (2051, 0.05326234924688763), (2052, 0.026378700205225283), (2053, 0.004600465789800753), (2054, 0.039253518128505985), (2055, 0.040356837835556325), (2056, 0.02586568423643484), (2057, 0.023030153224333317), (2058, 0.019784674833908965), (2059, 0.0), (2060, 0.0274964410038906), (2061, 0.053083127646041485), (2062, 0.009208786009538844), (2063, 0.0), (2064, 0.005493395825757045), (2065, 0.02212392191377928), (2066, 0.04372731442500161), (2067, 0.041421565134053706), (2068, 0.010268175315189833), (2069, 0.0), (2070, 0.015024322073109943), (2071, 0.0043589094293881555), (2072, 0.010186119765137938), (2073, 0.02633449419192722), (2074, 0.0), (2075, 0.010013998173772815), (2076, 0.020880317895648724), (2077, 0.004201455441771186), (2078, 0.0), (2079, 0.03776087870620349), (2080, 0.02391205356503601), (2081, 0.023900143060124116), (2082, 0.011243495802181551), (2083, 0.010501282427163007), (2084, 0.02971992651820039), (2085, 0.01487910886847043), (2086, 0.03459907775304696), (2087, 0.024305172344991917), (2088, 0.020238655115241387), (2089, 0.023096798225399), (2090, 0.005628756951239917), (2091, 0.029285651982169522), (2092, 0.028180332713646554), (2093, 0.013059011101378288), (2094, 0.012217884853710163), (2095, 0.02195522359520943), (2096, 0.01875478457324796), (2097, 0.005551015774534952), (2098, 0.014420493715653179), (2099, 0.018819098307981674), (2100, 0.027001012440841878), (2101, 0.01082353162643333), (2102, 0.006730069982003788), (2103, 0.02146760012999479), (2104, 0.033436472793034515), (2105, 0.012633503950686388), (2106, 0.03497750499248026), (2107, 0.008788659629271799), (2108, 0.0040976568704643905), (2109, 0.018855890398456247), (2110, 0.01046681234395817), (2111, 0.0), (2112, 0.005811780485605261), (2113, 0.016530190654876216), (2114, 0.04566988392269202), (2115, 0.033016696770949434), (2116, 0.0), (2117, 0.026157486079835885), (2118, 0.01654790576593369), (2119, 0.01855857907975089), (2120, 0.007618854150790058), (2121, 0.027802738551326305), (2122, 0.029832405759050447), (2123, 0.031146707761489), (2124, 0.005645079842661114), (2125, 0.026844827722124723), (2126, 0.03083219247326267), (2127, 0.0018752731303448102), (2128, 0.008116337577121283), (2129, 0.09359053956643167), (2130, 0.010617205792074168), (2131, 0.017739434196055552), (2132, 0.05297338627943931), (2133, 0.006445436058461439), (2134, 0.006245160635630378), (2135, 0.031171645688954114), (2136, 0.11021447132566749), (2137, 0.002321267184450613), (2138, 0.02080907089725624), (2139, 0.021026328470405035), (2140, 0.01184999413928685), (2141, 0.03247559239694615), (2142, 0.036100817869118194), (2143, 0.053339592617272134), (2144, 0.028400255749910463), (2145, 0.02008184888561613), (2146, 0.058555826689266344), (2147, 0.0574733788374223), (2148, 0.030390532792332368), (2149, 0.06393630592151037), (2150, 0.016081606058589066), (2151, 0.02706445925490102), (2152, 0.015411303628754348), (2153, 0.0055982138085675405), (2154, 0.024159372346031945), (2155, 0.07495038935070247), (2156, 0.01930616247675259), (2157, 0.012340208566094819), (2158, 0.034290352016165995), (2159, 0.018700738524251838), (2160, 0.005081293374497576), (2161, 0.007588672519642006), (2162, 0.01187232093832597), (2163, 0.01543002262895941), (2164, 0.05341898009878991), (2165, 0.01930000661317169), (2166, 0.042958883796834754), (2167, 0.028472541139578582), (2168, 0.011960722172654897), (2169, 0.02207581572667948), (2170, 0.011682830092005297), (2171, 0.0443619772812516), (2172, 0.03035651419954884), (2173, 0.008600610864476808), (2174, 0.04421980165994072), (2175, 0.04342812207142267), (2176, 0.0), (2177, 0.019199690424582402), (2178, 0.011445823488209314), (2179, 0.03644185991700416), (2180, 0.007001569635500869), (2181, 0.018628678148985632), (2182, 0.026046714331390493), (2183, 0.0), (2184, 0.02801267318922063), (2185, 0.03676282972950592), (2186, 0.023199468260951962), (2187, 0.033535240494779656), (2188, 0.008072236503492985), (2189, 0.012053870041241296), (2190, 0.008048475280301932), (2191, 0.02596022073959981), (2192, 0.02198221546480659), (2193, 0.039488288316347424), (2194, 0.0), (2195, 0.02419596587834718), (2196, 0.003446531982621288), (2197, 0.029841556303212738), (2198, 0.07250599960708785)]\n"
          ]
        }
      ]
    },
    {
      "cell_type": "code",
      "source": [
        "len(Recommendation_Score)"
      ],
      "metadata": {
        "trusted": true,
        "colab": {
          "base_uri": "https://localhost:8080/"
        },
        "id": "gKv4AKUb1cys",
        "outputId": "555bdab0-6cd7-4475-c065-4b7b78453a59"
      },
      "execution_count": 241,
      "outputs": [
        {
          "output_type": "execute_result",
          "data": {
            "text/plain": [
              "2199"
            ]
          },
          "metadata": {},
          "execution_count": 241
        }
      ]
    },
    {
      "cell_type": "markdown",
      "source": [
        "# **Get All Movies Sort Based on Recommendation Score wrt Favourite Movie**"
      ],
      "metadata": {
        "id": "KET_sRq11cyt"
      }
    },
    {
      "cell_type": "code",
      "source": [
        "# sorting the movies based on their similarity score\n",
        "\n",
        "Sorted_Similar_Movies = sorted(Recommendation_Score, key = lambda x:x[1], reverse = True)\n",
        "print(Sorted_Similar_Movies)"
      ],
      "metadata": {
        "trusted": true,
        "id": "bhlqBS751cyt",
        "colab": {
          "base_uri": "https://localhost:8080/"
        },
        "outputId": "8d0ade31-4b6d-4e93-beac-3eff319d6929"
      },
      "execution_count": 242,
      "outputs": [
        {
          "output_type": "stream",
          "name": "stdout",
          "text": [
            "[(2, 1.0), (332, 0.13996979030245893), (2136, 0.11021447132566749), (587, 0.10252159563122049), (1593, 0.10229675737353869), (1112, 0.10200980280162138), (1434, 0.10117958941673899), (1711, 0.09551057394028403), (2129, 0.09359053956643167), (1370, 0.08894597872211749), (1620, 0.08664008132443551), (1821, 0.08393593452603627), (770, 0.08338069811617405), (1957, 0.08299066976461764), (1617, 0.08109328145152014), (756, 0.0809961460183998), (833, 0.08038240497601153), (372, 0.07964432455940845), (653, 0.07950565516083882), (1267, 0.0793804626643408), (1221, 0.07797547190385141), (757, 0.07637468580475859), (352, 0.07620643077749138), (1944, 0.07605502986776923), (1346, 0.0760463607585411), (868, 0.07560824247160591), (700, 0.0752817792537951), (1820, 0.0751330379549397), (484, 0.07507822902355737), (1635, 0.07504802286362283), (2155, 0.07495038935070247), (77, 0.07484058820721802), (948, 0.07455972946752715), (1512, 0.07439158432403543), (890, 0.074378336028208), (886, 0.0739269546444996), (774, 0.07362710498767014), (665, 0.07345732045452212), (854, 0.0734410445383807), (1993, 0.07289544136186346), (1339, 0.07255038949857076), (2198, 0.07250599960708785), (829, 0.07248748470498392), (184, 0.07243539079532713), (1090, 0.07111291754645815), (47, 0.07108538749353822), (181, 0.07102673187402497), (418, 0.07068374855007062), (1342, 0.0703203299794066), (716, 0.07026952149359378), (970, 0.07021177706904287), (321, 0.07010563799711879), (1656, 0.06948305097467053), (723, 0.06938684892583226), (1632, 0.06935099119757951), (1017, 0.06929136103714535), (1836, 0.0692657880548373), (28, 0.0686995958186293), (1522, 0.06867132196223813), (638, 0.06866946499375044), (693, 0.0682366171950721), (1303, 0.06808713287208604), (1520, 0.06775424645508878), (1653, 0.06758756234802407), (1818, 0.06756296807820295), (816, 0.06735236048618895), (1937, 0.0672679589951805), (1585, 0.06700793736323149), (17, 0.06690590353806466), (843, 0.0667822003765812), (1171, 0.06644683556804426), (1130, 0.06641543971072775), (1210, 0.06577010060484402), (1453, 0.0655178816384596), (1568, 0.06531590681146737), (1824, 0.06517998237728273), (662, 0.06508960721725163), (807, 0.06492285692642841), (626, 0.06481595656441436), (1359, 0.06448871270978837), (1402, 0.06445205601044007), (1115, 0.0643066844053817), (2149, 0.06393630592151037), (1705, 0.06364882864269138), (1438, 0.06362213435385058), (1365, 0.06361028754426813), (1272, 0.06311575176233067), (830, 0.06310214910062598), (2023, 0.06177734078044728), (1565, 0.06155678066742027), (1817, 0.06135145037653124), (1097, 0.0613101669696696), (1229, 0.06117636009709211), (1694, 0.061047821895692675), (1463, 0.060932285679142176), (1475, 0.060919291939422054), (1626, 0.06079534818790801), (951, 0.06066526231974861), (1337, 0.06041099681544107), (53, 0.06035843703020788), (521, 0.05995592256542982), (1121, 0.05937611189602487), (1469, 0.05874196379386665), (1871, 0.05862822299568002), (2146, 0.058555826689266344), (779, 0.05847861064681029), (1829, 0.05847030688541924), (1353, 0.05833816088669924), (1714, 0.05832835539886426), (538, 0.05828534857358004), (155, 0.0581692600687457), (1573, 0.058155148559051094), (37, 0.058006316902979214), (2024, 0.0579907155429353), (1949, 0.05793361821429018), (1514, 0.05754535270455549), (1706, 0.05749585798087527), (2147, 0.0574733788374223), (254, 0.05747291139820408), (1306, 0.057443290105525034), (1178, 0.05731077624998339), (1023, 0.05730767371218722), (1204, 0.05724018367729742), (1254, 0.0571012235158082), (717, 0.05638839530720814), (1960, 0.056385119002840094), (1544, 0.05623497913833303), (378, 0.056192237593952254), (1788, 0.05607179301239655), (105, 0.05603873135045835), (1650, 0.05582809007770166), (471, 0.055817524283608644), (541, 0.055757348879954836), (818, 0.05574830220750211), (489, 0.055685806715555494), (1062, 0.05549160623129283), (628, 0.05545373552283636), (25, 0.05543010192008672), (315, 0.05534552246742095), (1686, 0.05517087994742387), (1725, 0.05501020252501044), (338, 0.054768591236782245), (597, 0.05469366487661406), (1599, 0.05460138452960189), (456, 0.05445239379349907), (204, 0.054404644698624285), (861, 0.054366203872518455), (433, 0.054321904072456906), (1563, 0.05427122144534802), (1364, 0.05427006967331906), (2001, 0.054234715951256285), (1609, 0.054189415786375345), (479, 0.05414643208326782), (1466, 0.05409097887791797), (1185, 0.05405839954504148), (1799, 0.05384763191052214), (1982, 0.05371180310996806), (1661, 0.05361934945964977), (185, 0.05359105674386658), (2164, 0.05341898009878991), (26, 0.05338013211798028), (2143, 0.053339592617272134), (1240, 0.05330849573929058), (2051, 0.05326234924688763), (439, 0.05324639623925825), (688, 0.05322496698835482), (702, 0.05321277153175074), (1432, 0.05314821670819958), (2061, 0.053083127646041485), (2132, 0.05297338627943931), (920, 0.052900488473934144), (1459, 0.05276090037099542), (1958, 0.05269492143111801), (1450, 0.05233987963363789), (1736, 0.052326025468848895), (2005, 0.052249047352752674), (1006, 0.052162897958934605), (369, 0.052079649185267377), (1901, 0.05177932892974157), (394, 0.051576563405096955), (1726, 0.051428200915051986), (971, 0.05127674319447385), (1252, 0.05124113662517396), (1986, 0.05115320194856073), (1145, 0.05112863087270515), (452, 0.05112056341895632), (1813, 0.051117573856114), (345, 0.05097564152312201), (1625, 0.050952509874054884), (1586, 0.05087127150138177), (748, 0.05072507943842151), (1163, 0.050643352741896165), (649, 0.0504941652352125), (642, 0.05046785691012507), (1276, 0.05039114430767776), (1029, 0.05035199010371222), (1823, 0.050263765874819795), (223, 0.05013158112942896), (463, 0.05002369947358546), (480, 0.04988872512036492), (1175, 0.049887523476682814), (888, 0.04987689608698392), (996, 0.049844865765000586), (49, 0.04980255766198207), (1125, 0.04969616446538564), (176, 0.04967401131814386), (18, 0.04966095726507856), (100, 0.04920900654386093), (441, 0.0491908078369787), (396, 0.04903850257940236), (351, 0.048912600069331104), (1752, 0.04885232656236385), (1679, 0.04876061694199029), (1954, 0.048747341718203226), (1484, 0.04868993483448647), (578, 0.048624019735285885), (517, 0.048557445461523574), (783, 0.04840665042969225), (83, 0.04836717495682741), (1049, 0.04827477476779397), (2044, 0.04824912489199598), (308, 0.04824839176975702), (689, 0.048229718812908946), (1875, 0.04811994729838311), (1374, 0.04806017057093327), (1096, 0.047998558713076386), (1716, 0.04798130516365216), (1641, 0.04796964070978243), (1541, 0.047954134250400175), (1418, 0.04782951427566347), (1230, 0.047709404881673606), (1007, 0.047635664948357026), (866, 0.047546200656751816), (1889, 0.04743427336431235), (1831, 0.047139515811558536), (1238, 0.046938276609979714), (679, 0.046933132656194115), (669, 0.046906285958787375), (1699, 0.046867432753680584), (1760, 0.04682462035744421), (1855, 0.046771269457696316), (612, 0.04666717722656635), (1071, 0.04654914466543145), (655, 0.04645810290522663), (1941, 0.046358975463889396), (1160, 0.04629385036876285), (146, 0.0462719352816954), (1357, 0.04626353396554998), (443, 0.04612716917717673), (719, 0.046110445897194076), (1849, 0.04606019996421862), (444, 0.04604498902073605), (1381, 0.045935597248365455), (918, 0.04588916588448416), (711, 0.04581036301517858), (1886, 0.04579749570639121), (1669, 0.045714726580589636), (2114, 0.04566988392269202), (1220, 0.045534368464916375), (790, 0.04539721933257427), (873, 0.045338323120216954), (793, 0.045296386921567344), (749, 0.045227620501504015), (724, 0.04522262471464413), (1225, 0.04519943684982667), (1707, 0.04519402051448145), (811, 0.04518303549235851), (451, 0.04511566754000148), (1050, 0.045111798130713025), (580, 0.04497712147206914), (318, 0.04490066180914827), (629, 0.04489109050116502), (1861, 0.04487905650785589), (1199, 0.04468432151747385), (402, 0.044673170207600955), (911, 0.04466030973147718), (520, 0.04464094805922661), (1507, 0.04440274505308248), (1866, 0.044382485008708), (1440, 0.0443752926881612), (2171, 0.0443619772812516), (1792, 0.044349271198631836), (817, 0.04432248063605777), (2174, 0.04421980165994072), (954, 0.044125755900910356), (490, 0.04409250787106482), (980, 0.04402445886298964), (592, 0.04401176577297988), (1439, 0.04394039441926609), (94, 0.04387366670918507), (1809, 0.04386886396434021), (1692, 0.04386166497610252), (1231, 0.04385975241038859), (61, 0.043829993497199314), (2066, 0.04372731442500161), (1750, 0.043571235100552407), (765, 0.043562326192659206), (2026, 0.04354959655689605), (1155, 0.04344262341113509), (2175, 0.04342812207142267), (399, 0.043348692160914734), (595, 0.043327124650296645), (1710, 0.04327572784526837), (1430, 0.04318293720683725), (579, 0.043015166863325544), (935, 0.04299575959347824), (2166, 0.042958883796834754), (1730, 0.04293455990585765), (1245, 0.0429269736457755), (1388, 0.04289241226111624), (1550, 0.042855318424314774), (641, 0.04264322903146665), (398, 0.042528660549335524), (736, 0.042334602705020145), (122, 0.042304694368677995), (131, 0.04229653303417592), (568, 0.04225815713324053), (1767, 0.04223556012424467), (1558, 0.04212541316660694), (598, 0.04212389369275548), (985, 0.04208933545576861), (268, 0.042037686889166356), (784, 0.041912092672828735), (1784, 0.041795463730901), (2009, 0.04171063805638856), (1399, 0.041702173796978236), (1368, 0.04169189292023385), (493, 0.04159523023146735), (30, 0.04149256617194023), (1500, 0.04145889235828078), (983, 0.041448893719644664), (2067, 0.041421565134053706), (1973, 0.04140752777177306), (1547, 0.0413857039793409), (1462, 0.041375862447772215), (404, 0.041305160829245575), (470, 0.04128480510271365), (1398, 0.04125438891362253), (1188, 0.041214300136671184), (1061, 0.041213102828224574), (446, 0.04119050220224583), (60, 0.04118770572887019), (272, 0.041122487805136484), (1588, 0.04109215839288504), (1779, 0.04104232211463981), (291, 0.04103692625695805), (1243, 0.04096288394099242), (1108, 0.040945071897509705), (487, 0.040925747974351855), (1833, 0.04090303499091327), (282, 0.04089454806392777), (1389, 0.04086528586846132), (1422, 0.040820294209180374), (71, 0.0406814453472713), (1193, 0.040667778894499795), (946, 0.040666287412008596), (417, 0.04060978878799396), (825, 0.04058391126329205), (875, 0.04046963796496033), (602, 0.04046861411033092), (14, 0.04043772170935936), (2055, 0.040356837835556325), (1082, 0.040260297816338234), (1579, 0.04021458306631266), (1734, 0.04020726025792575), (1493, 0.04015308914272807), (59, 0.04007541166504801), (558, 0.04004401791841252), (1807, 0.03987254555902643), (1948, 0.03982595208701331), (1580, 0.039815723189082004), (361, 0.03974909118789354), (423, 0.039728347089220496), (1524, 0.03967357095350333), (1461, 0.039611969895706964), (573, 0.03953681582632749), (1241, 0.039495716033697614), (552, 0.03949325380976199), (2193, 0.039488288316347424), (660, 0.03946691429804215), (127, 0.039459394713159304), (1286, 0.03939116450289658), (1575, 0.03932438050046794), (2054, 0.039253518128505985), (1666, 0.03917839829486815), (771, 0.03912321932551814), (1722, 0.03909603576849957), (2030, 0.03903914707731684), (1095, 0.038889230767957486), (149, 0.038782799294234054), (266, 0.03877785592234365), (1010, 0.03875794395236397), (419, 0.03872721718176327), (1811, 0.03860813829455724), (1612, 0.03857454961596545), (1302, 0.038541895735859553), (1856, 0.038518699152795786), (834, 0.038489433910241344), (561, 0.03844738249570075), (1680, 0.038428748185215425), (2004, 0.038406977664621936), (1313, 0.038206392313491155), (1527, 0.03820257034381145), (1383, 0.03812781680957985), (117, 0.038123472578889754), (290, 0.038108224538349444), (1217, 0.038022462295097245), (1753, 0.03796316033449031), (952, 0.03779249143389788), (2079, 0.03776087870620349), (1423, 0.03769346236728576), (791, 0.037679810995121486), (1465, 0.03766879980021677), (962, 0.03764873711803472), (1976, 0.03759436516125835), (1331, 0.037585099211083994), (894, 0.037533890193137645), (1419, 0.03731867894898286), (299, 0.03730395018786318), (1654, 0.037191873737365315), (1208, 0.037136561172990204), (1279, 0.03713418802410998), (409, 0.037110536253900095), (1942, 0.03706458713116397), (1360, 0.037009140267734095), (1961, 0.03700354093404286), (46, 0.036946658650882515), (425, 0.03694168423077501), (469, 0.0368924035043891), (1733, 0.03682116332064371), (1776, 0.03679110126891974), (2185, 0.03676282972950592), (1495, 0.03667601377258116), (1447, 0.03666973482135227), (1804, 0.03662569042697117), (1777, 0.036588639130107035), (678, 0.036588224723340015), (976, 0.03655506755589602), (31, 0.036523797662597834), (2179, 0.03644185991700416), (1749, 0.03641423406257404), (1421, 0.036375228580917025), (245, 0.0363574297717471), (615, 0.03635528042111896), (1846, 0.036308373083131784), (712, 0.03621943337039951), (812, 0.03613121550897541), (2142, 0.036100817869118194), (1902, 0.036098250666576154), (1998, 0.03608965425019955), (555, 0.036080775404111365), (907, 0.03607864836560695), (1864, 0.03604583105146942), (73, 0.03600876172693787), (427, 0.035954301160247414), (57, 0.03592878347035711), (1117, 0.035917706758255945), (503, 0.03590983446740438), (968, 0.03590729416517154), (1308, 0.03583524008740337), (87, 0.035799497856167185), (1215, 0.03577809678418568), (802, 0.03575604554955548), (801, 0.035679828735468155), (1192, 0.03563951758258846), (877, 0.03551559911124741), (381, 0.035497943991808396), (157, 0.03545906169726824), (391, 0.03540272069002978), (363, 0.03537349066997098), (12, 0.035363759650300836), (210, 0.03531261082123535), (1492, 0.03530432282162607), (1732, 0.0352310646765793), (858, 0.03520962877119018), (608, 0.035102440392390744), (1037, 0.035028435040639024), (961, 0.03500599842646772), (106, 0.03500164647154039), (462, 0.03499098156452793), (2106, 0.03497750499248026), (531, 0.03495970947005675), (583, 0.03492706138822882), (810, 0.034901069508647214), (1978, 0.034847447664987374), (2032, 0.034845142975365895), (376, 0.03483550647385864), (365, 0.03483215212124687), (421, 0.03477140976682962), (1478, 0.03475614278386095), (16, 0.03473823776046585), (1983, 0.03472990302624813), (1534, 0.03462790598757481), (1405, 0.03460924724232833), (2086, 0.03459907775304696), (140, 0.034577460629981654), (224, 0.03454047455205723), (1222, 0.034527382204361586), (1570, 0.03433449846290044), (627, 0.0343094972031872), (2158, 0.034290352016165995), (654, 0.03428473536331376), (989, 0.03426308529000821), (1258, 0.034250177365791605), (955, 0.03424716205316102), (1781, 0.03421757469287026), (864, 0.034177407806568603), (526, 0.03417003639434771), (564, 0.03407893675952018), (707, 0.0340379011920615), (1741, 0.03400567384815892), (103, 0.03400422010073317), (1073, 0.03396017171378621), (1167, 0.033915409381002785), (1987, 0.03388113320135547), (1746, 0.033859934031265394), (504, 0.03380729449449664), (1362, 0.03379651002144324), (273, 0.033676834107441295), (1715, 0.0335436189363986), (2187, 0.033535240494779656), (438, 0.033532162783667434), (1387, 0.03350286796056533), (1842, 0.033483774380836696), (196, 0.033475984960985326), (2104, 0.033436472793034515), (1729, 0.03342613030824848), (410, 0.033404769222008156), (1631, 0.0333024023874511), (447, 0.033275475515564396), (2008, 0.0331613853113768), (704, 0.03307940136821544), (1800, 0.0330549911945646), (2115, 0.033016696770949434), (1344, 0.03299512317040221), (1562, 0.03296653553252754), (1755, 0.03293526764304867), (1187, 0.032909962766776595), (1590, 0.03290986497880883), (1180, 0.03289827946132885), (175, 0.03288392793654215), (1044, 0.032877777484395465), (1537, 0.03287764348910305), (594, 0.03286718693085856), (701, 0.03280855827190799), (584, 0.032794879169493744), (804, 0.03276910022041779), (1332, 0.032750323277332724), (519, 0.0327073340252228), (161, 0.0326698898211431), (1965, 0.03265256725747403), (1103, 0.03264783488003276), (1700, 0.03261382490482124), (353, 0.03252156656020211), (2003, 0.03250542021292574), (1984, 0.0325048049656761), (2033, 0.03249504102091252), (2141, 0.03247559239694615), (35, 0.03246858235999097), (1295, 0.032393963243370266), (1516, 0.03235976241603949), (692, 0.03235100251725055), (1042, 0.032342011157834666), (576, 0.032291650803874854), (147, 0.03221743042083304), (1491, 0.03206394806936836), (1498, 0.03198670181772477), (1718, 0.03197883296172189), (242, 0.03194298626627377), (1747, 0.031873591881174196), (1770, 0.031848843650936765), (43, 0.031837588514030804), (646, 0.031785162641013956), (938, 0.03177657485040492), (1291, 0.031740260557359394), (1047, 0.0317373408653793), (39, 0.03168715835617938), (1959, 0.03162552875071104), (164, 0.03159760356290533), (730, 0.03154545825913448), (190, 0.03151969743828422), (1396, 0.03150737729235956), (1318, 0.03145039393291703), (1657, 0.03138729238224702), (403, 0.03137980547456073), (1857, 0.031336568556768724), (1343, 0.031326048185541196), (1413, 0.031233296658205567), (1695, 0.031219345309117442), (1067, 0.03120271443931217), (2135, 0.031171645688954114), (1316, 0.031156175765507204), (2123, 0.031146707761489), (85, 0.031114048287307378), (1740, 0.031098381332687206), (845, 0.031040077601538076), (1634, 0.030984263912802124), (957, 0.030960220795794413), (511, 0.030931594979314404), (725, 0.030899212868453114), (1542, 0.030858045279398318), (2126, 0.03083219247326267), (613, 0.03074041104938102), (298, 0.03066297751057375), (241, 0.03066050350065093), (884, 0.03065379670975926), (1213, 0.03063797429698932), (640, 0.030635912636598005), (460, 0.03061143651929425), (292, 0.030600627913068966), (739, 0.030595871526557752), (429, 0.030549679582253637), (1113, 0.03052031811617483), (588, 0.03048879953477224), (1242, 0.030472334718964104), (1069, 0.03042538874835167), (2148, 0.030390532792332368), (2036, 0.030377425554284992), (343, 0.030361842775451075), (2172, 0.03035651419954884), (1702, 0.03033496014753509), (832, 0.03028844725716692), (769, 0.03021389738746296), (29, 0.030192586738812408), (1341, 0.030164101201132658), (1266, 0.030162383615917613), (874, 0.030027605240640742), (1120, 0.03000208736954865), (1934, 0.029978811155802167), (468, 0.029972627376875602), (476, 0.029945922888498493), (1513, 0.029937698874803152), (1375, 0.02991397663949115), (842, 0.02985609346456583), (1905, 0.029854338568415243), (2197, 0.029841556303212738), (1063, 0.02983990971440882), (1066, 0.029833093190129237), (2122, 0.029832405759050447), (840, 0.029774805649703702), (344, 0.02975782913041293), (1058, 0.029746541996350313), (2084, 0.02971992651820039), (1759, 0.029716963687883437), (1712, 0.02970517434682732), (1904, 0.029653408786540957), (1451, 0.029589899851978615), (1827, 0.02951708736125889), (495, 0.029515961697781416), (367, 0.02951393540496328), (1317, 0.02951235494257766), (494, 0.029470267881909266), (546, 0.02946416512051716), (1197, 0.029454903123396246), (1444, 0.029438051032536154), (1251, 0.029384271551934182), (1844, 0.029357438462102536), (54, 0.029351135658849413), (1624, 0.029318549108613146), (70, 0.029299495468439192), (1997, 0.029286513932850734), (2091, 0.029285651982169522), (482, 0.029283554784200104), (2049, 0.029267538072196342), (1971, 0.029194299858063044), (150, 0.029151236599714594), (386, 0.029121394405800968), (979, 0.029104844723912487), (648, 0.02906758024682255), (1087, 0.029034033466615948), (910, 0.029002377692339938), (301, 0.028970438631742316), (828, 0.028964593821731263), (659, 0.028917526736922418), (1487, 0.028865490775823448), (1543, 0.028771801997850923), (84, 0.028756649287433284), (1173, 0.028744590023938303), (916, 0.028695067671117954), (1786, 0.028684542137081905), (1022, 0.028648044564023548), (782, 0.028628969501795738), (1106, 0.028617751973243136), (657, 0.028594198755471482), (1574, 0.028592397318915982), (965, 0.0284839209840293), (2167, 0.028472541139578582), (2144, 0.028400255749910463), (436, 0.028345178376202887), (1350, 0.028332202240450705), (1184, 0.028313047337858256), (524, 0.028289647972874053), (1663, 0.02827069590897052), (614, 0.02823123182858796), (1456, 0.028215694723946368), (1391, 0.028191787065943177), (2092, 0.028180332713646554), (297, 0.02817926473848465), (492, 0.0281523975733535), (696, 0.028138585692430468), (1488, 0.028136712676071006), (2015, 0.028117947249221235), (1832, 0.02808389611713548), (249, 0.028083867445369427), (887, 0.02807744147160231), (1253, 0.028070493516735042), (126, 0.028038068108230965), (2184, 0.02801267318922063), (1431, 0.027989248155289023), (1545, 0.02795468017195747), (1397, 0.027950194260696417), (324, 0.027931881310162738), (1116, 0.027907176565916587), (2037, 0.02788970942106714), (413, 0.027884420873123816), (1851, 0.02786488381271422), (327, 0.027862698901594766), (420, 0.027830885395834525), (805, 0.027809850572943818), (1143, 0.02780916867793786), (2121, 0.027802738551326305), (400, 0.027796007107260642), (102, 0.027779642182963894), (422, 0.027733569603373514), (528, 0.027727263230343295), (304, 0.027684901795849003), (1384, 0.02763708141878432), (1309, 0.027627461945356906), (577, 0.02761964766220454), (1810, 0.027566574922977115), (896, 0.027543803179370406), (2060, 0.0274964410038906), (461, 0.027431669408217077), (1371, 0.02740131240955653), (1592, 0.027343394376086287), (1845, 0.02724635431970253), (431, 0.027233307258918777), (136, 0.027162158951781736), (589, 0.027149209358824884), (337, 0.02713396431057129), (229, 0.027119448533674196), (300, 0.02707545461261635), (2151, 0.02706445925490102), (1036, 0.027050909389896925), (792, 0.027034558775102885), (2100, 0.027001012440841878), (1646, 0.026962296085195868), (1891, 0.02696228761918852), (835, 0.026910633288163472), (1797, 0.026901748525819377), (855, 0.026898997193395547), (2019, 0.026888427831913336), (1572, 0.026880322322966048), (1994, 0.02684979569610966), (2125, 0.026844827722124723), (759, 0.026842213530111916), (1854, 0.0268080820480576), (718, 0.026797121166625477), (780, 0.026768894017881663), (1638, 0.02676289425043861), (533, 0.02673371957480711), (279, 0.026644661170139822), (1162, 0.02661246445962497), (826, 0.026610873413449344), (1372, 0.02657900899270785), (457, 0.026576813825869648), (160, 0.026563112771774554), (705, 0.026537506061090402), (762, 0.026511967079124954), (1931, 0.026506790733715004), (1201, 0.026477652716039815), (639, 0.026471385012992912), (821, 0.026464149439766944), (609, 0.02645913540818319), (1659, 0.02641530324780351), (981, 0.02638820308850312), (2052, 0.026378700205225283), (1150, 0.026363563818867036), (1921, 0.02635364387573184), (1673, 0.02634236342034398), (2073, 0.02633449419192722), (64, 0.02632813724671631), (212, 0.02625084631816551), (899, 0.026243949140253874), (1055, 0.026239380376323406), (751, 0.026173161190192532), (2117, 0.026157486079835885), (1329, 0.026153967632456372), (202, 0.026131715772295293), (199, 0.026124825794786536), (1417, 0.026083245729816722), (2182, 0.026046714331390493), (697, 0.026037306215349002), (880, 0.026019532497133735), (1177, 0.025987711042146387), (2191, 0.02596022073959981), (831, 0.025958304573328983), (715, 0.025869891340859236), (1330, 0.025866212962079586), (2056, 0.02586568423643484), (1039, 0.02583196444613083), (1328, 0.025821493455605728), (233, 0.025768765801913434), (287, 0.025699279931261074), (1263, 0.025694477347956025), (293, 0.02566793052935979), (1406, 0.025662916563927197), (74, 0.025605828398979718), (1596, 0.025600730699394184), (1980, 0.02554128982293174), (211, 0.025512838400450176), (913, 0.02550607506946602), (1783, 0.025497169177414944), (445, 0.025448321322769734), (195, 0.02544528736252896), (1083, 0.0254142003909742), (1735, 0.02541147916901616), (1576, 0.025407517235904502), (785, 0.02534560877434075), (1053, 0.02526454167660599), (1248, 0.025252433288992925), (1933, 0.025219071539735696), (637, 0.02520388748585431), (570, 0.025178137606057888), (496, 0.02514969644800749), (1085, 0.025124044023023862), (1109, 0.02507177667742068), (1538, 0.02506355352434305), (1723, 0.02501875840128555), (76, 0.024984769714450246), (1806, 0.024972124351253955), (1896, 0.02481136231536951), (1744, 0.02480976960137373), (124, 0.024808077177950128), (703, 0.02474681418405394), (1640, 0.024703068638848066), (478, 0.024694769053206674), (2041, 0.024676942359402397), (508, 0.024603280330147595), (1455, 0.02459265387157278), (1289, 0.024584960437827968), (1207, 0.02458306906253245), (1159, 0.024580645320676168), (1841, 0.02453216220628286), (1285, 0.024513137987902202), (1137, 0.02450801736227065), (1280, 0.024488999442128734), (1358, 0.024481872568890905), (603, 0.024403377869426295), (2012, 0.02438475997650772), (305, 0.024380979559055868), (656, 0.024371723326603503), (448, 0.024350705663084882), (114, 0.02432076042946454), (685, 0.024317184876774145), (2087, 0.024305172344991917), (1191, 0.024301395334498356), (507, 0.024291185339804275), (1442, 0.024282877186515662), (515, 0.02425832799819635), (474, 0.02425360665816159), (358, 0.02423254021081389), (1903, 0.02422075978112236), (108, 0.02421010915924195), (2195, 0.02419596587834718), (442, 0.02418472772633053), (2154, 0.024159372346031945), (1999, 0.024158409860065247), (897, 0.02414534761305014), (1480, 0.024144014389189165), (1771, 0.024142348849710747), (1467, 0.0241270812176682), (1376, 0.024119251837352754), (1002, 0.024092371690056593), (187, 0.024071190490113376), (1259, 0.024057453516302042), (1079, 0.024037056548051213), (1301, 0.024025664067157785), (339, 0.02397459561928345), (1024, 0.023969675809206975), (1016, 0.023967264308821786), (698, 0.023959939188211998), (1587, 0.023950722298983866), (2080, 0.02391205356503601), (2081, 0.023900143060124116), (623, 0.02389588591300468), (2014, 0.023846879992575003), (1899, 0.023844538125450215), (1972, 0.023822604114262402), (1540, 0.023798602031881798), (574, 0.023793643453980995), (1651, 0.023759383047047694), (2028, 0.023748539517102266), (172, 0.023743692763676376), (939, 0.02372856552071297), (360, 0.02371745918442984), (1555, 0.023658824897931998), (1529, 0.023636210324762583), (278, 0.023577544880343044), (943, 0.023567281097889137), (1300, 0.023555020254601152), (695, 0.02355246339471652), (1785, 0.023476193020349676), (1348, 0.023436882998502363), (384, 0.023411419722378937), (75, 0.023398051783727853), (1349, 0.023369126159964546), (133, 0.02329322470483912), (281, 0.023280207153782182), (1234, 0.02327488379811093), (130, 0.023262351816150568), (1031, 0.023247959698516667), (1041, 0.023225018132730958), (2186, 0.023199468260951962), (1056, 0.02319162419570226), (1012, 0.023167524404648414), (407, 0.023147112156440525), (1985, 0.023112008141681246), (585, 0.023110726584517488), (2089, 0.023096798225399), (2057, 0.023030153224333317), (1373, 0.02302586775277226), (967, 0.023017398224378774), (214, 0.022997078699757114), (878, 0.022883974844137265), (956, 0.022864893172602624), (1426, 0.022839134348020575), (120, 0.02280583748178312), (1816, 0.0228057245363414), (1600, 0.02279119890467092), (1390, 0.02277328435944297), (1040, 0.022761984610145548), (81, 0.022747387314374045), (69, 0.02269839498365548), (1355, 0.022684463120178605), (1152, 0.02268396088430409), (798, 0.02265887726533448), (1601, 0.022647929434809953), (265, 0.02262919770994404), (1874, 0.02262051703689951), (1919, 0.02259812809773864), (1361, 0.022589764385602798), (687, 0.022556588837937628), (1395, 0.0225524821465755), (543, 0.022534633948001703), (1943, 0.02252283994255304), (401, 0.022520889749299375), (1918, 0.022515558115401662), (350, 0.022513954056453706), (2031, 0.022485326930755667), (488, 0.022472151863406883), (947, 0.022400478478152814), (846, 0.022389284417470904), (191, 0.022379533565535566), (1226, 0.022360059518102812), (247, 0.022319064717062315), (1559, 0.022308489974366755), (604, 0.022308084221970358), (307, 0.022302107050049872), (905, 0.02229447283938432), (2050, 0.022289171037331055), (532, 0.022276967486829384), (455, 0.02227286712658463), (1149, 0.02225155828135765), (1228, 0.022230726333639893), (82, 0.022183241297012834), (1681, 0.02217493196268414), (475, 0.022164291351847124), (885, 0.022142892954197045), (2065, 0.02212392191377928), (473, 0.022102310745660374), (1678, 0.02209962961511925), (586, 0.02209705412714355), (560, 0.02207985886756088), (2169, 0.02207581572667948), (668, 0.02207156411917533), (1642, 0.021984196491126252), (2192, 0.02198221546480659), (274, 0.02198111109730698), (1535, 0.021958523238376267), (2095, 0.02195522359520943), (2043, 0.021952171750674734), (1114, 0.02194822525493908), (1227, 0.02190092861002072), (383, 0.0218908601910943), (789, 0.021772924735219516), (1076, 0.021759503307163183), (1237, 0.021644250715925496), (198, 0.021606883669328614), (113, 0.021579943580967584), (643, 0.021559170887144055), (1689, 0.021533815304293786), (1665, 0.021486073239394426), (991, 0.021471702258315455), (2103, 0.02146760012999479), (1865, 0.021464047045638274), (808, 0.021443420587733554), (1409, 0.02143241437571551), (41, 0.02140980615686917), (154, 0.021398796461681302), (605, 0.021393388255906885), (548, 0.021336574191315235), (1334, 0.021316252090048234), (958, 0.021308807091329263), (9, 0.02130545713053794), (781, 0.021266018889388602), (52, 0.021248707354409632), (1052, 0.02123125682983562), (732, 0.021226299702581372), (1060, 0.021206921145722254), (898, 0.021150292046310394), (309, 0.021147448304691), (942, 0.02113061044724371), (317, 0.02109251270389427), (2006, 0.02106067305136846), (2139, 0.021026328470405035), (777, 0.02100401837397615), (1887, 0.020983701819274236), (670, 0.020983089953613393), (1275, 0.020947449683740363), (178, 0.020944059644557436), (773, 0.020902430187121727), (0, 0.020881663857501676), (2076, 0.020880317895648724), (836, 0.020867413539795137), (786, 0.020846462431575164), (370, 0.020840814873391372), (2138, 0.02080907089725624), (1122, 0.02080332697146764), (930, 0.020793903832014446), (1214, 0.02077299666039868), (1991, 0.020762720714986374), (340, 0.020755939156803665), (1015, 0.02074753527421741), (1282, 0.020743200807932856), (1380, 0.02071590350288614), (1264, 0.020694926255296335), (1166, 0.02066388684736216), (931, 0.020660957052695595), (107, 0.020633329147883878), (879, 0.02061772642517211), (742, 0.020608323642545043), (302, 0.020606592051529402), (472, 0.020604962414486942), (1670, 0.020595606349281773), (902, 0.020564628624976426), (1011, 0.020535764116852723), (1914, 0.020525704623637002), (1649, 0.020504684777635448), (863, 0.020488922755349265), (1825, 0.02047200952231942), (331, 0.020464835165352246), (567, 0.020449053833649394), (1794, 0.020445293000860832), (189, 0.02041623513499309), (514, 0.02040578927424079), (232, 0.020399199447743478), (537, 0.020366163925487343), (2011, 0.020350352054302003), (382, 0.020346279445736103), (1662, 0.02030009815659678), (166, 0.020300092589181026), (1923, 0.020267887297864773), (2088, 0.020238655115241387), (1274, 0.02023032832626114), (1975, 0.02022796781597299), (1719, 0.020197373770657855), (1509, 0.02019568891609729), (635, 0.020116472797902726), (371, 0.0200996030864997), (900, 0.02009186018271371), (2145, 0.02008184888561613), (2047, 0.02005625449819428), (683, 0.02002914612463713), (1812, 0.02002269894386283), (799, 0.020021626034424), (1400, 0.020015663397383), (747, 0.019943632457873825), (1496, 0.01993897871491167), (1261, 0.01993869878260937), (1100, 0.01990513345693736), (661, 0.019903056765095687), (440, 0.01988454167507192), (1239, 0.019809003119294524), (2058, 0.019784674833908965), (722, 0.019766132028102824), (984, 0.019725293194099672), (188, 0.019687224803830533), (1195, 0.01968251945429495), (1955, 0.019632505566616876), (969, 0.01960866142663172), (125, 0.019590351663016592), (1269, 0.019584302386546938), (1835, 0.019579070829127184), (252, 0.019575274271343562), (380, 0.01956899694478847), (647, 0.019554230393333958), (601, 0.01954205687051136), (1894, 0.019539798813103797), (2027, 0.019538486738677845), (1315, 0.019504646405066734), (38, 0.019477584633454545), (1791, 0.019451412697976563), (630, 0.019360851594597894), (1660, 0.01935267321396512), (795, 0.019332992838997264), (15, 0.019331164889961394), (1326, 0.01932781593143171), (625, 0.01932138734660245), (1170, 0.019310641033648754), (2156, 0.01930616247675259), (2165, 0.01930000661317169), (258, 0.01929869805461469), (1124, 0.01924436388767375), (497, 0.01924056476018485), (2177, 0.019199690424582402), (599, 0.01917468230010853), (263, 0.01915222185088898), (682, 0.019150672861556934), (1460, 0.01914437030825409), (534, 0.019137290333101374), (128, 0.019133243505138356), (1033, 0.01912962964261395), (1843, 0.019126146445374734), (1703, 0.019125839221426237), (169, 0.019117693295346475), (1437, 0.01911638132570347), (1622, 0.01911436259884909), (1553, 0.019105295389149003), (557, 0.019103864858958215), (663, 0.019092234449875716), (766, 0.01907771534214707), (1560, 0.019020243534807895), (1566, 0.019011088526031054), (728, 0.019006741104797543), (1048, 0.018973436425713502), (856, 0.018961637620699103), (1074, 0.018914592517486888), (523, 0.018883997955094465), (738, 0.018882071661002923), (1614, 0.018878353551408544), (2109, 0.018855890398456247), (1674, 0.018854914101765208), (1181, 0.01883084586929508), (1183, 0.018827721788157052), (2099, 0.018819098307981674), (58, 0.018812920135128204), (1216, 0.018807638260344477), (466, 0.018807023128072975), (328, 0.018794926434389084), (1403, 0.018793452749541074), (1094, 0.018768691514714227), (2096, 0.01875478457324796), (295, 0.018748030818364656), (690, 0.018709764255357537), (591, 0.018703679650220514), (2159, 0.018700738524251838), (909, 0.018688795378954803), (368, 0.018686441081935918), (2181, 0.018628678148985632), (928, 0.01860971213586636), (1510, 0.018595598103268947), (68, 0.018569207628374378), (336, 0.018568377076590453), (2119, 0.01855857907975089), (2042, 0.01854611401897051), (152, 0.018529533649960125), (904, 0.01852550617405417), (1594, 0.018522916430822177), (1754, 0.018510611611199854), (872, 0.01849895900423213), (115, 0.018442288948638336), (1898, 0.018419064267699573), (1607, 0.01841599945339895), (1688, 0.01840632022489754), (1907, 0.018399507074235193), (1815, 0.018386441693339764), (390, 0.018386377492214112), (303, 0.018380254466062628), (333, 0.01836549941550801), (1347, 0.018357503304950378), (116, 0.018338145221922786), (237, 0.01832854445229438), (1717, 0.0183070387135867), (539, 0.018268614516768922), (326, 0.01824825240018537), (1119, 0.01824179018731066), (1834, 0.018216135431740502), (177, 0.018207599595661893), (1490, 0.01820030214267443), (764, 0.018174019063821927), (726, 0.018172665313678886), (686, 0.01816375944474226), (1946, 0.018143938648753265), (788, 0.018136382268791676), (1929, 0.018115698805490812), (1411, 0.018111536717944396), (97, 0.018109724036778276), (218, 0.018096877136367727), (414, 0.01809329407804204), (1676, 0.01807993980801697), (458, 0.018048672051866374), (1424, 0.01804437798501226), (634, 0.018028179197535667), (658, 0.017986651165011438), (280, 0.01791222414892789), (620, 0.017909798528573453), (767, 0.01790338450410922), (1135, 0.01787774725098924), (238, 0.01785949323421099), (1174, 0.017845991185086615), (849, 0.017815820857346946), (986, 0.01778541354558831), (666, 0.01777842530462321), (1900, 0.017760639248744697), (1027, 0.01774545610666337), (2131, 0.017739434196055552), (1668, 0.01773735011114294), (435, 0.017691111681600542), (192, 0.01767052106890807), (2013, 0.0176545468421686), (1636, 0.017648101571989323), (234, 0.017592464466589408), (1068, 0.01757914019920416), (1859, 0.017560384254360725), (1557, 0.01755299337772919), (699, 0.017547322490927695), (313, 0.01754098420594348), (359, 0.01753037805350301), (1250, 0.017520486124741854), (509, 0.017518890718827604), (323, 0.017473959728625962), (1059, 0.017456097789662856), (1652, 0.01742196178321744), (940, 0.017394411259963192), (2000, 0.01736192851043149), (652, 0.017332818361716264), (674, 0.017329849256316317), (276, 0.017311881661946766), (55, 0.017255661196209846), (235, 0.017237583163003712), (239, 0.017213069099839894), (320, 0.017203182271925608), (93, 0.0171800642995869), (923, 0.017179755714585087), (1045, 0.01714264919898298), (960, 0.01713954075984236), (1089, 0.017110433319675704), (1489, 0.01709635556449002), (1748, 0.0170957917559337), (1471, 0.017033899308144636), (205, 0.01701555023968299), (590, 0.016991722450062346), (841, 0.01698634831440471), (1098, 0.01696424954591286), (1165, 0.016911906636063737), (1369, 0.016885862625260702), (1414, 0.01687665806320621), (79, 0.016866171732707665), (311, 0.01686532227299621), (554, 0.01683507129654858), (88, 0.016826351908796125), (408, 0.016807600168519225), (389, 0.016807310661121885), (1789, 0.01678370032261161), (1464, 0.01676261530962537), (994, 0.016751272694088926), (270, 0.016750325332878166), (1319, 0.016747539077161755), (838, 0.016724679901268948), (987, 0.016624641500910746), (1446, 0.01662225254354793), (731, 0.016573639689052955), (1449, 0.016572552586720933), (477, 0.016560680895015324), (2118, 0.01654790576593369), (1142, 0.016537591642598312), (794, 0.016536870243579718), (63, 0.01653208068267611), (2113, 0.016530190654876216), (1154, 0.016507278168503), (354, 0.016492551107412542), (1093, 0.016463711123584475), (1340, 0.016458157124930917), (945, 0.016445120892974726), (51, 0.016435631015955715), (283, 0.016422530242189377), (1515, 0.01639503733369783), (2017, 0.016365003880690412), (424, 0.01636007241446844), (428, 0.01635553307153666), (253, 0.016353463146578245), (1808, 0.016342896042677357), (144, 0.016341165858749368), (1606, 0.01633759447177462), (1101, 0.0163322267550063), (1235, 0.01631975782749727), (203, 0.016315512053156716), (681, 0.016308371998884193), (1034, 0.01629092713255767), (112, 0.016283677766277514), (316, 0.0162829999673618), (1981, 0.016253269867934822), (553, 0.016218150003331135), (45, 0.016212487114849315), (1728, 0.016169877608980303), (259, 0.01615072876311672), (56, 0.016147447833477716), (2018, 0.016123182656518492), (1526, 0.016091790749460103), (2150, 0.016081606058589066), (565, 0.01606360951678539), (129, 0.01603071601934221), (1721, 0.01601779968436739), (486, 0.016013627115200334), (502, 0.016006727105932886), (1877, 0.015986216764789323), (1186, 0.015971189364161937), (306, 0.015940112424777813), (92, 0.015931241078550696), (1335, 0.015924849693028577), (387, 0.01591169038833809), (342, 0.015896209373983634), (505, 0.0158852340170682), (881, 0.015873289497680253), (1476, 0.015857881698742436), (752, 0.015851055628710108), (1233, 0.01581769692063798), (720, 0.015795916908083824), (1307, 0.015792861803943632), (906, 0.015790054658208135), (903, 0.015787230825545878), (616, 0.0157238880679823), (48, 0.015719331582909977), (1895, 0.015705338910426164), (143, 0.01570131438377377), (1088, 0.015699069293419757), (1963, 0.015692796023757588), (1769, 0.01568821432277575), (1878, 0.015676138778402116), (257, 0.01564898042405921), (1470, 0.015632128048857295), (953, 0.01559663315675449), (1205, 0.015585776004481763), (1814, 0.015568236432194881), (1909, 0.015552970327324032), (1724, 0.015548347648262557), (243, 0.015547056033518119), (746, 0.015488942248801445), (1025, 0.015437199256782023), (2163, 0.01543002262895941), (2152, 0.015411303628754348), (1260, 0.015385313692165295), (837, 0.015343521381231339), (733, 0.015341361936947016), (966, 0.015333820916434482), (24, 0.015329324762657606), (1939, 0.015322060092997414), (1128, 0.015305012062378474), (518, 0.015304956007158223), (1257, 0.015279705241579974), (869, 0.015263623762388202), (1287, 0.015262532010958018), (621, 0.015255225931764234), (1102, 0.01524480214145628), (758, 0.015226077405784114), (1940, 0.015201822919504983), (2007, 0.015184802310578631), (760, 0.015178847061499412), (1602, 0.015157224017120777), (1176, 0.015151688420389223), (500, 0.015132890073805857), (1427, 0.015130164209268788), (1080, 0.015128869783814515), (1952, 0.015094938289889398), (544, 0.015086300312120753), (2070, 0.015024322073109943), (1443, 0.014991888669084316), (839, 0.014970918410659662), (151, 0.014969631957607737), (1956, 0.014963206413919773), (464, 0.01496067221902267), (667, 0.014934184194542155), (90, 0.014920048487564997), (78, 0.014912269906297586), (1511, 0.0149023558146813), (2085, 0.01487910886847043), (1675, 0.01486813939598424), (797, 0.014846382278416288), (1209, 0.014829407022903916), (1182, 0.014817002011368478), (1278, 0.014803243236330667), (1737, 0.014795465976530373), (1473, 0.014794260298636815), (142, 0.014787744104498648), (373, 0.014786216519492015), (1619, 0.014781021082001956), (1581, 0.01471993946809887), (1850, 0.014675668251723761), (1951, 0.0146557738404525), (1325, 0.014647567225077467), (1273, 0.014637266191150767), (559, 0.01460420342426666), (194, 0.014600879202518553), (1628, 0.01455453922564872), (2020, 0.014521923648811115), (179, 0.014499556085907176), (1925, 0.014478529627768853), (530, 0.01446882619286809), (917, 0.01446079309934045), (1936, 0.014450924719342192), (1028, 0.014449334321938007), (1297, 0.014442515130941486), (925, 0.014427931824053988), (2098, 0.014420493715653179), (13, 0.0144193461966596), (1504, 0.014403746112942217), (392, 0.01434562974539176), (459, 0.014334320226178608), (1910, 0.01431285813594031), (397, 0.014310887735745185), (2040, 0.014308507248740797), (118, 0.014305304273373863), (912, 0.01428571069373673), (1790, 0.014272711643124443), (1394, 0.014261949100952742), (850, 0.014261299404758558), (787, 0.01425196543365169), (1992, 0.01422183738824052), (924, 0.014169213493671642), (1141, 0.014104175516673555), (1683, 0.014103959387763022), (1519, 0.014103340864941747), (1906, 0.014098499987634827), (219, 0.01403858213128778), (1556, 0.01402755089533006), (1766, 0.01402634914204548), (714, 0.014002695488553471), (467, 0.013995064004114524), (988, 0.013987899999280597), (374, 0.013970773221096593), (1644, 0.013954181586612737), (170, 0.013892688707293991), (1099, 0.013850843624307036), (1412, 0.013815962535502456), (111, 0.013814899365444468), (347, 0.013775673169166941), (1153, 0.01377309487475876), (619, 0.013763813379480645), (977, 0.013761593944993262), (997, 0.01372114814730633), (1704, 0.01370226475477318), (289, 0.01368893707770551), (1775, 0.013639788161968857), (1977, 0.013632789594777995), (1643, 0.01363192469709407), (1798, 0.01363092270156892), (437, 0.01359552987221649), (708, 0.01358997492945244), (768, 0.013587746734969743), (1363, 0.01353958655767704), (1236, 0.01349815411606382), (1988, 0.013475663075734712), (1764, 0.013469521709113905), (926, 0.013450612803715404), (216, 0.013442861552611287), (1190, 0.013420795405458744), (1739, 0.013404109311682259), (632, 0.013402323968566054), (525, 0.013398729364104932), (1212, 0.013395349908539269), (1623, 0.013380774129244394), (1474, 0.013375472938816671), (1008, 0.013368102914333966), (10, 0.013342214639618051), (1224, 0.013317298337324967), (1415, 0.01330970608316638), (1974, 0.013296342428330905), (1046, 0.01327114476906506), (277, 0.013235856266133057), (269, 0.01322027253630784), (1352, 0.013168086020445308), (1218, 0.013140751564569942), (36, 0.013138225995719248), (1179, 0.013136796059351856), (721, 0.013133728126193952), (852, 0.013117629304287583), (341, 0.013092617035665229), (750, 0.01308860632101619), (275, 0.01307621593870842), (2093, 0.013059011101378288), (1206, 0.013056289345075304), (1618, 0.01303623426106902), (950, 0.013035996366233168), (1932, 0.01301540931125602), (220, 0.012983663047331045), (1926, 0.01298170108390891), (1310, 0.012966722591432032), (941, 0.012948868215812322), (364, 0.012930359843063753), (1577, 0.012907468362418652), (1057, 0.01290547496481808), (1408, 0.012902081699037895), (1916, 0.012896991946013743), (622, 0.0128741999934083), (1, 0.012869750887731604), (1549, 0.0128316650946878), (1761, 0.012815571758391391), (319, 0.012806338861643977), (27, 0.01279436272104166), (226, 0.012762221631816114), (1684, 0.012759083486809111), (1880, 0.012733044476115611), (168, 0.012723255960389437), (1787, 0.01272217661923105), (694, 0.012690213622118363), (1168, 0.012667059038102748), (867, 0.012641843551984798), (2105, 0.012633503950686388), (123, 0.012630954306326214), (139, 0.012615963976636013), (1613, 0.012607567427908957), (1773, 0.012602800776351859), (411, 0.012580825422476363), (1517, 0.012565208550791254), (501, 0.012552752111505288), (1133, 0.012517996475160591), (820, 0.012503134731826257), (2048, 0.012501591255153174), (734, 0.01249339561599536), (1290, 0.012456870490856429), (405, 0.012390621874016523), (1003, 0.012378155898563139), (1697, 0.01237448290707587), (1004, 0.012363011853076703), (2157, 0.012340208566094819), (535, 0.012331059374304888), (932, 0.012303324533123041), (1345, 0.012302487979773468), (1051, 0.012294390075240209), (675, 0.012265578110939122), (1377, 0.012265010085596668), (1070, 0.012261860670929221), (2022, 0.01224894154004374), (889, 0.012245158849738874), (2094, 0.012217884853710163), (1338, 0.012212926861370937), (240, 0.012207407893832397), (213, 0.012194426584942148), (806, 0.012149685239309064), (104, 0.012134076989206391), (1713, 0.012110915409767227), (529, 0.012085537437660505), (98, 0.01207111607317259), (2025, 0.012067284130492356), (2189, 0.012053870041241296), (153, 0.012038761504540184), (6, 0.012032427774956412), (1578, 0.011999417469277032), (207, 0.011980668308748731), (919, 0.011970498480013518), (2168, 0.011960722172654897), (236, 0.011906835335905655), (1126, 0.011897846465301912), (285, 0.011881683375973598), (2162, 0.01187232093832597), (753, 0.011851215565432071), (2140, 0.01184999413928685), (1876, 0.01182871286713573), (1081, 0.011805298065865761), (710, 0.011767411681205353), (1416, 0.011750072468692781), (182, 0.011742960096855302), (230, 0.011728096030449725), (676, 0.011725673547089147), (691, 0.011712291435603294), (1247, 0.011701814294786426), (1756, 0.011698068431548352), (349, 0.011688863024962512), (2170, 0.011682830092005297), (221, 0.011674960122569356), (1378, 0.011668533075920598), (246, 0.011643387499100833), (1627, 0.011630145597456983), (141, 0.01162947924474635), (1256, 0.011605785892499408), (1333, 0.011598841513208457), (737, 0.011562231435374482), (357, 0.011551287859127946), (1969, 0.011547543556073982), (1862, 0.01151997813229683), (713, 0.011512763756767283), (844, 0.011508496678525533), (1603, 0.011476415568402523), (1615, 0.011467139243864865), (2178, 0.011445823488209314), (883, 0.011443337937637844), (1502, 0.011439175013857251), (1826, 0.011420220978616977), (1885, 0.011395536386878338), (740, 0.01137508968837105), (527, 0.011372602187255047), (379, 0.011345975279344379), (225, 0.011329944384875695), (4, 0.011319168822695623), (209, 0.011316480492510135), (244, 0.01131599928452885), (944, 0.011291938937570446), (1305, 0.011287749648299624), (1633, 0.011286364163192751), (135, 0.011267323745178724), (1868, 0.011265507103731833), (2082, 0.011243495802181551), (346, 0.011213648439346215), (1870, 0.011207095318532034), (1882, 0.011173234527753144), (44, 0.011141670872197909), (1198, 0.011108310020196063), (1035, 0.011100416483086725), (1582, 0.011064690104440025), (1858, 0.011061390481169149), (2045, 0.011056164164501416), (1158, 0.011051320415102036), (375, 0.011030391094619622), (434, 0.01102844368370201), (992, 0.010993464963825429), (1525, 0.01098802381103604), (572, 0.010985894357308897), (1200, 0.010974399370121048), (1161, 0.01092334520049151), (848, 0.010918217376579227), (1967, 0.01088344975677414), (1897, 0.01087136698372434), (1296, 0.01085631285803512), (165, 0.010845324697034434), (231, 0.010842985088985188), (385, 0.01083746735171116), (645, 0.010825346390486818), (2101, 0.01082353162643333), (201, 0.010820212169190312), (222, 0.01081651861553222), (1838, 0.010788237516587187), (498, 0.010786524040027577), (1382, 0.010777484275570745), (1105, 0.010762943240898193), (1065, 0.010752821622595192), (264, 0.010752641558833764), (1611, 0.010751218962728154), (1156, 0.010749691760285437), (990, 0.010730608150979298), (1536, 0.010722151932381081), (1136, 0.010710168936774851), (1840, 0.010704273498170314), (893, 0.010677939322034253), (745, 0.010674641587212208), (1608, 0.010662511577955853), (7, 0.010628068629240121), (2130, 0.010617205792074168), (922, 0.010558883370310069), (1407, 0.010552230655337306), (22, 0.010549839968745476), (2083, 0.010501282427163007), (2110, 0.01046681234395817), (860, 0.01045699104237862), (1945, 0.010434990325446775), (1001, 0.010430442966779748), (1202, 0.010408535842105313), (260, 0.010393185040831915), (67, 0.010352381788034864), (1742, 0.010347973078377386), (162, 0.010331023695346782), (412, 0.010295015457166531), (1019, 0.010285455212836088), (2068, 0.010268175315189833), (1014, 0.01026429262385601), (1610, 0.010252599038082061), (814, 0.01025241008696826), (80, 0.010240797752847829), (1030, 0.010214882150912027), (1327, 0.010209959489109941), (251, 0.010205538747176378), (1691, 0.010205020996507492), (5, 0.010204021159835298), (2072, 0.010186119765137938), (1772, 0.010168711736364917), (959, 0.010142978230040903), (314, 0.010138290601204861), (1796, 0.010134875112620113), (1262, 0.010125657461243553), (1472, 0.010119930192682904), (993, 0.010108686854200575), (197, 0.010101067830817906), (1860, 0.010098740003173758), (914, 0.010097328310087837), (1911, 0.010092733389615654), (271, 0.01007998766040434), (1917, 0.010050866246890009), (121, 0.010036561412269045), (1548, 0.010031908395418707), (2075, 0.010013998173772815), (2046, 0.010007799843556077), (1708, 0.010005715316680236), (1321, 0.009980716524358248), (1828, 0.009957212636559536), (1458, 0.009923462019045145), (921, 0.009923222216674094), (851, 0.009909116172872202), (575, 0.009882064148347088), (600, 0.009865662107624792), (1709, 0.009864637397668227), (581, 0.009852860953708267), (1367, 0.009813121387279152), (1848, 0.009809716972228221), (1429, 0.009780138229948178), (636, 0.009777268771455436), (512, 0.009763635199567957), (522, 0.00975994700259619), (1392, 0.009740536030742817), (1494, 0.009708779493124608), (163, 0.009706949653179728), (1436, 0.009688495646727894), (1219, 0.009683750977100952), (1477, 0.0096820854476933), (549, 0.009681341230887215), (1336, 0.009674310420394948), (963, 0.009664421567775824), (453, 0.009656682979686554), (1591, 0.009653573303015566), (1671, 0.009650096514569838), (1935, 0.009627636810086571), (1283, 0.009588512562228294), (729, 0.009582294471670576), (101, 0.009558041049701982), (823, 0.009535603003756558), (1731, 0.009484837007491104), (1356, 0.009477264520964453), (1774, 0.00947250194444483), (40, 0.009448468581251559), (1953, 0.009428147450291581), (1881, 0.009418360521547804), (809, 0.009409147340037869), (1020, 0.009364485954878057), (1140, 0.00935287707100969), (566, 0.009348554853457753), (1223, 0.009347524976056846), (1086, 0.009347335610102014), (1468, 0.009321131731175727), (763, 0.009308733547483393), (1629, 0.009299827094221943), (540, 0.009257485712901602), (1271, 0.009230519512835787), (2062, 0.009208786009538844), (134, 0.009192288675415647), (1499, 0.00919113228768853), (1479, 0.009188797104544769), (610, 0.009173127306420734), (606, 0.00915716744869519), (248, 0.009144702551498289), (891, 0.009133014465777441), (1765, 0.009120680161171837), (1441, 0.009111287228260531), (1630, 0.009108863766419666), (1915, 0.009094491474375153), (1157, 0.009080514672021846), (551, 0.00907207300343518), (755, 0.009047732831499384), (21, 0.00900960255171368), (1482, 0.009008999525681682), (1084, 0.008946492960010974), (215, 0.008940053489390608), (1244, 0.008892035973681343), (1314, 0.008883998606578392), (89, 0.008881516529079519), (454, 0.008808413909868211), (2107, 0.008788659629271799), (673, 0.008704668459059572), (1801, 0.008667586822799087), (607, 0.008658884082615607), (430, 0.008639198644412947), (208, 0.008636701621733035), (1104, 0.008628387643647525), (618, 0.008626848428820218), (227, 0.008619285704473172), (2173, 0.008600610864476808), (982, 0.008594569534215623), (680, 0.008559549343757071), (644, 0.008554504883017398), (132, 0.008552082071806653), (1893, 0.008542872256960486), (348, 0.008541382010566822), (1385, 0.008519707746766325), (294, 0.00846870063856843), (936, 0.008403759700449195), (286, 0.008368422249092542), (3, 0.008354737764541983), (159, 0.008331577122860478), (927, 0.00823637935712814), (995, 0.00822539059427316), (366, 0.008181892817207166), (206, 0.008159214279665102), (284, 0.008134604741237759), (1930, 0.008132002998812315), (2128, 0.008116337577121283), (2010, 0.008092262562762456), (2188, 0.008072236503492985), (96, 0.008066793124671852), (1311, 0.008062312598997298), (334, 0.008061613966456023), (1435, 0.008058731602323548), (2190, 0.008048475280301932), (1288, 0.008035206963292046), (171, 0.008002424180372274), (1888, 0.007972886355305797), (1672, 0.007968431154295496), (1584, 0.007931894917017825), (824, 0.007918827178074725), (1647, 0.007913639637067236), (1667, 0.007912717133062684), (262, 0.007912417214503609), (1211, 0.00791183683687292), (395, 0.007904737629974732), (876, 0.007866555714839789), (1483, 0.007864113616303035), (978, 0.007834552079379288), (2038, 0.00780811149087911), (1839, 0.007807908760437425), (156, 0.00780328258470122), (110, 0.007790434796428056), (42, 0.007771873424403035), (964, 0.007761668897478685), (1284, 0.00774463378445725), (99, 0.007689089484469648), (250, 0.007681997887547953), (516, 0.007667191631015334), (1127, 0.007659735940619096), (1589, 0.007653755842962387), (2120, 0.007618854150790058), (485, 0.007610648604835988), (815, 0.007604414972299318), (2161, 0.007588672519642006), (491, 0.007540954089257103), (813, 0.007540271585464084), (33, 0.0075353096191112705), (778, 0.007526329592683772), (772, 0.0075248249784298366), (20, 0.007524150570227021), (1107, 0.007516764972602183), (1232, 0.0075131404061347384), (1873, 0.007503533189909142), (1571, 0.007479297785397085), (1486, 0.0074460283436789485), (1567, 0.007437569549416405), (1448, 0.007384942859543044), (1837, 0.00738368330598667), (377, 0.0073740917226135), (1110, 0.0073654020359529065), (137, 0.007362441717145989), (1621, 0.00735765339991768), (1530, 0.007332133773639192), (550, 0.007317136432461405), (672, 0.007276221931766754), (1433, 0.007257217319792043), (1172, 0.007226154424437459), (1605, 0.007203837550402492), (998, 0.007191537153721556), (1720, 0.0071458044628060205), (217, 0.007124424184206533), (1879, 0.007124366974381282), (1144, 0.0071140956057991565), (1134, 0.0070354647879156814), (256, 0.007029067229681579), (2035, 0.007007845141066445), (2180, 0.007001569635500869), (1853, 0.006975580854770258), (1452, 0.006962191069498095), (1021, 0.006958806567732106), (1294, 0.006914560235323402), (556, 0.006911759233356053), (803, 0.006905066978344844), (1078, 0.006895553516981684), (330, 0.006890766840102968), (2039, 0.00685960189917109), (261, 0.006846661283011897), (2002, 0.00684469419385528), (1505, 0.006787957043968894), (1043, 0.006760528612602895), (449, 0.006742144254659761), (2102, 0.006730069982003788), (1924, 0.006716165294031129), (513, 0.006711550508534211), (536, 0.006681397186728612), (999, 0.0066438989766971525), (1203, 0.006600810088088946), (34, 0.006593229596655084), (72, 0.0065871526823022), (1521, 0.006537963239914766), (819, 0.006525689040547318), (65, 0.006520581845610937), (322, 0.006507723135320316), (1129, 0.006488251807803283), (95, 0.006470553391051114), (186, 0.006465232461795576), (1637, 0.006462079861551515), (1922, 0.006447294176169768), (2133, 0.006445436058461439), (388, 0.006427323888660381), (631, 0.006386340490217525), (1132, 0.006365648727480402), (1277, 0.0063417227494380725), (426, 0.006308858125061147), (937, 0.0063068648482247705), (86, 0.006297234846638924), (2134, 0.006245160635630378), (1648, 0.006172272537158356), (1996, 0.00616033497750908), (547, 0.006122553990732339), (200, 0.006082950488563705), (650, 0.006047722175248076), (1867, 0.006044232444012023), (148, 0.006028782855316905), (853, 0.006019876060485505), (1892, 0.005979959476106301), (19, 0.0059638130804059945), (1323, 0.005944641340485135), (582, 0.0059423365204764106), (91, 0.005932016490918294), (8, 0.005877113046254301), (677, 0.005872292128559434), (562, 0.005855241161116069), (228, 0.0058387719566990156), (2112, 0.005811780485605261), (1457, 0.005729274382087677), (1420, 0.00569016611303064), (859, 0.005680557010007089), (1139, 0.005679052722384735), (1698, 0.0056758647329366715), (1598, 0.005671111395020194), (1497, 0.005670163506925908), (1745, 0.005658191895415127), (2124, 0.005645079842661114), (1884, 0.005644487003030371), (744, 0.005637452599495161), (2016, 0.005632425167418737), (2090, 0.005628756951239917), (865, 0.005613890826064354), (1645, 0.005610448778989111), (2153, 0.0055982138085675405), (1506, 0.00559445504893722), (1064, 0.0055800099661537), (1758, 0.005575939805256236), (617, 0.005568575627769986), (2097, 0.005551015774534952), (465, 0.005543055597577655), (483, 0.005539838180483364), (1299, 0.005524536767862624), (569, 0.005523951972437406), (2064, 0.005493395825757045), (506, 0.005465829012964361), (1151, 0.005390570275027283), (432, 0.005374366796691893), (743, 0.005372340348654829), (11, 0.005370479734104473), (499, 0.00536470360960879), (1351, 0.005360260533500968), (1727, 0.005355754216742873), (1148, 0.005349880733426936), (2034, 0.005346762326989807), (709, 0.00534119117520745), (1518, 0.00532790013312803), (1075, 0.005317552637756855), (174, 0.005292445094204977), (325, 0.005266859250387384), (288, 0.005266583602699711), (23, 0.005245821980606272), (1428, 0.005241211312280945), (415, 0.005234657226151766), (1751, 0.005221807806230604), (1005, 0.0052196542672917155), (1281, 0.005210671862596925), (706, 0.005189599928492737), (1092, 0.005171466061796285), (1032, 0.005119098289315003), (847, 0.0051130895032718135), (1964, 0.005099328214732762), (1528, 0.005089267806101499), (2160, 0.005081293374497576), (1655, 0.005076477671554553), (1819, 0.005073494848437843), (66, 0.005046822805179814), (1268, 0.005044046542815489), (633, 0.005025399702584691), (1304, 0.005013910400127439), (1805, 0.004992841347363953), (1532, 0.004985985874237568), (975, 0.004978136552946701), (1664, 0.004950019386550182), (870, 0.004942792327661825), (1564, 0.004938023503056145), (1551, 0.004911264433894456), (1793, 0.004908816416935918), (1312, 0.004898431832847811), (267, 0.004894001796685097), (1147, 0.004883197101837776), (1890, 0.0048591942457815885), (1026, 0.00485839027711016), (1255, 0.004844437873327799), (1947, 0.00480650851558322), (1320, 0.004785543483157107), (1146, 0.0047358469163543), (1968, 0.004734957225001902), (741, 0.0046816919309349055), (2053, 0.004600465789800753), (1682, 0.00454270518688733), (933, 0.004524970629420393), (1533, 0.004428387378838163), (735, 0.004411179637790859), (1552, 0.004386347391271823), (1912, 0.004381026709543139), (2071, 0.0043589094293881555), (481, 0.004335313543243839), (416, 0.004299775594621151), (862, 0.004226226079877288), (1404, 0.004217716570332509), (193, 0.004207274826598077), (2077, 0.004201455441771186), (915, 0.004130932607362268), (761, 0.004114414198624663), (2108, 0.0040976568704643905), (1913, 0.0040727512896852475), (1401, 0.0040598885342103125), (892, 0.004052623802587954), (776, 0.003991014559164634), (1445, 0.0039519107902753585), (973, 0.003936864097348078), (1164, 0.003930659094035443), (1685, 0.003926389663527898), (1597, 0.0039224484130571165), (158, 0.003876687087572851), (1989, 0.0038518972061279662), (1822, 0.00382314951461262), (727, 0.0038009862846032612), (1962, 0.0038007496451933007), (1847, 0.003793794523990396), (796, 0.0037775054616206844), (329, 0.003696808594252723), (1995, 0.0036633837614087955), (1485, 0.0036426743567589317), (32, 0.0036383125463817713), (450, 0.0036233163894714366), (1554, 0.003575236323120813), (183, 0.0035462914417684764), (1802, 0.0035153319121161144), (1696, 0.0035122954005400234), (50, 0.0035041958010401456), (296, 0.0034804181174160533), (2196, 0.003446531982621288), (651, 0.0034350438347522396), (1189, 0.003429477629429548), (312, 0.0033383712219589683), (1583, 0.003281025144654519), (1908, 0.0032595221755258837), (664, 0.0032093662939113488), (1131, 0.0031436265628577175), (1293, 0.003098323026587833), (1677, 0.0030342735356375535), (542, 0.0029153415994481843), (611, 0.0025987737014570075), (1292, 0.0025796903467486033), (1701, 0.00255671697198813), (1138, 0.0025313851591025095), (255, 0.002458156510996268), (1604, 0.002455441107204042), (1927, 0.0024227324938244418), (1322, 0.002405721125476999), (1298, 0.0024046106286638746), (1872, 0.002398660028730922), (1054, 0.0023723940075203002), (2137, 0.002321267184450613), (1386, 0.0023161721793978417), (406, 0.0022998819705909797), (775, 0.002296093183757565), (335, 0.0021928451486500173), (1795, 0.002171176378260774), (1009, 0.002146619182370064), (1324, 0.002146207718559173), (1246, 0.002128594424340638), (355, 0.0021139922955522405), (510, 0.0021035441438098617), (671, 0.0020811605845608466), (929, 0.002018790278771548), (1830, 0.002014991898409828), (1869, 0.0019289184480393523), (934, 0.001923113501261441), (310, 0.001922815150218104), (1111, 0.001921826209611433), (1013, 0.0019064971379194272), (2127, 0.0018752731303448102), (1249, 0.0018532670669932302), (1265, 0.0017782388563098025), (1072, 0.0017412959307444337), (356, 0.001415585709323245), (62, 0.0), (109, 0.0), (119, 0.0), (138, 0.0), (145, 0.0), (167, 0.0), (173, 0.0), (180, 0.0), (362, 0.0), (393, 0.0), (545, 0.0), (563, 0.0), (571, 0.0), (593, 0.0), (596, 0.0), (624, 0.0), (684, 0.0), (754, 0.0), (800, 0.0), (822, 0.0), (827, 0.0), (857, 0.0), (871, 0.0), (882, 0.0), (895, 0.0), (901, 0.0), (908, 0.0), (949, 0.0), (972, 0.0), (974, 0.0), (1000, 0.0), (1018, 0.0), (1038, 0.0), (1077, 0.0), (1091, 0.0), (1118, 0.0), (1123, 0.0), (1169, 0.0), (1194, 0.0), (1196, 0.0), (1270, 0.0), (1354, 0.0), (1366, 0.0), (1379, 0.0), (1393, 0.0), (1410, 0.0), (1425, 0.0), (1454, 0.0), (1481, 0.0), (1501, 0.0), (1503, 0.0), (1508, 0.0), (1523, 0.0), (1531, 0.0), (1539, 0.0), (1546, 0.0), (1561, 0.0), (1569, 0.0), (1595, 0.0), (1616, 0.0), (1639, 0.0), (1658, 0.0), (1687, 0.0), (1690, 0.0), (1693, 0.0), (1738, 0.0), (1743, 0.0), (1757, 0.0), (1762, 0.0), (1763, 0.0), (1768, 0.0), (1778, 0.0), (1780, 0.0), (1782, 0.0), (1803, 0.0), (1852, 0.0), (1863, 0.0), (1883, 0.0), (1920, 0.0), (1928, 0.0), (1938, 0.0), (1950, 0.0), (1966, 0.0), (1970, 0.0), (1979, 0.0), (1990, 0.0), (2021, 0.0), (2029, 0.0), (2059, 0.0), (2063, 0.0), (2069, 0.0), (2074, 0.0), (2078, 0.0), (2111, 0.0), (2116, 0.0), (2176, 0.0), (2183, 0.0), (2194, 0.0)]\n"
          ]
        }
      ]
    },
    {
      "cell_type": "code",
      "source": [
        "# print the name of similar movies based on the index\n",
        "\n",
        "print('Top 30 Movies Suggested for you: \\n')\n",
        "\n",
        "i = 1\n",
        "\n",
        "for movie in Sorted_Similar_Movies:\n",
        "    index = movie[0]\n",
        "    title_from_index = ms[ms.index==index]['movie_name'].values[0]\n",
        "    if (i<31):\n",
        "        print(i, '.',title_from_index)\n",
        "        i+=1"
      ],
      "metadata": {
        "execution": {
          "iopub.status.idle": "2023-05-17T19:25:03.590615Z",
          "shell.execute_reply.started": "2023-05-17T19:25:02.163985Z",
          "shell.execute_reply": "2023-05-17T19:25:03.589238Z"
        },
        "trusted": true,
        "id": "Xi7K_S3s1cyt",
        "colab": {
          "base_uri": "https://localhost:8080/"
        },
        "outputId": "3141943b-746b-4c1e-925c-8f25dae41d56"
      },
      "execution_count": 243,
      "outputs": [
        {
          "output_type": "stream",
          "name": "stdout",
          "text": [
            "Top 30 Movies Suggested for you: \n",
            "\n",
            "1 . Jailer\n",
            "2 . Radhe\n",
            "3 . Parvarish\n",
            "4 . Agneepath\n",
            "5 . Veer\n",
            "6 . Kochadaiiyaan\n",
            "7 . Ram Gopal Varma Ki Aag\n",
            "8 . Finding Fanny\n",
            "9 . Sabse Bada Khiladi\n",
            "10 . Jung\n",
            "11 . Tridev\n",
            "12 . Pyasa Darinda\n",
            "13 . Raju Ban Gaya Gentleman\n",
            "14 . Mithya\n",
            "15 . Gardish\n",
            "16 . Commando\n",
            "17 . Shakti\n",
            "18 . Hum\n",
            "19 . Kaamyaab\n",
            "20 . Raja Babu\n",
            "21 . Baap\n",
            "22 . Khal Nayak\n",
            "23 . Darbar\n",
            "24 . Kya Yehi Pyaar Hai\n",
            "25 . Bhagwaan Dada\n",
            "26 . Can0 Road: The Beginning\n",
            "27 . Dishoom\n",
            "28 . Tezz\n",
            "29 . Duplicate\n",
            "30 . Teri Meherbaniyan\n"
          ]
        }
      ]
    },
    {
      "cell_type": "markdown",
      "source": [
        "# **Top 10 Movie Recommendation System**"
      ],
      "metadata": {
        "id": "MmfAAyDb1cyt"
      }
    },
    {
      "cell_type": "code",
      "source": [
        "Movie_Name = input('Enter your favorite movie name: ')\n",
        "\n",
        "list_of_all_titles = ms['movie_name'].tolist()\n",
        "\n",
        "Find_Close_Match = difflib.get_close_matches(Movie_Name, list_of_all_titles)\n",
        "\n",
        "Close_Match = Find_Close_Match[0]\n",
        "\n",
        "Index_of_Movie = ms[ms.movie_name == Close_Match]['id'].values[0]\n",
        "\n",
        "Recommendation_Score = list(enumerate(Similarity_Score[Index_of_Movie]))\n",
        "\n",
        "sorted_similar_movies = sorted(Recommendation_Score, key = lambda x:x[1], reverse = True)\n",
        "\n",
        "print('Top 10 Movies suggested for you : \\n')\n",
        "\n",
        "i = 0\n",
        "\n",
        "for movie in sorted_similar_movies:\n",
        "    index = movie[0]\n",
        "    title_from_index = ms[ms.id==index]['movie_name'].values\n",
        "    if (i<10):\n",
        "        print(i,'.',title_from_index)\n",
        "        i+=1"
      ],
      "metadata": {
        "execution": {
          "iopub.status.busy": "2023-05-17T19:25:03.592758Z",
          "iopub.execute_input": "2023-05-17T19:25:03.593429Z",
          "iopub.status.idle": "2023-05-17T19:25:08.898363Z",
          "shell.execute_reply.started": "2023-05-17T19:25:03.593374Z",
          "shell.execute_reply": "2023-05-17T19:25:08.897024Z"
        },
        "trusted": true,
        "id": "a5qbAGpe1cyt",
        "outputId": "cc0409de-851d-4346-b53a-a08da69b5428",
        "colab": {
          "base_uri": "https://localhost:8080/"
        }
      },
      "execution_count": 253,
      "outputs": [
        {
          "output_type": "stream",
          "name": "stdout",
          "text": [
            "Enter your favorite movie name: dhoom\n",
            "Top 10 Movies suggested for you : \n",
            "\n",
            "0 . ['Dhoom']\n",
            "1 . ['Dhoom:2']\n",
            "2 . ['Sarkar 3']\n",
            "3 . ['Kaante']\n",
            "4 . ['Sultan']\n",
            "5 . ['Mohabbatein']\n",
            "6 . ['Dishoom']\n",
            "7 . ['Kabul Express']\n",
            "8 . ['Housefull 5']\n",
            "9 . ['Dhoom:3']\n"
          ]
        }
      ]
    }
  ]
}
